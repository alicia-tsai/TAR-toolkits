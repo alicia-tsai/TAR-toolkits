{
 "cells": [
  {
   "cell_type": "code",
   "execution_count": 1,
   "metadata": {},
   "outputs": [],
   "source": [
    "import numpy as np\n",
    "import pandas as pd\n",
    "from gensim.summarization.summarizer import summarize"
   ]
  },
  {
   "cell_type": "code",
   "execution_count": 3,
   "metadata": {},
   "outputs": [
    {
     "data": {
      "text/html": [
       "<div>\n",
       "<style scoped>\n",
       "    .dataframe tbody tr th:only-of-type {\n",
       "        vertical-align: middle;\n",
       "    }\n",
       "\n",
       "    .dataframe tbody tr th {\n",
       "        vertical-align: top;\n",
       "    }\n",
       "\n",
       "    .dataframe thead th {\n",
       "        text-align: right;\n",
       "    }\n",
       "</style>\n",
       "<table border=\"1\" class=\"dataframe\">\n",
       "  <thead>\n",
       "    <tr style=\"text-align: right;\">\n",
       "      <th></th>\n",
       "      <th>date</th>\n",
       "      <th>title</th>\n",
       "      <th>content</th>\n",
       "    </tr>\n",
       "  </thead>\n",
       "  <tbody>\n",
       "    <tr>\n",
       "      <th>0</th>\n",
       "      <td>2019-04-22</td>\n",
       "      <td>Strong Earthquake Shakes Areas North of Philip...</td>\n",
       "      <td>A strong earthquake shook the Philippine capit...</td>\n",
       "    </tr>\n",
       "    <tr>\n",
       "      <th>1</th>\n",
       "      <td>2019-04-22</td>\n",
       "      <td>At least three dead due to quake, Pampanga gov...</td>\n",
       "      <td>The earthquake that jolted Luzon Monday aftern...</td>\n",
       "    </tr>\n",
       "    <tr>\n",
       "      <th>2</th>\n",
       "      <td>2019-04-22</td>\n",
       "      <td>6.1-magnitude earthquake in Philippine main Lu...</td>\n",
       "      <td>At least six people were killed after a 6.1-ma...</td>\n",
       "    </tr>\n",
       "    <tr>\n",
       "      <th>3</th>\n",
       "      <td>2019-04-22</td>\n",
       "      <td>Phivolcs: No technology yet to predict earthqu...</td>\n",
       "      <td>The Philippine Institute of Volcanology and Se...</td>\n",
       "    </tr>\n",
       "    <tr>\n",
       "      <th>4</th>\n",
       "      <td>2019-04-22</td>\n",
       "      <td>Earthquake of 6.3 magnitude strikes central Ph...</td>\n",
       "      <td>Walls move in circular fashion' as strong temb...</td>\n",
       "    </tr>\n",
       "  </tbody>\n",
       "</table>\n",
       "</div>"
      ],
      "text/plain": [
       "         date                                              title  \\\n",
       "0  2019-04-22  Strong Earthquake Shakes Areas North of Philip...   \n",
       "1  2019-04-22  At least three dead due to quake, Pampanga gov...   \n",
       "2  2019-04-22  6.1-magnitude earthquake in Philippine main Lu...   \n",
       "3  2019-04-22  Phivolcs: No technology yet to predict earthqu...   \n",
       "4  2019-04-22  Earthquake of 6.3 magnitude strikes central Ph...   \n",
       "\n",
       "                                             content  \n",
       "0  A strong earthquake shook the Philippine capit...  \n",
       "1  The earthquake that jolted Luzon Monday aftern...  \n",
       "2  At least six people were killed after a 6.1-ma...  \n",
       "3  The Philippine Institute of Volcanology and Se...  \n",
       "4  Walls move in circular fashion' as strong temb...  "
      ]
     },
     "execution_count": 3,
     "metadata": {},
     "output_type": "execute_result"
    }
   ],
   "source": [
    "data = pd.read_csv(\"philippine_earthquake_daily.csv\")\n",
    "data.head()"
   ]
  },
  {
   "cell_type": "code",
   "execution_count": 9,
   "metadata": {},
   "outputs": [
    {
     "data": {
      "text/plain": [
       "array(['2019-04-22', '2019-04-23', '2019-04-24', '2019-04-25',\n",
       "       '2019-04-26', '2019-04-27'], dtype=object)"
      ]
     },
     "execution_count": 9,
     "metadata": {},
     "output_type": "execute_result"
    }
   ],
   "source": [
    "data.date.unique()"
   ]
  },
  {
   "cell_type": "code",
   "execution_count": 15,
   "metadata": {},
   "outputs": [],
   "source": [
    "result = {}\n",
    "for date in data.date.unique():\n",
    "    text = \" \".join(data[data.date == date].content.tolist())\n",
    "    result[date] = summarize(text, ratio=0.1)"
   ]
  },
  {
   "cell_type": "code",
   "execution_count": 24,
   "metadata": {},
   "outputs": [
    {
     "name": "stdout",
     "output_type": "stream",
     "text": [
      "Ricardo Salad, executive director of the council, said the earthquake also left 81 people injured while 14 others remained missing in central Luzon provinces of Pampanga and Zambales.\n",
      "Philippine Institute of Volcanology and Seismology said Monday's earthquake was detected at a depth of 12 km about 18 km northeast of Castillejos, a town in Zambales province in the western part of Luzon.\n",
      "Following the first earthquake on Monday, a 6.5-magnitude earthquake struck Eastern Samar province in the central Philippines at 1.37pm local time on Tuesday.\n",
      "have dispatched rescue teams to help find survivors of the collapsed building in Porac, with the electric company providing the generator sets, floodlights, and heavy equipment.\n",
      "On Aug. 17, 1983, a 6.5-magnitude, Intensity 7 earthquake was felt in Laoag City and the municipality of Pasuquin in Ilocos Norte.\n",
      "A number of reinforced concrete buildings either totally crumbled or sustained major structural damage beyond rehabilitation.\n",
      "On Feb. 8, 1990, a 6.8-magnitude earthquake, which was felt at Intensity 8, hit the municipalities of Jagna, Duero and Guindulman in Bohol.\n",
      "Two days later, a 5.0-magnitude earthquake was felt at Intensity 6 in Talacogon, Agusan del Sur. The earthquake caused damages to bridges, roads, schools, a commercial complex, a telephone station and the municipal hall of the town of Talacogon.\n",
      "On Oct. 15, 2013, the 7.2-magnitude earthquake, felt at Intensity 7, in Tagbilaran City, Bohol caused major destruction in the province.\n"
     ]
    }
   ],
   "source": [
    "print(result[\"2019-04-27\"])"
   ]
  },
  {
   "cell_type": "code",
   "execution_count": null,
   "metadata": {},
   "outputs": [],
   "source": []
  }
 ],
 "metadata": {
  "hide_input": false,
  "kernelspec": {
   "display_name": "Python 3",
   "language": "python",
   "name": "python3"
  },
  "language_info": {
   "codemirror_mode": {
    "name": "ipython",
    "version": 3
   },
   "file_extension": ".py",
   "mimetype": "text/x-python",
   "name": "python",
   "nbconvert_exporter": "python",
   "pygments_lexer": "ipython3",
   "version": "3.7.4"
  },
  "varInspector": {
   "cols": {
    "lenName": 16,
    "lenType": 16,
    "lenVar": 40
   },
   "kernels_config": {
    "python": {
     "delete_cmd_postfix": "",
     "delete_cmd_prefix": "del ",
     "library": "var_list.py",
     "varRefreshCmd": "print(var_dic_list())"
    },
    "r": {
     "delete_cmd_postfix": ") ",
     "delete_cmd_prefix": "rm(",
     "library": "var_list.r",
     "varRefreshCmd": "cat(var_dic_list()) "
    }
   },
   "types_to_exclude": [
    "module",
    "function",
    "builtin_function_or_method",
    "instance",
    "_Feature"
   ],
   "window_display": false
  }
 },
 "nbformat": 4,
 "nbformat_minor": 2
}
