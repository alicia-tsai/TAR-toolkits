{
 "cells": [
  {
   "cell_type": "markdown",
   "metadata": {},
   "source": [
    "# Earthquake Report Summarization\n",
    "\n",
    "**This notebook contains functions for extracting summaries from multiple sections, by using both TextRank and query search.**"
   ]
  },
  {
   "cell_type": "code",
   "execution_count": 2,
   "metadata": {},
   "outputs": [],
   "source": [
    "import numpy as np\n",
    "import pandas as pd\n",
    "from gensim.summarization.summarizer import summarize\n",
    "from nltk import tokenize"
   ]
  },
  {
   "cell_type": "markdown",
   "metadata": {},
   "source": [
    "# 1. Define Parameters and Queries "
   ]
  },
  {
   "cell_type": "code",
   "execution_count": 8,
   "metadata": {},
   "outputs": [],
   "source": [
    "# sections you want to summarize\n",
    "sections = [\"motivation\", \"objectives\", \n",
    "            \"methodology\", \"results\", \"conclusions\"]\n",
    "\n",
    "# desired summary lengths (these are used to change the ratio)\n",
    "s_lengths = [1400, 1400, 4000, 4000, 1700]\n",
    "\n",
    "# queries used for each section\n",
    "queries = {\"motivation\": ['motivation', 'motive', 'reasoning', 'why', 'purpose', 'scope'],\n",
    "           \"objectives\": ['objective', 'objectives', 'goal', 'aim', 'purpose', 'summary'],\n",
    "           \"methodology\": ['method', 'approach', 'analytical', 'experimental', 'theoretical',\n",
    "                           'numerical', 'field', 'simulation', 'data', 'probabilistic', \n",
    "                           'system', 'effect', 'affect', 'summary'],\n",
    "           \"results\": ['result', 'outcome', 'fnding', 'effect', 'affect', 'summary'],\n",
    "           \"conclusions\": ['conclusion', 'conclude', 'list', 'arrive', 'reach', 'finding', 'summary']}"
   ]
  },
  {
   "cell_type": "markdown",
   "metadata": {},
   "source": [
    "# 2.Generate the Summary"
   ]
  },
  {
   "cell_type": "markdown",
   "metadata": {},
   "source": [
    "### Control: Plain Summary"
   ]
  },
  {
   "cell_type": "code",
   "execution_count": 4,
   "metadata": {},
   "outputs": [],
   "source": [
    "result_plain = {}\n",
    "for i in range(5):\n",
    "    with open(\"report2/{}.txt\".format(sections[i]), \"r\") as f:\n",
    "        t = f.read()\n",
    "        \n",
    "        result_plain[sections[i]] = summarize(t, ratio=s_lengths[i]/len(t))"
   ]
  },
  {
   "cell_type": "markdown",
   "metadata": {},
   "source": [
    "### Experiment: TextRank with context (surrounding sentences) + query-searched sentences"
   ]
  },
  {
   "cell_type": "code",
   "execution_count": 9,
   "metadata": {},
   "outputs": [],
   "source": [
    "result_context = {}\n",
    "result_keyword = {}\n",
    "for i in range(5):\n",
    "    with open(\"report1/{}.txt\".format(sections[i]), \"r\") as f:\n",
    "        t = f.read()\n",
    "        context_list = []\n",
    "        keyword_list = []\n",
    "        sent_list = tokenize.sent_tokenize(t) \n",
    "        summa_list = tokenize.sent_tokenize(summarize(t, ratio=s_lengths[i]/(len(t)*3))) \n",
    "        context_ind_set = set()\n",
    "        keyword_ind_set = set()\n",
    "        for summa_sent in summa_list:\n",
    "#             j = sent_list.index(summa_sent)\n",
    "            for j in range(len(sent_list)-1, -1, -1):\n",
    "                if summa_sent in sent_list[j]:\n",
    "                    break\n",
    "            if j > 0:\n",
    "                context_ind_set.add(j-1)\n",
    "            context_ind_set.add(j)\n",
    "            if j < len(sent_list) - 1:\n",
    "                context_ind_set.add(j+1)\n",
    "                \n",
    "        for query in queries[sections[i]]:\n",
    "            for i in range(len(sent_list)):\n",
    "                sent = sent_list[i]\n",
    "                if query in sent:\n",
    "                    keyword_ind_set.add(i)\n",
    "            \n",
    "        for c_ind in context_ind_set:\n",
    "            context_list.append(sent_list[c_ind])\n",
    "            \n",
    "        for k_ind in context_ind_set:\n",
    "            keyword_list.append(sent_list[k_ind])\n",
    "        \n",
    "        result_context[sections[i]] = \" \".join(context_list)\n",
    "        result_keyword[sections[i]] = \" \".join(keyword_list)"
   ]
  },
  {
   "cell_type": "code",
   "execution_count": 6,
   "metadata": {},
   "outputs": [
    {
     "data": {
      "text/plain": [
       "{'motivation': 'Figure 1.3 shows a bilinear force-displacement curve, which is generally representative of several types of energy-dissipating isolation devices.\\nThe results of the test program demonstrated two direct effects of vertical shaking that may need to be considered in the lateral design of isolated structures.\\nSpecifically, the high-frequency component introduced into the base shear by the vertical motion caused the activation of higher structural modes.',\n",
       " 'objectives': 'As outlined above, although quite a few previous experimental studies reported no significant influence of vertical motion on the horizontal response isolated structures, the experimental test on a full-scale five-story steel moment frame building isolated with TPBs at E-defense demonstrated that vertical shaking can increase the base shear and horizontal acceleration.\\nThe primary objectives of this study are as follows: (1) to develop a physical understanding of the phenomena by which responses in bridges isolated with spherical sliding bearings are amplified due to vertical shaking; and (2) to develop a simplified method to estimate the amplification of the base-shear coefficient for this class of bridges.',\n",
       " 'methodology': 'For most investigations, ground motions are selected and scaled for a target intensity or target spectrum in the horizontal direction only, without regard to the vertical component.\\nThe procedure used to scale the ground motions to best fit the target spectrum was as follows [Carlton 2014]: first, motions were rotated to the direction that maximized the spectral acceleration at a period T = 1 sec.\\nThe vertical spectral shape resembles a standard code horizontal spectrum [ASCE 2017] but with fixed transition periods at 0.05 sec and 0.15 sec that determine the start and end of the constant acceleration region.\\nTo better understand the influence of intensity on the bridge response, the ground motions have been divided into three groups based on scaled vertical PGA intensity ranges; see Table 2.2.\\nFigures 2.4 and 2.5 show acceleration spectra for individual scaled motions plotted against the target spectrum for horizontal and vertical components, respectively.\\nIsolation system parameter variations were also applied to the Base Model bridge to investigate the influence of friction coefficient and isolation period on bridge response to combined horizontal and vertical ground motions.\\nTable 3.3 lists the isolator parameter variations considered for Base Model bridge.\\nThe bridges in this study were isolated with TPBs, although the observations regarding the influence of vertical shaking are expected to apply generally to any type of spherical sliding bearing.\\nThe radii of these curved surfaces, R1, R2, and R3, and the friction coefficients of the sliding interfaces, µ1, µ2, and µ3, determine the hysteretic response of the TPBs. Parameters d1, d2, and d3 represent displacement limits of the pendulum mechanisms, and h1, h2, and h3 are slider heights; see Figure 3.7.\\nIn the first stage, shown in Figure 3.9, sliding occurs between Interfaces 2 and 3 when the normalized horizontal force, , exceeds the friction coefficient µ1.\\nIn the second stage of sliding, the normalized horizontal force, , exceeds the friction coefficient, µ2, and the inner slider slides on the upper articulated slider (Interface 3), while, simultaneously, the lower articulated slider slides on the bottom concave plate (Interface 1) (Figure 3.9).\\nThe third stage of sliding starts when the normalized horizontal force  acting on the isolators exceeds the friction coefficient µ3.\\nThe normalized backbone curve used in this study for the Base Model bridge is shown in Figure 3.10.\\nWhen vertical acceleration is considered, the system base shear should be determined from the instantaneous normal force, N, on the isolators rather than the static weight of the structure:\\nFor the Base Model bridge configuration, Tv = 0.2 sec is selected because it approximately corresponds to Mode 7, the dominant vertical mode observed in the response; see Figure 4.21.',\n",
       " 'results': 'Figures 4.2 and 4.3 suggest that high-frequency vertical oscillation was transferred to the acceleration and base shear during 3D motion, which increased the shear force demand on the bridge piers.\\nOverall, peak accelerations in the longitudinal and transverse directions during 2D motion are lower than exhibited by Group 1 (Figure 4.7 versus Figure 4.2) due to comparatively lower horizontal shaking intensities; during the 3D motion, they are lower due to comparatively lower PGAV.\\nOne notable difference in the response to this motion compared to the motions examined for Groups 1 and 2 is that the AR for longitudinal direction acceleration and base shear is higher than for the transverse direction.\\nThe AR for peak accelerations and total base shear are also tabulated in Table 4.2, which also shows the AR averaged over each ground-motion group.\\nThe spectral response for accelerations at Bent 1 in the longitudinal, transverse, and vertical directions due to the SFPU motion are plotted in Figure 4.19.\\nFigures 5.1 and 5.2 present the simulated base-shear coefficients for 2D and 3D motions, along with base-shear coefficient for 3D motions estimated with different amplification factors in the transverse and longitudinal directions, respectively.\\nFigures 5.3 and 5.4 present AE for all motions in the transverse and longitudinal directions, respectively, for all three values of amplification factor ν.\\nFigures 5.5 and 5.6 compare BSNE for the base-shear estimates in the transverse and longitudinal directions, respectively, for different values of the amplification factor ν.\\nIn the transverse direction, where coupling was observed between the transverse horizontal and vertical modes, the largest amplification factor can still underestimate the base shear for high-intensity vertical motions.\\nThe objective was to evaluate the accuracy of the proposed base-shear estimation methods and amplification factors across a range of isolation periods and friction coefficients.\\nFor the high-intensity motion SFPU, amplification of the base-shear coefficient from 2D to 3D is significant for all isolation system parameters; see Figure 6.1(a)-(b).\\nFor ν = Sa(Tv)/PGAV, the estimated base-shear amplification differs for different bridge models only due to changes in the period of the dominant vertical mode.\\nUnder the Group 1 motion SFPU, the base-shear amplification is high for all bridge models in both longitudinal and transverse directions [Figure 6.5(a) and (b)].\\nThe base-shear coefficient and its amplification due to vertical shaking is least sensitive to bridge modeling parameters for the Group 2 moderate-intensity motion LGP [Figure 6.5(c) and (d)].',\n",
       " 'conclusions': 'In this study, a series of ground motions with a wide range of vertical shaking intensity were applied to three-dimensional models of bridges isolated with triple pendulum bearings (TPBs) that both excluded the vertical component (2D shaking) and included the vertical component (3D motion).\\nThe theory predicts that the amplification of base shear is proportional to (uo/Reff + m), where uo is peak isolator displacement, Reff is the radius and m the friction coefficient of the effective pendulum mechanism, as well as PGAV, thus accounting for any variation of isolation system parameters in the estimate.\\nThe simplified method with a different amplification factor was assessed over a range of isolation parameters and bridge parameter variations.\\nThe transverse-direction base shear in the Base Model bridge was amplified by factors ranging from 1.39 to 3.59 for the Group 1 motions, 1.12 to 1.52 for the Group 2 motions, and 1.21 to 1.26 in Group 3 motions.\\nThe proposed method to estimate base shear for 3D shaking well captures these observed trends in the base-shear coefficient vs isolation system parameters.\\nDifferences in base-shear amplification for bridge superstructure parameter variations were insignificant, and the simplified method also estimated base shear for 3D shaking accurately across the range of bridge model variations.'}"
      ]
     },
     "execution_count": 6,
     "metadata": {},
     "output_type": "execute_result"
    }
   ],
   "source": [
    "result_plain"
   ]
  },
  {
   "cell_type": "code",
   "execution_count": 10,
   "metadata": {
    "scrolled": false
   },
   "outputs": [
    {
     "data": {
      "text/plain": [
       "{'motivation': 'It is known that axial force or strain affects the shear capacity. As an example, near-fault vertical ground motions may lead to tensile forces on the bridge columns during short time intervals, leading to negligible contribution of concrete to shear capacity after cracking. Although the effect of axial force on shear capacity is an accepted fact, current seismic codes do not have a consensus on this effect, and different code equations might lead to different shear capacity estimations. On the demand side, axial forces that are not taken into consideration, such as those due to vertical excitation, may lead to an increase in the moment capacities, resulting in greater shear forces than expected.',\n",
       " 'objectives': 'The main objective of this study is to investigate the effect of axial force produced by the vertical component of the ground motion on the behavior of bridge columns, especially on shear strength degradation. An outline of the research program is presented in Figure 1.1. Using a sub-set of ground motions from the Pacific Earthquake Engineering Research (PEER) Center’s Next Generation Attenuation (NGA) ground motion database [2013], with strong influence of the vertical acceleration, the shear demand was compared to capacity suggested in current codes. The outline of specimen design and input candidates were determined based on the parametric study results. Second, dynamic tests were designed and test results reported. Fidelity tests were used to choose the most suitable motion that could be replicated by the shaking table at the Richmond Field Station, University of California, Berkeley (UCB). Dynamic tests of two specimens were conducted and the results imply that vertical acceleration has the potential to degrade the shear capacity of an RC bridge column. Third, a new OpenSees shear spring element was developed because existing elements do not reflect the ductility-axial-shear coupled behavior.',\n",
       " 'methodology': 'This chapter presents the analyses conducted prior to the planned shaking table tests on the PEER earthquake simulator of University of California, Berkeley (UCB). Results of these analyses were utilized as a guidance to select the ground motions, column geometry, and reinforcement, and the set-up of the shaking table tests. First, the method used for selecting a smaller number of critical ground motions from a larger set is presented. Reduction of shear strength (Red) due to application of X+Y+Z (or X+Y) is smaller than that due to application of X+Z, Y+Z (or X, Y). For shear strength demand to capacity ratio (Maxdcr) values, the order in estimates of different codes is Eurocode < ACI ≤ SDC < CSA, on average. The inequality between ACI and SDC holds when tension is present. For shear strength reduction (Red) values, the order in estimates of different codes is CSA < SDC < ACI ≈ Eurocode, on average. A smaller AR tends to have a larger Maxdcr, and a larger AR tends to have a slightly larger Red factor (i.e., it is reduced less). Therefore, in the case without vertical excitation, their capacity predictions do not differ from ground motion to ground motion or from AR to AR compared to those from CSA. CSA takes the effect of axial force into consideration by using axial strain at the centroid of the section, resulting in differences in the shear capacity predictions for different ground motions and different ARs in cases without vertical excitation, since the axial strain at the centroid of the section is not only affected by the axial force but also by the bending moment. Among 3551 earthquake acceleration records in the PEER NGA database and discarding those records with only low-frequency content, 61 ground motions were selected as input candidates based on three criteria: (1) at least one of the horizontal components should have the PGA larger than 0.25g; (2) For the 20 pairs of periods Th-Tv (Tv=0.05, 0.1, 0.15, and 0.2 sec and Th=0.4, 0.5, 0.6, 0.7, and 0.8 sec), the PSav/PSah1 or PSav/PSah2 were calculated based on the ratio of the pseudo-spectral acceleration corresponding to the vertical component (PSav) to those corresponding to the horizontal components (PSah1, PSah2), where if one of these two ratios is larger than 1.0 in at least 15 pairs, the ground motion is selected as one of candidates; and (3) the arrival time interval between horizontal and vertical peak accelerations is considered, which affects the interaction of the horizontal and the vertical responses. The interval should be shorter than the cut-off of 1 sec. A parametric study was conducted on columns designed with the modified effective circular section of Prototype 1 (ACB) and subjected to ground motions to evaluate the effect of vertical excitation. The following parameters were varied: ground motion, number of components, mass moment of inertia, and AR. Note that ACI, SDC, and Eurocode documents explicitly consider axial force. CSA, however, takes the effect of axial force into consideration by using axial strain at the centroid of the cross section, resulting in differences in the shear capacity predictions for different ground motions and different ARs, even cases without vertical excitation. This is because the axial strain at the centroid of the cross-section is not only affected by the axial force but also by the bending moment. Due to limitation of facilities, to date only a few shaking table tests have been conducted to examine the effect of vertical acceleration on bridge columns. To perform tests on the UC Berkeley shaking table at the Richmond Field Station (RFS), 1/4-scale bridge column specimens, instrumentation, and input sequence were prepared to investigate the response of a bridge column subjected to the horizontal and vertical dynamic excitations. The performance of the UC-Berkeley shaking table is acceptable to test the proposed mass and C.G. Therefore, the proposed testing regimen is feasible unless bigger mass or higher C.G is utilized. Among the four ground motions that were selected based on the analytical study, GM7 is the most suitable for dynamic tests with vertical excitation considering the shaking table characteristics. The GM7-MCE level is the highest level that was applied in the fidelity tests; the response spectra suggest that the shaking table performance is still acceptable. Therefore, the GM7-MCE level and the fidelity set-up mass and C.G height are considered as defining the upper limit for the excitation and specimen configuration in this study. The dynamic tests to examine the effect of vertical excitation on shear strength of RC bridge columns were designed within capacity of the UC-Berkeley shaking table located at the Richmond Field Station. The 1/4-geometric scale for the test specimens as selected.',\n",
       " 'results': 'The acceleration recorded on the mass in the X-direction had a low frequency content and low amplitude compared to that at the top of the column or on the table which was due to the rigid body rotation of mass blocks. The maximum acceleration at the top of the column or on the mass blocks did not increase linearly with that on the table or the input intensity for two reasons First, the lateral stiffness of the column decreased with increasing level of intensity; second, the base shear capacity of the column was reached at the higher intensity levels. In contrast, the acceleration histories in the Z-direction were almost the same on the table, along the column height, and on top of the mass blocks. The maximum values linearly increased with the input intensity since axial forces were in the linear range and therefore axial stiffness variation was minor. Tension in the columns is believed to result in degradation of shear strength, which is mainly due to the degradation of concrete contribution to shear strength. Comparison of bending moment histories at the base and top of both of the specimens indicated that they were opposite in sign during the strong part of the excitation of all the intensity levels, suggesting that the columns were in double-curvature. Moments at the base and top were similar in sign after the strong part of the excitation ceased for all the tests. Note that three 125%-scale resulted in similar maximum moment values, suggesting that the axial force variation did not affect the bending moment noticeably. The relative displacement histories captured the horizontal and vertical movement of each specimen. The change of lateral stiffness is clearly shown in the shear force-lateral displacement relationship. From 95%-scale tests, the decrease in lateral stiffness had a directional difference, implying that the damage was not symmetric on the north and south. In the last 125%-scale test, stiffness in the positive direction was about 17% of that in 50%-scale test. In the axial force-vertical displacement relation, no significant decrease in stiffness was observed. Flexural damage took place both at the top and base of the column as the scale of the ground motion increased, and flexural damage at the top of the column occurred before that at the base since the moment at the top was larger. did not change significantly. The longitudinal strain response was measured at the four reinforcing bars on the north, south, east, and west sides. A total of six cross sections were instrumented for the north and south direction, and three cross sections were instrumented for the east and west direction. As observed in the curvature responses, double-curvature was confirmed by the longitudinal strain on the north and south sides (since the phase angle between the time histories of the strain measurements was shifted along the height during the main excitation). The largest longitudinal strain was detected near the top of the column. Each model considered columns without shear springs (A-1 and B-1) and with shear springs, designated as A-2-ACI, A-2-SDC, B-2-ACI, and B-2-SDC. For the input motion in X- and Y-directions, the acceleration histories recorded on the shaking table during 50% to 125%-scale tests were used. For the Z-direction, because of the flexibility of the shaking table, the axial force recorded by the load cells (after summation of all four values) was used instead of vertical acceleration. The computational results were compared with those obtained from the tests. The computational models containing BWH and NLBC elements provided similar results Both models were successful in capturing the shear force and lateral displacement history measured during the tests. They captured the rotational mode effect on the moment at the column top accurately.',\n",
       " 'conclusions': 'Tension in the columns resulted in degradation of shear strength, which was mainly due to the degradation of the concrete contribution to shear strength. Reduction in the concrete strength was also evidenced by the comparison of shear cracks in the 125%-scale horizontal only and horizontal and vertical tests. Flexural damage at the top of the column took place before the flexural damage at the base since the bending moment at the top was larger. Shear cracks occurred as a result. Tensile force due to vertical excitation reduced the shear strength and increased shear cracks. Developed computational models were successful in capturing the shear force and displacement histories measured during the tests. Accurate representation of the vertical displacement response required a more detailed finite element model so that cracking could be modeled. However, because vertical displacement produced by the axial force was the end result of this investigation, which does not change the interaction of axial and shear response; such a detailed finite element model was not considered. Both the ACI-218-11 and SDC equations captured the shear strength degradation due to axial force.'}"
      ]
     },
     "execution_count": 10,
     "metadata": {},
     "output_type": "execute_result"
    }
   ],
   "source": [
    "result_context"
   ]
  },
  {
   "cell_type": "markdown",
   "metadata": {},
   "source": [
    "## Appendix \n",
    "\n",
    "**contains how to use docx library to directly get the txt files.**"
   ]
  },
  {
   "cell_type": "code",
   "execution_count": 1,
   "metadata": {},
   "outputs": [],
   "source": [
    "import docx\n",
    "\n",
    "doc = docx.Document(\"PEER_Report.docx\")\n",
    "fullText = []\n",
    "for para in doc.paragraphs:\n",
    "    fullText.append(para.text)\n",
    "text = '\\n'.join(fullText)"
   ]
  },
  {
   "cell_type": "code",
   "execution_count": null,
   "metadata": {},
   "outputs": [],
   "source": [
    "text[:10000]"
   ]
  }
 ],
 "metadata": {
  "kernelspec": {
   "display_name": "Python 3",
   "language": "python",
   "name": "python3"
  },
  "language_info": {
   "codemirror_mode": {
    "name": "ipython",
    "version": 3
   },
   "file_extension": ".py",
   "mimetype": "text/x-python",
   "name": "python",
   "nbconvert_exporter": "python",
   "pygments_lexer": "ipython3",
   "version": "3.7.4"
  }
 },
 "nbformat": 4,
 "nbformat_minor": 2
}
