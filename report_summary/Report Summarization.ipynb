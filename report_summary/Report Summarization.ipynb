{
 "cells": [
  {
   "cell_type": "code",
   "execution_count": 1,
   "metadata": {},
   "outputs": [],
   "source": [
    "import numpy as np\n",
    "import pandas as pd\n",
    "from gensim.summarization.summarizer import summarize\n",
    "from nltk import tokenize"
   ]
  },
  {
   "cell_type": "code",
   "execution_count": 7,
   "metadata": {},
   "outputs": [],
   "source": [
    "# sections you want to summarize\n",
    "sections = [\"motivation\", \"objectives\", \n",
    "            \"methodology\", \"results\", \"conclusions\"]\n",
    "\n",
    "# desired summary lengths (these are used to change the ratio)\n",
    "s_lengths = [500, 700, 2000, 2000, 1000]"
   ]
  },
  {
   "cell_type": "code",
   "execution_count": 8,
   "metadata": {},
   "outputs": [],
   "source": [
    "result_plain = {}\n",
    "for i in range(5):\n",
    "    with open(\"report2/{}.txt\".format(sections[i]), \"r\") as f:\n",
    "        t = f.read()\n",
    "        \n",
    "        result_plain[sections[i]] = summarize(t, ratio=s_lengths[i]/len(t))"
   ]
  },
  {
   "cell_type": "code",
   "execution_count": 14,
   "metadata": {},
   "outputs": [],
   "source": [
    "result_context = {}\n",
    "for i in range(5):\n",
    "    with open(\"report2/{}.txt\".format(sections[i]), \"r\") as f:\n",
    "        t = f.read()\n",
    "        context_list = []\n",
    "        sent_list = tokenize.sent_tokenize(t) \n",
    "        summa_list = tokenize.sent_tokenize(summarize(t, ratio=s_lengths[i]/(len(t)*3))) \n",
    "        for summa_sent in summa_list:\n",
    "            j = sent_list.index(summa_sent)\n",
    "            if j > 0:\n",
    "                context_list.append(sent_list[j-1])\n",
    "            context_list.append(sent_list[j])\n",
    "            if j < len(sent_list) - 1:\n",
    "                context_list.append(sent_list[j+1])\n",
    "        \n",
    "        result_context[sections[i]] = \" \".join(context_list)"
   ]
  },
  {
   "cell_type": "code",
   "execution_count": 6,
   "metadata": {},
   "outputs": [
    {
     "data": {
      "text/plain": [
       "{'motivation': 'Figure 1.3 shows a bilinear force-displacement curve, which is generally representative of several types of energy-dissipating isolation devices.\\nThe results of the test program demonstrated two direct effects of vertical shaking that may need to be considered in the lateral design of isolated structures.\\nSpecifically, the high-frequency component introduced into the base shear by the vertical motion caused the activation of higher structural modes.',\n",
       " 'objectives': 'As outlined above, although quite a few previous experimental studies reported no significant influence of vertical motion on the horizontal response isolated structures, the experimental test on a full-scale five-story steel moment frame building isolated with TPBs at E-defense demonstrated that vertical shaking can increase the base shear and horizontal acceleration.\\nThe primary objectives of this study are as follows: (1) to develop a physical understanding of the phenomena by which responses in bridges isolated with spherical sliding bearings are amplified due to vertical shaking; and (2) to develop a simplified method to estimate the amplification of the base-shear coefficient for this class of bridges.',\n",
       " 'methodology': 'For most investigations, ground motions are selected and scaled for a target intensity or target spectrum in the horizontal direction only, without regard to the vertical component.\\nThe procedure used to scale the ground motions to best fit the target spectrum was as follows [Carlton 2014]: first, motions were rotated to the direction that maximized the spectral acceleration at a period T = 1 sec.\\nThe vertical spectral shape resembles a standard code horizontal spectrum [ASCE 2017] but with fixed transition periods at 0.05 sec and 0.15 sec that determine the start and end of the constant acceleration region.\\nTo better understand the influence of intensity on the bridge response, the ground motions have been divided into three groups based on scaled vertical PGA intensity ranges; see Table 2.2.\\nFigures 2.4 and 2.5 show acceleration spectra for individual scaled motions plotted against the target spectrum for horizontal and vertical components, respectively.\\nIsolation system parameter variations were also applied to the Base Model bridge to investigate the influence of friction coefficient and isolation period on bridge response to combined horizontal and vertical ground motions.\\nTable 3.3 lists the isolator parameter variations considered for Base Model bridge.\\nThe bridges in this study were isolated with TPBs, although the observations regarding the influence of vertical shaking are expected to apply generally to any type of spherical sliding bearing.\\nThe radii of these curved surfaces, R1, R2, and R3, and the friction coefficients of the sliding interfaces, µ1, µ2, and µ3, determine the hysteretic response of the TPBs. Parameters d1, d2, and d3 represent displacement limits of the pendulum mechanisms, and h1, h2, and h3 are slider heights; see Figure 3.7.\\nIn the first stage, shown in Figure 3.9, sliding occurs between Interfaces 2 and 3 when the normalized horizontal force, , exceeds the friction coefficient µ1.\\nIn the second stage of sliding, the normalized horizontal force, , exceeds the friction coefficient, µ2, and the inner slider slides on the upper articulated slider (Interface 3), while, simultaneously, the lower articulated slider slides on the bottom concave plate (Interface 1) (Figure 3.9).\\nThe third stage of sliding starts when the normalized horizontal force  acting on the isolators exceeds the friction coefficient µ3.\\nThe normalized backbone curve used in this study for the Base Model bridge is shown in Figure 3.10.\\nWhen vertical acceleration is considered, the system base shear should be determined from the instantaneous normal force, N, on the isolators rather than the static weight of the structure:\\nFor the Base Model bridge configuration, Tv = 0.2 sec is selected because it approximately corresponds to Mode 7, the dominant vertical mode observed in the response; see Figure 4.21.',\n",
       " 'results': 'Figures 4.2 and 4.3 suggest that high-frequency vertical oscillation was transferred to the acceleration and base shear during 3D motion, which increased the shear force demand on the bridge piers.\\nOverall, peak accelerations in the longitudinal and transverse directions during 2D motion are lower than exhibited by Group 1 (Figure 4.7 versus Figure 4.2) due to comparatively lower horizontal shaking intensities; during the 3D motion, they are lower due to comparatively lower PGAV.\\nOne notable difference in the response to this motion compared to the motions examined for Groups 1 and 2 is that the AR for longitudinal direction acceleration and base shear is higher than for the transverse direction.\\nThe AR for peak accelerations and total base shear are also tabulated in Table 4.2, which also shows the AR averaged over each ground-motion group.\\nThe spectral response for accelerations at Bent 1 in the longitudinal, transverse, and vertical directions due to the SFPU motion are plotted in Figure 4.19.\\nFigures 5.1 and 5.2 present the simulated base-shear coefficients for 2D and 3D motions, along with base-shear coefficient for 3D motions estimated with different amplification factors in the transverse and longitudinal directions, respectively.\\nFigures 5.3 and 5.4 present AE for all motions in the transverse and longitudinal directions, respectively, for all three values of amplification factor ν.\\nFigures 5.5 and 5.6 compare BSNE for the base-shear estimates in the transverse and longitudinal directions, respectively, for different values of the amplification factor ν.\\nIn the transverse direction, where coupling was observed between the transverse horizontal and vertical modes, the largest amplification factor can still underestimate the base shear for high-intensity vertical motions.\\nThe objective was to evaluate the accuracy of the proposed base-shear estimation methods and amplification factors across a range of isolation periods and friction coefficients.\\nFor the high-intensity motion SFPU, amplification of the base-shear coefficient from 2D to 3D is significant for all isolation system parameters; see Figure 6.1(a)-(b).\\nFor ν = Sa(Tv)/PGAV, the estimated base-shear amplification differs for different bridge models only due to changes in the period of the dominant vertical mode.\\nUnder the Group 1 motion SFPU, the base-shear amplification is high for all bridge models in both longitudinal and transverse directions [Figure 6.5(a) and (b)].\\nThe base-shear coefficient and its amplification due to vertical shaking is least sensitive to bridge modeling parameters for the Group 2 moderate-intensity motion LGP [Figure 6.5(c) and (d)].',\n",
       " 'conclusions': 'In this study, a series of ground motions with a wide range of vertical shaking intensity were applied to three-dimensional models of bridges isolated with triple pendulum bearings (TPBs) that both excluded the vertical component (2D shaking) and included the vertical component (3D motion).\\nThe theory predicts that the amplification of base shear is proportional to (uo/Reff + m), where uo is peak isolator displacement, Reff is the radius and m the friction coefficient of the effective pendulum mechanism, as well as PGAV, thus accounting for any variation of isolation system parameters in the estimate.\\nThe simplified method with a different amplification factor was assessed over a range of isolation parameters and bridge parameter variations.\\nThe transverse-direction base shear in the Base Model bridge was amplified by factors ranging from 1.39 to 3.59 for the Group 1 motions, 1.12 to 1.52 for the Group 2 motions, and 1.21 to 1.26 in Group 3 motions.\\nThe proposed method to estimate base shear for 3D shaking well captures these observed trends in the base-shear coefficient vs isolation system parameters.\\nDifferences in base-shear amplification for bridge superstructure parameter variations were insignificant, and the simplified method also estimated base shear for 3D shaking accurately across the range of bridge model variations.'}"
      ]
     },
     "execution_count": 6,
     "metadata": {},
     "output_type": "execute_result"
    }
   ],
   "source": [
    "result_plain"
   ]
  },
  {
   "cell_type": "code",
   "execution_count": 15,
   "metadata": {},
   "outputs": [
    {
     "data": {
      "text/plain": [
       "{'motivation': 'Isolation devices incorporate energy-dissipation mechanisms designed to limit the displacements demands to a reasonable level. Figure 1.3 shows a bilinear force-displacement curve, which is generally representative of several types of energy-dissipating isolation devices. The area under the closed curve represents the energy dissipated during each cycle of motion of the isolators.',\n",
       " 'objectives': '',\n",
       " 'methodology': 'Figure 2.1 shows the target median (m) and median plus/minus ± one standard deviation (m ± s) spectral acceleration. The procedure used to scale the ground motions to best fit the target spectrum was as follows [Carlton 2014]: first, motions were rotated to the direction that maximized the spectral acceleration at a period T = 1 sec. The code SigmaSpectra [IICGE 2019] was used to select the best suite of ground motions from a larger pool of rotated motions. Table 2.2 indicates the scaled PGA in the vertical direction and in the two horizontal directions (PGAT and PGAL to be applied in the bridge transverse and longitudinal directions, respectively), as well as the final scale factors and adjustment factors for horizontal and vertical components. Figures 2.4 and 2.5 show acceleration spectra for individual scaled motions plotted against the target spectrum for horizontal and vertical components, respectively. In each plot, the Group 1, Group 2, and Group 3 spectra are identified by color. Relative to the standard column height (20 ft), Bridge 8 has a reduced column height of 15 ft. Isolation system parameter variations were also applied to the Base Model bridge to investigate the influence of friction coefficient and isolation period on bridge response to combined horizontal and vertical ground motions. Table 3.3 lists the isolator parameter variations considered for Base Model bridge. Due to multiple sliding surfaces, TPBs are more compact than other types of friction pendulum bearings. The bridges in this study were isolated with TPBs, although the observations regarding the influence of vertical shaking are expected to apply generally to any type of spherical sliding bearing. Figure 3.7 presents a general configuration of a TPB, which consists of an inner slider, two articulated sliders, and two main concave surfaces. Figure 3.7 presents a general configuration of a TPB, which consists of an inner slider, two articulated sliders, and two main concave surfaces. The radii of these curved surfaces, R1, R2, and R3, and the friction coefficients of the sliding interfaces, µ1, µ2, and µ3, determine the hysteretic response of the TPBs. Parameters d1, d2, and d3 represent displacement limits of the pendulum mechanisms, and h1, h2, and h3 are slider heights; see Figure 3.7. The radii of these curved surfaces, R1, R2, and R3, and the friction coefficients of the sliding interfaces, µ1, µ2, and µ3, determine the hysteretic response of the TPBs. Parameters d1, d2, and d3 represent displacement limits of the pendulum mechanisms, and h1, h2, and h3 are slider heights; see Figure 3.7. A TPB provides different pendulum mechanisms under different levels of shaking intensity.',\n",
       " 'results': 'Thus, for this example, a lower amplification factor underestimates the amplification of the base shear, but including an amplification factor based on the vertical spectral response leads to a slightly conservative estimate of the base-shear amplification. Figures 5.1 and 5.2 present the simulated base-shear coefficients for 2D and 3D motions, along with base-shear coefficient for 3D motions estimated with different amplification factors in the transverse and longitudinal directions, respectively. In the transverse direction, the estimated base-shear values are conservative for almost all motions, except for two Group 1 motions. The signs and their interpretations (negative = underestimated, positive = overestimated) are consistent with AE, but the magnitude of the error has decreased relative to AE as BSNE represents an error in the full base-shear coefficient, rather than just the amplification term. Figures 5.5 and 5.6 compare BSNE for the base-shear estimates in the transverse and longitudinal directions, respectively, for different values of the amplification factor ν. The trends are similar as those observed for AE, except that the error magnitudes are smaller. For ν = Sa(Tv)/PGAV, the estimated base-shear amplification differs for different bridge models only due to changes in the period of the dominant vertical mode. Under the Group 1 motion SFPU, the base-shear amplification is high for all bridge models in both longitudinal and transverse directions [Figure 6.5(a) and (b)]. Of the three motions considered, SFPU produces the greatest variation in base-shear amplification for different models. Differences in spectral amplification due to vertical period shifts that affect the estimated base-shear coefficients are not consistent with simulated response. The base-shear coefficient and its amplification due to vertical shaking is least sensitive to bridge modeling parameters for the Group 2 moderate-intensity motion LGP [Figure 6.5(c) and (d)]. The amplification factor ν = 0.5 is quite accurate for this motion.',\n",
       " 'conclusions': 'Thus, the method is applicable for bridge design based on equivalent static analysis. The theory predicts that the amplification of base shear is proportional to (uo/Reff + m), where uo is peak isolator displacement, Reff is the radius and m the friction coefficient of the effective pendulum mechanism, as well as PGAV, thus accounting for any variation of isolation system parameters in the estimate. Three different amplification factors, ν, were considered: ν = 0.5, ν = 1.0, and ν = Sa(Tv)/PGAV. The average BSNE was essentially independent of the variation in isolation system parameters. Differences in base-shear amplification for bridge superstructure parameter variations were insignificant, and the simplified method also estimated base shear for 3D shaking accurately across the range of bridge model variations. Large dispersion of the BSNE was observed over the suite of ground motions.'}"
      ]
     },
     "execution_count": 15,
     "metadata": {},
     "output_type": "execute_result"
    }
   ],
   "source": [
    "result_context"
   ]
  }
 ],
 "metadata": {
  "kernelspec": {
   "display_name": "Python 3",
   "language": "python",
   "name": "python3"
  },
  "language_info": {
   "codemirror_mode": {
    "name": "ipython",
    "version": 3
   },
   "file_extension": ".py",
   "mimetype": "text/x-python",
   "name": "python",
   "nbconvert_exporter": "python",
   "pygments_lexer": "ipython3",
   "version": "3.7.4"
  }
 },
 "nbformat": 4,
 "nbformat_minor": 2
}
