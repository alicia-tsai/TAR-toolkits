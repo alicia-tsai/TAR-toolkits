{
 "cells": [
  {
   "cell_type": "code",
   "execution_count": 2,
   "metadata": {},
   "outputs": [],
   "source": [
    "import numpy as np\n",
    "import pandas as pd\n",
    "from gensim.summarization.summarizer import summarize"
   ]
  },
  {
   "cell_type": "code",
   "execution_count": 4,
   "metadata": {},
   "outputs": [
    {
     "data": {
      "text/html": [
       "<div>\n",
       "<style scoped>\n",
       "    .dataframe tbody tr th:only-of-type {\n",
       "        vertical-align: middle;\n",
       "    }\n",
       "\n",
       "    .dataframe tbody tr th {\n",
       "        vertical-align: top;\n",
       "    }\n",
       "\n",
       "    .dataframe thead th {\n",
       "        text-align: right;\n",
       "    }\n",
       "</style>\n",
       "<table border=\"1\" class=\"dataframe\">\n",
       "  <thead>\n",
       "    <tr style=\"text-align: right;\">\n",
       "      <th></th>\n",
       "      <th>source_name</th>\n",
       "      <th>title</th>\n",
       "      <th>url</th>\n",
       "      <th>date</th>\n",
       "      <th>content</th>\n",
       "    </tr>\n",
       "  </thead>\n",
       "  <tbody>\n",
       "    <tr>\n",
       "      <th>0</th>\n",
       "      <td>Yahoo.com</td>\n",
       "      <td>Rescuers search building rubble after Philippi...</td>\n",
       "      <td>https://news.yahoo.com/rescuers-search-buildin...</td>\n",
       "      <td>2019-12-16</td>\n",
       "      <td>Rescuers pulled out two bodies Monday from a t...</td>\n",
       "    </tr>\n",
       "    <tr>\n",
       "      <th>1</th>\n",
       "      <td>Independent</td>\n",
       "      <td>Philippines earthquake: Powerful 6.9-magnitude...</td>\n",
       "      <td>https://www.independent.co.uk/news/world/asia/...</td>\n",
       "      <td>2019-12-15</td>\n",
       "      <td>One child reported to have died and at least 1...</td>\n",
       "    </tr>\n",
       "    <tr>\n",
       "      <th>2</th>\n",
       "      <td>Bostonglobe.com</td>\n",
       "      <td>Strong earthquake hits southern Philippines</td>\n",
       "      <td>https://www.bostonglobe.com/news/world/2019/12...</td>\n",
       "      <td>2019-12-15</td>\n",
       "      <td>An earthquake measuring magnitude 6.9 rocked t...</td>\n",
       "    </tr>\n",
       "    <tr>\n",
       "      <th>3</th>\n",
       "      <td>Dw.com</td>\n",
       "      <td>Major earthquake hits southern Philippines</td>\n",
       "      <td>https://www.dw.com/en/strong-earthquake-hits-s...</td>\n",
       "      <td>2019-12-15</td>\n",
       "      <td>A major earthquake hit the southern Philippine...</td>\n",
       "    </tr>\n",
       "    <tr>\n",
       "      <th>4</th>\n",
       "      <td>Yahoo.com</td>\n",
       "      <td>Child killed as quake strikes southern Philipp...</td>\n",
       "      <td>https://news.yahoo.com/strong-quake-hits-south...</td>\n",
       "      <td>2019-12-15</td>\n",
       "      <td>Sunday's tremor cracked schools, toppled homes...</td>\n",
       "    </tr>\n",
       "  </tbody>\n",
       "</table>\n",
       "</div>"
      ],
      "text/plain": [
       "       source_name                                              title  \\\n",
       "0        Yahoo.com  Rescuers search building rubble after Philippi...   \n",
       "1      Independent  Philippines earthquake: Powerful 6.9-magnitude...   \n",
       "2  Bostonglobe.com        Strong earthquake hits southern Philippines   \n",
       "3           Dw.com         Major earthquake hits southern Philippines   \n",
       "4        Yahoo.com  Child killed as quake strikes southern Philipp...   \n",
       "\n",
       "                                                 url        date  \\\n",
       "0  https://news.yahoo.com/rescuers-search-buildin...  2019-12-16   \n",
       "1  https://www.independent.co.uk/news/world/asia/...  2019-12-15   \n",
       "2  https://www.bostonglobe.com/news/world/2019/12...  2019-12-15   \n",
       "3  https://www.dw.com/en/strong-earthquake-hits-s...  2019-12-15   \n",
       "4  https://news.yahoo.com/strong-quake-hits-south...  2019-12-15   \n",
       "\n",
       "                                             content  \n",
       "0  Rescuers pulled out two bodies Monday from a t...  \n",
       "1  One child reported to have died and at least 1...  \n",
       "2  An earthquake measuring magnitude 6.9 rocked t...  \n",
       "3  A major earthquake hit the southern Philippine...  \n",
       "4  Sunday's tremor cracked schools, toppled homes...  "
      ]
     },
     "execution_count": 4,
     "metadata": {},
     "output_type": "execute_result"
    }
   ],
   "source": [
    "data = pd.read_csv(\"data/news/2019-12-15_philippines_earthquake.csv\")\n",
    "data.head()"
   ]
  },
  {
   "cell_type": "code",
   "execution_count": 19,
   "metadata": {},
   "outputs": [
    {
     "name": "stdout",
     "output_type": "stream",
     "text": [
      "The magnitude 6.9 quake struck an area about 6 kilometers (3.7 miles) northwest of Padada town in Davao del Sur province at a depth of 30 kilometers (18 miles), according to the Philippine Institute of Volcanology and Seismology.\n",
      "Police said a rescue operation had been launched at a heavily damaged market building in Padada near the 6.8 magnitude quake's epicentre, which is about 90 kilometres (55 miles) south of the major city of Davao.\n",
      "A strong earthquake struck near the Philippine city of Davao on Sunday, killing a child, damaging buildings and causing several injuries, officials said, the latest in a series of tremors to strike the southern part of the country in recent months.\n",
      "A powerful earthquake measuring 6.8-magnitude has struck the Philippines near the city of Davao, with one child reported to have died and 14 people been injured as tremors sent locals fleeing in panic from damaged homes and shopping centres.\n",
      "Vincent Fernandez, the mayor of Matanao town in Davao del Sur province, told Radio DZMM that a six-year-old girl had died after a wall collapsed on her.\n",
      "The Davao region has been hit by at least three powerful earthquakes in recent months, causing several deaths and scores of injuries and badly damaging houses, town halls, hotels, malls and hospitals.\n",
      "Davao del Sur Gov. Douglas Cagas said a three-story building housing a grocery store collapsed in downtown Padada during the quake, trapping an unspecified number of people inside.\n",
      "Rescuers pulled out two bodies Monday from a three-story building that collapsed in a strong earthquake in the southern Philippines and scrambled to find at least seven more people who were trapped inside.\n",
      "A strong earthquake jolted the southern Philippines on Sunday, killing at least one person and causing a three-story building to collapse, setting off a search for people feared to have been trapped inside, officials said.\n",
      "The Philippines sits on the geologically active Pacific “Ring of Fire” and experiences frequent tremors, including four strong quakes in October and November, which together killed at least 20 people.\n",
      "A powerful earthquake hit the southern Philippine island of Mindanao on Sunday, killing a child, injuring dozens and damaging buildings in an area still recovering from a string of deadly quakes in October.\n",
      "A 6.8 magnitude earthquake hit the southern Philippine island of Mindanao on Sunday, geologists said, the same area struck by a string of deadly tremors in October.\n",
      "One picture said to be from Padada, close to the epicentre in the province of Davao del Sur, showed a building collapsed onto a car and another people being rescued from beneath fallen rubble.\n",
      "Three quakes above 6.0 magnitude hit roughly the same area of Mindanao in a matter of weeks in October, killing some two dozen people and heavily damaging office buildings, schools and apartments.\n",
      "At least five people died in Sunday’s magnitude 6.9 quake that struck Padada and outlying rural towns, cities and provinces in a region that has been battered by three deadly earthquakes in recent months.\n"
     ]
    }
   ],
   "source": [
    "text = \" \".join(data.content.tolist())\n",
    "text_clean = set(summarize(text, ratio=0.1).split(\"\\n\")) # remove duplicated sentences\n",
    "print(\"\\n\".join(text_clean))"
   ]
  },
  {
   "cell_type": "code",
   "execution_count": 5,
   "metadata": {},
   "outputs": [
    {
     "data": {
      "text/plain": [
       "array(['2019-12-16', '2019-12-15'], dtype=object)"
      ]
     },
     "execution_count": 5,
     "metadata": {},
     "output_type": "execute_result"
    }
   ],
   "source": [
    "data.date.unique()"
   ]
  },
  {
   "cell_type": "code",
   "execution_count": 8,
   "metadata": {},
   "outputs": [],
   "source": [
    "result = {}\n",
    "for date in data.date.unique():\n",
    "    text = \" \".join(data[data.date == date].content.tolist())\n",
    "    result[date] = summarize(text, ratio=0.1)"
   ]
  },
  {
   "cell_type": "code",
   "execution_count": 9,
   "metadata": {
    "scrolled": false
   },
   "outputs": [
    {
     "name": "stdout",
     "output_type": "stream",
     "text": [
      "A powerful earthquake measuring 6.8-magnitude has struck the Philippines near the city of Davao, with one child reported to have died and 14 people been injured as tremors sent locals fleeing in panic from damaged homes and shopping centres.\n",
      "The quake was centred 38 miles southwest of Davao on the island of Mindanao, at a depth of 28.2km, the US Geological Survey said, revising down the magnitude from an earlier reported 6.9.\n",
      "Vincent Fernandez, the mayor of Matanao town in Davao del Sur province, told Radio DZMM that a six-year-old girl had died after a wall collapsed on her.\n",
      "One picture said to be from Padada, close to the epicentre in the province of Davao del Sur, showed a building collapsed onto a car and another people being rescued from beneath fallen rubble.\n",
      "The Philippines sits on the geologically active Pacific “Ring of Fire” and experiences frequent tremors, including four strong quakes in October and November, which together killed at least 20 people.\n",
      "Police said a rescue operation had been launched at a heavily damaged market building in Padada near the 6.8 magnitude quake's epicentre, which is about 90 kilometres (55 miles) south of the major city of Davao.\n",
      "A powerful earthquake hit the southern Philippine island of Mindanao on Sunday, killing a child, injuring dozens and damaging buildings in an area still recovering from a string of deadly quakes in October.\n",
      "A powerful earthquake hit the southern Philippine island of Mindanao on Sunday, killing a child, injuring dozens and damaging buildings in an area still recovering from a string of deadly quakes in October.\n",
      "A 6.8 magnitude earthquake hit the southern Philippine island of Mindanao on Sunday, geologists said, the same area struck by a string of deadly tremors in October.\n",
      "Three quakes above 6.0 magnitude hit roughly the same area of Mindanao in a matter of weeks in October, killing some two dozen people and heavily damaging office buildings, schools and apartments.\n",
      "Three quakes above 6.0 magnitude hit roughly the same area of Mindanao in a matter of weeks in October, killing some two dozen people and heavily damaging office buildings, schools and apartments.\n",
      "Three quakes above 6.0 magnitude hit roughly the same area of Mindanao in a matter of weeks in October, killing some two dozen people and heavily damaging office buildings, schools and apartments.\n",
      "A strong earthquake jolted the southern Philippines on Sunday, killing at least one person and causing a three-story building to collapse, setting off a search for people feared to have been trapped inside, officials said.\n",
      "The magnitude 6.9 quake struck an area about 6 kilometers (3.7 miles) northwest of Padada town in Davao del Sur province at a depth of 30 kilometers (18 miles), according to the Philippine Institute of Volcanology and Seismology.\n",
      "Davao del Sur Gov. Douglas Cagas said a three-story building housing a grocery store collapsed in downtown Padada during the quake, trapping an unspecified number of people inside.\n",
      "A 6-year-old girl was among three people killed when a 6.8-magnitude earthquake struck the southern Philippines island of Mindanao on Sunday.\n",
      "A strong earthquake struck near the Philippine city of Davao on Sunday, killing a child, damaging buildings and causing several injuries, officials said, the latest in a series of tremors to strike the southern part of the country in recent months.\n"
     ]
    }
   ],
   "source": [
    "print(result[\"2019-12-15\"])"
   ]
  },
  {
   "cell_type": "code",
   "execution_count": null,
   "metadata": {},
   "outputs": [],
   "source": []
  }
 ],
 "metadata": {
  "hide_input": false,
  "kernelspec": {
   "display_name": "Python 3",
   "language": "python",
   "name": "python3"
  },
  "language_info": {
   "codemirror_mode": {
    "name": "ipython",
    "version": 3
   },
   "file_extension": ".py",
   "mimetype": "text/x-python",
   "name": "python",
   "nbconvert_exporter": "python",
   "pygments_lexer": "ipython3",
   "version": "3.8.0"
  },
  "varInspector": {
   "cols": {
    "lenName": 16,
    "lenType": 16,
    "lenVar": 40
   },
   "kernels_config": {
    "python": {
     "delete_cmd_postfix": "",
     "delete_cmd_prefix": "del ",
     "library": "var_list.py",
     "varRefreshCmd": "print(var_dic_list())"
    },
    "r": {
     "delete_cmd_postfix": ") ",
     "delete_cmd_prefix": "rm(",
     "library": "var_list.r",
     "varRefreshCmd": "cat(var_dic_list()) "
    }
   },
   "types_to_exclude": [
    "module",
    "function",
    "builtin_function_or_method",
    "instance",
    "_Feature"
   ],
   "window_display": false
  }
 },
 "nbformat": 4,
 "nbformat_minor": 2
}
