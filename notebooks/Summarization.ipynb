{
 "cells": [
  {
   "cell_type": "code",
   "execution_count": 2,
   "metadata": {},
   "outputs": [],
   "source": [
    "import numpy as np\n",
    "import pandas as pd\n",
    "from gensim.summarization.summarizer import summarize\n",
    "from rouge import Rouge"
   ]
  },
  {
   "cell_type": "markdown",
   "metadata": {},
   "source": [
    "## Summarization Without Classification"
   ]
  },
  {
   "cell_type": "code",
   "execution_count": 4,
   "metadata": {
    "collapsed": true,
    "jupyter": {
     "outputs_hidden": true
    }
   },
   "outputs": [
    {
     "data": {
      "text/html": [
       "<div>\n",
       "<style scoped>\n",
       "    .dataframe tbody tr th:only-of-type {\n",
       "        vertical-align: middle;\n",
       "    }\n",
       "\n",
       "    .dataframe tbody tr th {\n",
       "        vertical-align: top;\n",
       "    }\n",
       "\n",
       "    .dataframe thead th {\n",
       "        text-align: right;\n",
       "    }\n",
       "</style>\n",
       "<table border=\"1\" class=\"dataframe\">\n",
       "  <thead>\n",
       "    <tr style=\"text-align: right;\">\n",
       "      <th></th>\n",
       "      <th>source_name</th>\n",
       "      <th>title</th>\n",
       "      <th>url</th>\n",
       "      <th>date</th>\n",
       "      <th>content</th>\n",
       "    </tr>\n",
       "  </thead>\n",
       "  <tbody>\n",
       "    <tr>\n",
       "      <th>0</th>\n",
       "      <td>Yahoo.com</td>\n",
       "      <td>Rescuers search building rubble after Philippi...</td>\n",
       "      <td>https://news.yahoo.com/rescuers-search-buildin...</td>\n",
       "      <td>2019-12-16</td>\n",
       "      <td>Rescuers pulled out two bodies Monday from a t...</td>\n",
       "    </tr>\n",
       "    <tr>\n",
       "      <th>1</th>\n",
       "      <td>Independent</td>\n",
       "      <td>Philippines earthquake: Powerful 6.9-magnitude...</td>\n",
       "      <td>https://www.independent.co.uk/news/world/asia/...</td>\n",
       "      <td>2019-12-15</td>\n",
       "      <td>One child reported to have died and at least 1...</td>\n",
       "    </tr>\n",
       "    <tr>\n",
       "      <th>2</th>\n",
       "      <td>Bostonglobe.com</td>\n",
       "      <td>Strong earthquake hits southern Philippines</td>\n",
       "      <td>https://www.bostonglobe.com/news/world/2019/12...</td>\n",
       "      <td>2019-12-15</td>\n",
       "      <td>An earthquake measuring magnitude 6.9 rocked t...</td>\n",
       "    </tr>\n",
       "    <tr>\n",
       "      <th>3</th>\n",
       "      <td>Dw.com</td>\n",
       "      <td>Major earthquake hits southern Philippines</td>\n",
       "      <td>https://www.dw.com/en/strong-earthquake-hits-s...</td>\n",
       "      <td>2019-12-15</td>\n",
       "      <td>A major earthquake hit the southern Philippine...</td>\n",
       "    </tr>\n",
       "    <tr>\n",
       "      <th>4</th>\n",
       "      <td>Yahoo.com</td>\n",
       "      <td>Child killed as quake strikes southern Philipp...</td>\n",
       "      <td>https://news.yahoo.com/strong-quake-hits-south...</td>\n",
       "      <td>2019-12-15</td>\n",
       "      <td>Sunday's tremor cracked schools, toppled homes...</td>\n",
       "    </tr>\n",
       "  </tbody>\n",
       "</table>\n",
       "</div>"
      ],
      "text/plain": [
       "       source_name                                              title  \\\n",
       "0        Yahoo.com  Rescuers search building rubble after Philippi...   \n",
       "1      Independent  Philippines earthquake: Powerful 6.9-magnitude...   \n",
       "2  Bostonglobe.com        Strong earthquake hits southern Philippines   \n",
       "3           Dw.com         Major earthquake hits southern Philippines   \n",
       "4        Yahoo.com  Child killed as quake strikes southern Philipp...   \n",
       "\n",
       "                                                 url        date  \\\n",
       "0  https://news.yahoo.com/rescuers-search-buildin...  2019-12-16   \n",
       "1  https://www.independent.co.uk/news/world/asia/...  2019-12-15   \n",
       "2  https://www.bostonglobe.com/news/world/2019/12...  2019-12-15   \n",
       "3  https://www.dw.com/en/strong-earthquake-hits-s...  2019-12-15   \n",
       "4  https://news.yahoo.com/strong-quake-hits-south...  2019-12-15   \n",
       "\n",
       "                                             content  \n",
       "0  Rescuers pulled out two bodies Monday from a t...  \n",
       "1  One child reported to have died and at least 1...  \n",
       "2  An earthquake measuring magnitude 6.9 rocked t...  \n",
       "3  A major earthquake hit the southern Philippine...  \n",
       "4  Sunday's tremor cracked schools, toppled homes...  "
      ]
     },
     "execution_count": 4,
     "metadata": {},
     "output_type": "execute_result"
    }
   ],
   "source": [
    "data = pd.read_csv(\"../data/news/2019-12-15_philippines_earthquake.csv\")\n",
    "data.head()"
   ]
  },
  {
   "cell_type": "code",
   "execution_count": 19,
   "metadata": {
    "collapsed": true,
    "jupyter": {
     "outputs_hidden": true
    }
   },
   "outputs": [
    {
     "name": "stdout",
     "output_type": "stream",
     "text": [
      "The magnitude 6.9 quake struck an area about 6 kilometers (3.7 miles) northwest of Padada town in Davao del Sur province at a depth of 30 kilometers (18 miles), according to the Philippine Institute of Volcanology and Seismology.\n",
      "Police said a rescue operation had been launched at a heavily damaged market building in Padada near the 6.8 magnitude quake's epicentre, which is about 90 kilometres (55 miles) south of the major city of Davao.\n",
      "A strong earthquake struck near the Philippine city of Davao on Sunday, killing a child, damaging buildings and causing several injuries, officials said, the latest in a series of tremors to strike the southern part of the country in recent months.\n",
      "A powerful earthquake measuring 6.8-magnitude has struck the Philippines near the city of Davao, with one child reported to have died and 14 people been injured as tremors sent locals fleeing in panic from damaged homes and shopping centres.\n",
      "Vincent Fernandez, the mayor of Matanao town in Davao del Sur province, told Radio DZMM that a six-year-old girl had died after a wall collapsed on her.\n",
      "The Davao region has been hit by at least three powerful earthquakes in recent months, causing several deaths and scores of injuries and badly damaging houses, town halls, hotels, malls and hospitals.\n",
      "Davao del Sur Gov. Douglas Cagas said a three-story building housing a grocery store collapsed in downtown Padada during the quake, trapping an unspecified number of people inside.\n",
      "Rescuers pulled out two bodies Monday from a three-story building that collapsed in a strong earthquake in the southern Philippines and scrambled to find at least seven more people who were trapped inside.\n",
      "A strong earthquake jolted the southern Philippines on Sunday, killing at least one person and causing a three-story building to collapse, setting off a search for people feared to have been trapped inside, officials said.\n",
      "The Philippines sits on the geologically active Pacific “Ring of Fire” and experiences frequent tremors, including four strong quakes in October and November, which together killed at least 20 people.\n",
      "A powerful earthquake hit the southern Philippine island of Mindanao on Sunday, killing a child, injuring dozens and damaging buildings in an area still recovering from a string of deadly quakes in October.\n",
      "A 6.8 magnitude earthquake hit the southern Philippine island of Mindanao on Sunday, geologists said, the same area struck by a string of deadly tremors in October.\n",
      "One picture said to be from Padada, close to the epicentre in the province of Davao del Sur, showed a building collapsed onto a car and another people being rescued from beneath fallen rubble.\n",
      "Three quakes above 6.0 magnitude hit roughly the same area of Mindanao in a matter of weeks in October, killing some two dozen people and heavily damaging office buildings, schools and apartments.\n",
      "At least five people died in Sunday’s magnitude 6.9 quake that struck Padada and outlying rural towns, cities and provinces in a region that has been battered by three deadly earthquakes in recent months.\n"
     ]
    }
   ],
   "source": [
    "text = \" \".join(data.content.tolist())\n",
    "text_clean = set(summarize(text, ratio=0.1).split(\"\\n\")) # remove duplicated sentences\n",
    "print(\"\\n\".join(text_clean))"
   ]
  },
  {
   "cell_type": "code",
   "execution_count": 5,
   "metadata": {
    "collapsed": true,
    "jupyter": {
     "outputs_hidden": true
    }
   },
   "outputs": [
    {
     "data": {
      "text/plain": [
       "array(['2019-12-16', '2019-12-15'], dtype=object)"
      ]
     },
     "execution_count": 5,
     "metadata": {},
     "output_type": "execute_result"
    }
   ],
   "source": [
    "data.date.unique()"
   ]
  },
  {
   "cell_type": "code",
   "execution_count": 8,
   "metadata": {
    "collapsed": true,
    "jupyter": {
     "outputs_hidden": true
    }
   },
   "outputs": [],
   "source": [
    "result = {}\n",
    "for date in data.date.unique():\n",
    "    text = \" \".join(data[data.date == date].content.tolist())\n",
    "    result[date] = summarize(text, ratio=0.1)"
   ]
  },
  {
   "cell_type": "code",
   "execution_count": 9,
   "metadata": {
    "collapsed": true,
    "jupyter": {
     "outputs_hidden": true
    }
   },
   "outputs": [
    {
     "name": "stdout",
     "output_type": "stream",
     "text": [
      "A powerful earthquake measuring 6.8-magnitude has struck the Philippines near the city of Davao, with one child reported to have died and 14 people been injured as tremors sent locals fleeing in panic from damaged homes and shopping centres.\n",
      "The quake was centred 38 miles southwest of Davao on the island of Mindanao, at a depth of 28.2km, the US Geological Survey said, revising down the magnitude from an earlier reported 6.9.\n",
      "Vincent Fernandez, the mayor of Matanao town in Davao del Sur province, told Radio DZMM that a six-year-old girl had died after a wall collapsed on her.\n",
      "One picture said to be from Padada, close to the epicentre in the province of Davao del Sur, showed a building collapsed onto a car and another people being rescued from beneath fallen rubble.\n",
      "The Philippines sits on the geologically active Pacific “Ring of Fire” and experiences frequent tremors, including four strong quakes in October and November, which together killed at least 20 people.\n",
      "Police said a rescue operation had been launched at a heavily damaged market building in Padada near the 6.8 magnitude quake's epicentre, which is about 90 kilometres (55 miles) south of the major city of Davao.\n",
      "A powerful earthquake hit the southern Philippine island of Mindanao on Sunday, killing a child, injuring dozens and damaging buildings in an area still recovering from a string of deadly quakes in October.\n",
      "A powerful earthquake hit the southern Philippine island of Mindanao on Sunday, killing a child, injuring dozens and damaging buildings in an area still recovering from a string of deadly quakes in October.\n",
      "A 6.8 magnitude earthquake hit the southern Philippine island of Mindanao on Sunday, geologists said, the same area struck by a string of deadly tremors in October.\n",
      "Three quakes above 6.0 magnitude hit roughly the same area of Mindanao in a matter of weeks in October, killing some two dozen people and heavily damaging office buildings, schools and apartments.\n",
      "Three quakes above 6.0 magnitude hit roughly the same area of Mindanao in a matter of weeks in October, killing some two dozen people and heavily damaging office buildings, schools and apartments.\n",
      "Three quakes above 6.0 magnitude hit roughly the same area of Mindanao in a matter of weeks in October, killing some two dozen people and heavily damaging office buildings, schools and apartments.\n",
      "A strong earthquake jolted the southern Philippines on Sunday, killing at least one person and causing a three-story building to collapse, setting off a search for people feared to have been trapped inside, officials said.\n",
      "The magnitude 6.9 quake struck an area about 6 kilometers (3.7 miles) northwest of Padada town in Davao del Sur province at a depth of 30 kilometers (18 miles), according to the Philippine Institute of Volcanology and Seismology.\n",
      "Davao del Sur Gov. Douglas Cagas said a three-story building housing a grocery store collapsed in downtown Padada during the quake, trapping an unspecified number of people inside.\n",
      "A 6-year-old girl was among three people killed when a 6.8-magnitude earthquake struck the southern Philippines island of Mindanao on Sunday.\n",
      "A strong earthquake struck near the Philippine city of Davao on Sunday, killing a child, damaging buildings and causing several injuries, officials said, the latest in a series of tremors to strike the southern part of the country in recent months.\n"
     ]
    }
   ],
   "source": [
    "print(result[\"2019-12-15\"])"
   ]
  },
  {
   "cell_type": "markdown",
   "metadata": {},
   "source": [
    "## Summarization with Classification"
   ]
  },
  {
   "cell_type": "code",
   "execution_count": 3,
   "metadata": {},
   "outputs": [
    {
     "data": {
      "text/html": [
       "<div>\n",
       "<style scoped>\n",
       "    .dataframe tbody tr th:only-of-type {\n",
       "        vertical-align: middle;\n",
       "    }\n",
       "\n",
       "    .dataframe tbody tr th {\n",
       "        vertical-align: top;\n",
       "    }\n",
       "\n",
       "    .dataframe thead th {\n",
       "        text-align: right;\n",
       "    }\n",
       "</style>\n",
       "<table border=\"1\" class=\"dataframe\">\n",
       "  <thead>\n",
       "    <tr style=\"text-align: right;\">\n",
       "      <th></th>\n",
       "      <th>Sentence</th>\n",
       "      <th>Section</th>\n",
       "    </tr>\n",
       "  </thead>\n",
       "  <tbody>\n",
       "    <tr>\n",
       "      <th>0</th>\n",
       "      <td>Rama said on Saturday that preliminary figures...</td>\n",
       "      <td>building</td>\n",
       "    </tr>\n",
       "    <tr>\n",
       "      <th>1</th>\n",
       "      <td>There have been more than 500 aftershocks, som...</td>\n",
       "      <td>building</td>\n",
       "    </tr>\n",
       "    <tr>\n",
       "      <th>2</th>\n",
       "      <td>A 20-year-old woman, in a coma after she was i...</td>\n",
       "      <td>building</td>\n",
       "    </tr>\n",
       "    <tr>\n",
       "      <th>3</th>\n",
       "      <td>In Durres, hundreds of residents as well as Ra...</td>\n",
       "      <td>building</td>\n",
       "    </tr>\n",
       "    <tr>\n",
       "      <th>4</th>\n",
       "      <td>One of the heavily damaged buildings has been ...</td>\n",
       "      <td>building</td>\n",
       "    </tr>\n",
       "  </tbody>\n",
       "</table>\n",
       "</div>"
      ],
      "text/plain": [
       "                                            Sentence   Section\n",
       "0  Rama said on Saturday that preliminary figures...  building\n",
       "1  There have been more than 500 aftershocks, som...  building\n",
       "2  A 20-year-old woman, in a coma after she was i...  building\n",
       "3  In Durres, hundreds of residents as well as Ra...  building\n",
       "4  One of the heavily damaged buildings has been ...  building"
      ]
     },
     "execution_count": 3,
     "metadata": {},
     "output_type": "execute_result"
    }
   ],
   "source": [
    "data = pd.read_csv(\"../data/Albania-news.csv\")\n",
    "data.head()"
   ]
  },
  {
   "cell_type": "code",
   "execution_count": 4,
   "metadata": {},
   "outputs": [],
   "source": [
    "def get_summary(df, section, ratio=0.1):\n",
    "    df = df[df.Section == section]\n",
    "    text = \" \".join(df.Sentence.tolist())\n",
    "    text_clean = set(summarize(text, ratio=ratio).split(\"\\n\")) # remove duplicated sentences\n",
    "    return \" \".join(text_clean)"
   ]
  },
  {
   "cell_type": "code",
   "execution_count": 5,
   "metadata": {},
   "outputs": [
    {
     "name": "stdout",
     "output_type": "stream",
     "text": [
      "Four buildings, including a five-storey apartment block, collapsed in KodÃ«r-ThumanÃ« and the town was hardest hit from the earthquake. A 20-year-old woman, in a coma after she was injured by a falling brick while leaving her apartment in Tirana, died, the health ministry said on Saturday. â€œEverything was moving in an unbelievable rhythm, I could hear the walls cracking, dishes and glass breaking,â€  Videos and pictures shared on social media showed chaotic scenes of residents rummaging through the rubble, or trying to extricate people trapped under collapsed buildings. The earthquake struck at 3:54 a.m. near the Adriatic coast, about 19 miles west of Tirana, home to nearly 900,000 people. In Elbasan, a town about 35 miles from Durres, Olsi Shehi, a 39-year-old cook, said a four-story house had fallen, trapping people inside. About 2,500 people from damaged homes have been sheltered in hotels. Rescuers in Albania dug through the rubble of collapsed buildings in search of survivors on Tuesday, after a 6.4-magnitude earthquake struck the Balkan nation, killing at least 23 people and injuring 650. 21, a 5.6-magnitude quake in Albania injured dozens of people and damaged hundreds of homes in the same area hit on Tuesday. He said more than 1,465 buildings in Tirana and about 900 in nearby Durres had been seriously damaged. Durres castle walls damaged by the earthquake In Albania, a large proportion of the earthquake damage has been blamed on corruption, violations of the building code and substandard construction following the demise of communism during the early 1990s. Rama said on Saturday that preliminary figures showed more than 1,465 buildings in the capital, Tirana, and about 900 in nearby Durres were seriously damaged in Tuesdayâ€™s 6.4-magnitude predawn earthquake. Of those, more than 3,000 people were injured, 14,000 became homeless and throughout Albania 14,000 buildings were damaged of which 2,500 are rendered uninhabitable. In Durres, hundreds of residents as well as Rama and President Ilir Meta attended the funeral of nine members of a single extended family who were killed when a four-storey villa collapsed. Earthquake damage is being checked by civil engineers from the European Union, United States and local experts to assess whether buildings are structurally sound, unsafe and required demolition or just needed replastering.\n"
     ]
    }
   ],
   "source": [
    "print(get_summary(data, \"building\", 0.2))"
   ]
  },
  {
   "cell_type": "code",
   "execution_count": 6,
   "metadata": {},
   "outputs": [
    {
     "name": "stdout",
     "output_type": "stream",
     "text": [
      "The search-and-rescue operation for earthquake survivors in Albania has ended, with the death toll standing at 51 and no more bodies believed to be in the ruins, Prime Minister Edi Rama said. On 30 November Prime Minister Rama announced the end of the search and rescue operation, as no more bodies were expected to be under the rubble. In accordance with the Albanian constitution regarding an emergency situation, the Albanian parliament granted Prime Minister Edi Rama state of emergency powers to deal with earthquake aftermath. Prime Minister Rama said that the state budget was being reconfigured to manage the situation following the earthquake. In the immediate aftermath, 2,500 people became displaced by the earthquake and are temporarily being accommodated either in the Niko Dovana Stadium of DurrÃ«s in tents or in hotels. A state of emergency lasting 30 days was declared by the Albanian government for DurrÃ«s, ThumanÃ« and Tirana and later extended to LezhÃ« and LaÃ§. Blue and white coloured emergency tents for displaced people near stadium in DurrÃ«s The EU office in Albania estimated that some 1.9 million people out of a total population of 2.8 million have been affected by the earthquake. Subsequently, rescue crews with specialised equipment, sniffer dogs and emergency supplies came to Albania from neighbouring countries and other European nations to help in the search efforts and provide for those left homeless. Some students from Tirana went to assist relief efforts in DurrÃ«s and delivered hundreds of meals to earthquake affected people. Hundreds of Albanians in Albania and Kosovo opened their homes to people displaced by the earthquake.\n"
     ]
    }
   ],
   "source": [
    "print(get_summary(data, \"resilience\", 0.2))"
   ]
  },
  {
   "cell_type": "code",
   "execution_count": 7,
   "metadata": {},
   "outputs": [
    {
     "name": "stdout",
     "output_type": "stream",
     "text": [
      "In early February 2020, the Albanian government publicised figures that earthquake damage to private and public properties cost â‚¬844 million.\n"
     ]
    }
   ],
   "source": [
    "print(get_summary(data, \"infrastructure\", 0.2))"
   ]
  },
  {
   "cell_type": "markdown",
   "metadata": {},
   "source": [
    "### Evaluation"
   ]
  },
  {
   "cell_type": "code",
   "execution_count": 8,
   "metadata": {},
   "outputs": [
    {
     "data": {
      "text/html": [
       "<div>\n",
       "<style scoped>\n",
       "    .dataframe tbody tr th:only-of-type {\n",
       "        vertical-align: middle;\n",
       "    }\n",
       "\n",
       "    .dataframe tbody tr th {\n",
       "        vertical-align: top;\n",
       "    }\n",
       "\n",
       "    .dataframe thead th {\n",
       "        text-align: right;\n",
       "    }\n",
       "</style>\n",
       "<table border=\"1\" class=\"dataframe\">\n",
       "  <thead>\n",
       "    <tr style=\"text-align: right;\">\n",
       "      <th></th>\n",
       "      <th>Text</th>\n",
       "      <th>Section</th>\n",
       "    </tr>\n",
       "  </thead>\n",
       "  <tbody>\n",
       "    <tr>\n",
       "      <th>0</th>\n",
       "      <td>Albanian Prime Minister Edi Rama indicated tha...</td>\n",
       "      <td>Building</td>\n",
       "    </tr>\n",
       "    <tr>\n",
       "      <th>1</th>\n",
       "      <td>Because the earthquake caused significant buil...</td>\n",
       "      <td>Infrastructure</td>\n",
       "    </tr>\n",
       "    <tr>\n",
       "      <th>2</th>\n",
       "      <td>USGS PAGER tool estimated the fatalities to be...</td>\n",
       "      <td>Resilience</td>\n",
       "    </tr>\n",
       "  </tbody>\n",
       "</table>\n",
       "</div>"
      ],
      "text/plain": [
       "                                                Text         Section\n",
       "0  Albanian Prime Minister Edi Rama indicated tha...        Building\n",
       "1  Because the earthquake caused significant buil...  Infrastructure\n",
       "2  USGS PAGER tool estimated the fatalities to be...      Resilience"
      ]
     },
     "execution_count": 8,
     "metadata": {},
     "output_type": "execute_result"
    }
   ],
   "source": [
    "briefing = pd.read_csv(\"../data/Albania-briefing.csv\")\n",
    "briefing.head()"
   ]
  },
  {
   "cell_type": "code",
   "execution_count": 31,
   "metadata": {},
   "outputs": [],
   "source": [
    "section = \"resilience\"\n",
    "hyp = get_summary(data, section, 0.2)\n",
    "ref = briefing[briefing.Section == \"Resilience\"].Text.values[0]"
   ]
  },
  {
   "cell_type": "code",
   "execution_count": 32,
   "metadata": {},
   "outputs": [],
   "source": [
    "rouge = Rouge()\n",
    "scores = rouge.get_scores(hyp, ref)"
   ]
  },
  {
   "cell_type": "code",
   "execution_count": 33,
   "metadata": {},
   "outputs": [
    {
     "data": {
      "text/plain": [
       "[{'rouge-1': {'f': 0.3992869825356427,\n",
       "   'p': 0.42105263157894735,\n",
       "   'r': 0.37966101694915255},\n",
       "  'rouge-2': {'f': 0.14669051379699902,\n",
       "   'p': 0.15471698113207547,\n",
       "   'r': 0.13945578231292516},\n",
       "  'rouge-l': {'f': 0.3141025591077006,\n",
       "   'p': 0.32450331125827814,\n",
       "   'r': 0.30434782608695654}}]"
      ]
     },
     "execution_count": 33,
     "metadata": {},
     "output_type": "execute_result"
    }
   ],
   "source": [
    "scores"
   ]
  },
  {
   "cell_type": "code",
   "execution_count": null,
   "outputs": [],
   "source": [
    "ref\n"
   ],
   "metadata": {
    "collapsed": false,
    "pycharm": {
     "name": "#%%\n"
    }
   }
  },
  {
   "cell_type": "code",
   "execution_count": 34,
   "metadata": {},
   "outputs": [
    {
     "data": {
      "text/plain": [
       "'USGS PAGER tool estimated the fatalities to be between 1 and 10 with a probability of 12%, between 10 and 100 with a probability of 37%, between 100 and 1,000 with a probability of 37% and between 1,000 and 10,000 with a probability of 12% (Fig. 10). At the time this briefing was authored, the number of deaths as a consequence of the earthquake was reported as 51 and there were approximately 2,000 injuries. Damages were expected to be between $1 million and $10 million, between $10 million and $100 million, and between $100 million and $1,000 million with probabilities of 8%, 25% and 36%, respectively. Furthermore, there were probabilities of 22% and 6% of the economic loss to be between $1,000 million and $10,000 million and between $10,000 million and $100,000 million, respectively. Given the severity of the situation, Albanian Prime Minister Edi Rama declared a state of emergency in Tirana and Durres during December. Recovery efforts are currently continuing in the rubble of collapsed buildings, where residents and emergency crews in cities across the country rescued 45 people from some of the collapsed buildings. Considering the state of emergency and current situation, the recovery and reconstruction process after this earthquake is likely to be lengthy. The earthquake left around 4,000 people homeless (Al Jazeera, 2019). Similar to many previous earthquakes, even the residents of houses and buildings that were still standing, which performed well, remained outside after the earthquake. One of the residents in the capital Tirana indicated he did not know where he would live and described his apartment as “uninhabitable.” An estimated 2,500 people have been displaced by the earthquake and are temporarily being sheltered either in the Niko Dovana Stadium of Durres in tents or in hotels (Wikipedia, 2019).'"
      ]
     },
     "execution_count": 34,
     "metadata": {},
     "output_type": "execute_result"
    }
   ],
   "source": []
  },
  {
   "cell_type": "code",
   "execution_count": null,
   "metadata": {},
   "outputs": [],
   "source": []
  }
 ],
 "metadata": {
  "hide_input": false,
  "kernelspec": {
   "display_name": "Python 3",
   "language": "python",
   "name": "python3"
  },
  "language_info": {
   "codemirror_mode": {
    "name": "ipython",
    "version": 3
   },
   "file_extension": ".py",
   "mimetype": "text/x-python",
   "name": "python",
   "nbconvert_exporter": "python",
   "pygments_lexer": "ipython3",
   "version": "3.8.2"
  },
  "varInspector": {
   "cols": {
    "lenName": 16,
    "lenType": 16,
    "lenVar": 40
   },
   "kernels_config": {
    "python": {
     "delete_cmd_postfix": "",
     "delete_cmd_prefix": "del ",
     "library": "var_list.py",
     "varRefreshCmd": "print(var_dic_list())"
    },
    "r": {
     "delete_cmd_postfix": ") ",
     "delete_cmd_prefix": "rm(",
     "library": "var_list.r",
     "varRefreshCmd": "cat(var_dic_list()) "
    }
   },
   "types_to_exclude": [
    "module",
    "function",
    "builtin_function_or_method",
    "instance",
    "_Feature"
   ],
   "window_display": false
  }
 },
 "nbformat": 4,
 "nbformat_minor": 4
}