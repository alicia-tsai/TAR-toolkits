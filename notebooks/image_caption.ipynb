{
 "cells": [
  {
   "cell_type": "markdown",
   "metadata": {},
   "source": [
    "## Link Image Caption to Text in Summary"
   ]
  },
  {
   "cell_type": "code",
   "execution_count": 80,
   "metadata": {},
   "outputs": [],
   "source": [
    "import re\n",
    "import numpy as np\n",
    "import pandas as pd\n",
    "import gensim\n",
    "from gensim.models import Word2Vec\n",
    "\n",
    "import nltk\n",
    "from nltk.corpus import stopwords\n",
    "from nltk.stem import WordNetLemmatizer\n",
    "\n",
    "from sklearn.metrics.pairwise import cosine_similarity\n",
    "\n",
    "from sentence_transformers import SentenceTransformer, util"
   ]
  },
  {
   "cell_type": "markdown",
   "metadata": {},
   "source": [
    "### Clean text and load data"
   ]
  },
  {
   "cell_type": "code",
   "execution_count": 27,
   "metadata": {},
   "outputs": [],
   "source": [
    "def clean(txt_lst):   \n",
    "    def clean_text(text, remove_stopwords = True):\n",
    "        text = text.lower()\n",
    "        text = re.sub(r'https?:\\/\\/.*[\\r\\n]*', '', text, flags=re.MULTILINE)\n",
    "        text = re.sub(r'\\<a href', ' ', text)\n",
    "        text = re.sub(r'&amp;', '', text) \n",
    "        text = re.sub(r'[_\"\\-;%()|+&=*%:#$@\\[\\]/]', ' ', text)\n",
    "        text = re.sub(r'[.,!?]', '', text)\n",
    "        text = re.sub(r'<br />', ' ', text)\n",
    "        text = re.sub(r'\\'', ' ', text)\n",
    "        if remove_stopwords:\n",
    "            text = text.split()\n",
    "            stops = set(stopwords.words(\"english\"))\n",
    "            text = [w for w in text if not w in stops]\n",
    "            text = \" \".join(text)\n",
    "        return nltk.WordPunctTokenizer().tokenize(text)\n",
    "    return list(map(clean_text, txt_lst))\n",
    "\n",
    "def lemmatize(txt_lst):\n",
    "    lemm = nltk.stem.WordNetLemmatizer()\n",
    "    return list(map(lambda word: list(map(lemm.lemmatize, word)),\n",
    "                    txt_lst))"
   ]
  },
  {
   "cell_type": "code",
   "execution_count": 78,
   "metadata": {},
   "outputs": [],
   "source": [
    "# read summary and captions\n",
    "\n",
    "with open(\"../data/Albania-summary.txt\") as file:\n",
    "    text = [f.replace(\"\\n\", \"\") for f in file.readlines()]  # remove \\n line break\n",
    "    sentences = lemmatize(clean(text))\n",
    "    \n",
    "\n",
    "# figure 3, 4, 6\n",
    "captions_text = [\"An aerial photo taken on Wednesday, November 27, shows emergency crews searching the rubble of a collapsed building in Thumane, Albania, the day after a devastating earthquake struck the region.\",\n",
    "                 \"A doorframe remains standing amid the rubble of a collapsed building in Thumane.\",\n",
    "                 \"Members of the emergency services work to remove debris from a damaged building in Durres.\"]\n",
    "captions = lemmatize(clean(captions_text))"
   ]
  },
  {
   "cell_type": "markdown",
   "metadata": {},
   "source": [
    "### N-gram overlaps"
   ]
  },
  {
   "cell_type": "code",
   "execution_count": 90,
   "metadata": {},
   "outputs": [
    {
     "name": "stdout",
     "output_type": "stream",
     "text": [
      "6\n",
      "Rescuers in Albania dug through the rubble of collapsed buildings in search of survivors on Tuesday, after a 6.4-magnitude earthquake struck the Balkan nation, killing at least 23 people and injuring 650.\n",
      "\n",
      "3\n",
      "Rescuers in Albania dug through the rubble of collapsed buildings in search of survivors on Tuesday, after a 6.4-magnitude earthquake struck the Balkan nation, killing at least 23 people and injuring 650.\n",
      "\n",
      "3\n",
      "Rama said on Saturday that preliminary figures showed more than 1,465 buildings in the capital, Tirana, and about 900 in nearby Durres were seriously damaged in Tuesday's 6.4-magnitude predawn earthquake.\n",
      "\n"
     ]
    }
   ],
   "source": [
    "for caption in captions:\n",
    "    max_ngram = -1\n",
    "    max_ngram_id = None\n",
    "    for idx, sent in enumerate(sentences):\n",
    "        ngram_overlap = len(set(caption) & set(sent))\n",
    "        if ngram_overlap > max_ngram:\n",
    "            max_ngram = ngram_overlap\n",
    "            max_ngram_id = idx\n",
    "    \n",
    "    print(max_ngram)\n",
    "    print(text[max_ngram_id])\n",
    "    print()"
   ]
  },
  {
   "cell_type": "markdown",
   "metadata": {},
   "source": [
    "### Word embeddings"
   ]
  },
  {
   "cell_type": "code",
   "execution_count": 36,
   "metadata": {},
   "outputs": [],
   "source": [
    "WORD2VEC_PATH = \"../GoogleNews-vectors-negative300.bin\"\n",
    "word2vec = gensim.models.KeyedVectors.load_word2vec_format(WORD2VEC_PATH, binary=True)"
   ]
  },
  {
   "cell_type": "code",
   "execution_count": 72,
   "metadata": {},
   "outputs": [
    {
     "name": "stdout",
     "output_type": "stream",
     "text": [
      "(3, 300) (23, 300)\n"
     ]
    }
   ],
   "source": [
    "# get caption and summary sentence embedding matrix\n",
    "\n",
    "def embed_sentence(sentences):\n",
    "    matrix = []\n",
    "    for sent in sentences:\n",
    "        avg_vec = np.mean([word2vec[token] for token in sent if token in word2vec], axis=0)\n",
    "        matrix.append(avg_vec)\n",
    "    \n",
    "    return np.array(matrix)\n",
    "\n",
    "caption_matrix = embed_sentence(captions)\n",
    "summary_matrix = embed_sentence(sentences)\n",
    "print(caption_matrix.shape, summary_matrix.shape)"
   ]
  },
  {
   "cell_type": "code",
   "execution_count": 88,
   "metadata": {},
   "outputs": [
    {
     "name": "stdout",
     "output_type": "stream",
     "text": [
      "0.8105717\n",
      "Rescuers in Albania dug through the rubble of collapsed buildings in search of survivors on Tuesday, after a 6.4-magnitude earthquake struck the Balkan nation, killing at least 23 people and injuring 650.\n",
      "\n",
      "0.6932562\n",
      "Videos and pictures shared on social media showed chaotic scenes of residents rummaging through the rubble, or trying to extricate people trapped under collapsed buildings.\n",
      "\n",
      "0.66305846\n",
      "He said more than 1,465 buildings in Tirana and about 900 in nearby Durres had been seriously damaged. Durres castle walls damaged by the earthquake In Albania, a large proportion of the earthquake damage has been blamed on corruption, violations of the building code and substandard construction following the demise of communism during the early 1990s.\n",
      "\n"
     ]
    }
   ],
   "source": [
    "cosine = cosine_similarity(caption_matrix, summary_matrix)  # 3 x 23\n",
    "for row in cosine:\n",
    "    print(np.max(row))\n",
    "    print(text[np.argmax(row)])\n",
    "    print()"
   ]
  },
  {
   "cell_type": "markdown",
   "metadata": {},
   "source": [
    "### SentenceBERT: sentence embeddings"
   ]
  },
  {
   "cell_type": "code",
   "execution_count": 75,
   "metadata": {},
   "outputs": [],
   "source": [
    "sbert_model = SentenceTransformer('bert-base-nli-mean-tokens')\n",
    "sentence_embeddings = sbert_model.encode(text)"
   ]
  },
  {
   "cell_type": "code",
   "execution_count": 89,
   "metadata": {},
   "outputs": [
    {
     "name": "stdout",
     "output_type": "stream",
     "text": [
      "0.88861513\n",
      "Rescuers in Albania dug through the rubble of collapsed buildings in search of survivors on Tuesday, after a 6.4-magnitude earthquake struck the Balkan nation, killing at least 23 people and injuring 650.\n",
      "\n",
      "0.56913984\n",
      "Four buildings, including a five-storey apartment block, collapsed in Kodër-Thumanë and the town was hardest hit from the earthquake.\n",
      "\n",
      "0.73777497\n",
      "Earthquake damage is being checked by civil engineers from the European Union, United States and local experts to assess whether buildings are structurally sound, unsafe and required demolition or just needed replastering.\n",
      "\n"
     ]
    }
   ],
   "source": [
    "for caption in captions_text:\n",
    "    caption_embedding = sbert_model.encode(caption, convert_to_tensor=True)\n",
    "    cos_scores = util.pytorch_cos_sim(caption_embedding, sentence_embeddings)[0]\n",
    "    cos_scores = cos_scores.numpy()\n",
    "    print(np.max(cos_scores))\n",
    "    print(text[np.argmax(cos_scores)])\n",
    "    print()"
   ]
  },
  {
   "cell_type": "code",
   "execution_count": null,
   "metadata": {},
   "outputs": [],
   "source": []
  }
 ],
 "metadata": {
  "kernelspec": {
   "display_name": "Python 3",
   "language": "python",
   "name": "python3"
  },
  "language_info": {
   "codemirror_mode": {
    "name": "ipython",
    "version": 3
   },
   "file_extension": ".py",
   "mimetype": "text/x-python",
   "name": "python",
   "nbconvert_exporter": "python",
   "pygments_lexer": "ipython3",
   "version": "3.8.2"
  }
 },
 "nbformat": 4,
 "nbformat_minor": 4
}
