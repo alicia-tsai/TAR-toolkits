{
 "cells": [
  {
   "cell_type": "code",
   "execution_count": 1,
   "metadata": {},
   "outputs": [],
   "source": [
    "import numpy as np\n",
    "import pandas as pd\n",
    "from gensim.summarization.summarizer import summarize\n",
    "from nltk import tokenize\n",
    "\n",
    "from sklearn.feature_extraction.text import CountVectorizer\n",
    "from sklearn.cluster import KMeans\n",
    "\n",
    "import nucleus_api\n",
    "from nucleus_api.rest import ApiException\n",
    "import nucleus_api.api.nucleus_api as nucleus_helper\n",
    "import csv\n",
    "\n",
    "configuration = nucleus_api.Configuration()\n",
    "configuration.host = 'http://migration.sumupanalytics.com:5000'\n",
    "configuration.api_key['x-api-key'] = 'gj6m0H1pSvdw2YUFF5d4bQ'\n",
    "\n",
    "# configuration.api_key['x-api-key'] = '3yGmNzWXX4oa1Xs539UXoA'\n",
    "api_instance = nucleus_api.NucleusApi(nucleus_api.ApiClient(configuration))"
   ]
  },
  {
   "cell_type": "code",
   "execution_count": 31,
   "metadata": {},
   "outputs": [],
   "source": [
    "import gensim\n",
    "from gensim import corpora, models\n",
    "from gensim.utils import simple_preprocess\n",
    "# from nltk.corpus import stopwords\n",
    "from gensim.parsing.preprocessing import STOPWORDS\n",
    "from nltk.stem import WordNetLemmatizer, SnowballStemmer\n",
    "from nltk.stem.porter import *\n",
    "import string\n",
    "import matplotlib.pyplot as plt\n",
    "\n",
    "def cleanup(doc):\n",
    "    result = []\n",
    "    doc = re.sub(re.compile('<.*?>'), '', doc)\n",
    "    for word in gensim.utils.simple_preprocess(doc):\n",
    "        if word not in gensim.parsing.preprocessing.STOPWORDS and len(doc) > 3:\n",
    "            result.append(WordNetLemmatizer().lemmatize(word, pos='v'))\n",
    "    return result\n",
    "\n",
    "def apply_lda(data, num_topics):\n",
    "    dictionary = gensim.corpora.Dictionary(data)\n",
    "#     dictionary.filter_extremes(no_below=10, no_above=0.4)\n",
    "    bow_corpus = [dictionary.doc2bow(text_lst) for text_lst in data]\n",
    "    tfidf = models.TfidfModel(bow_corpus)\n",
    "    corpus_tfidf = tfidf[bow_corpus]\n",
    "    lda_model = gensim.models.LdaMulticore(corpus_tfidf, num_topics=num_topics, id2word=dictionary, passes=2, workers=4, iterations=10)\n",
    "    distributions = [dict(lda_model[sentence]) for sentence in bow_corpus]\n",
    "    return lda_model, distributions"
   ]
  },
  {
   "cell_type": "markdown",
   "metadata": {},
   "source": [
    "# Inspect the dataset"
   ]
  },
  {
   "cell_type": "code",
   "execution_count": 2,
   "metadata": {
    "scrolled": true
   },
   "outputs": [
    {
     "data": {
      "text/html": [
       "<div>\n",
       "<style scoped>\n",
       "    .dataframe tbody tr th:only-of-type {\n",
       "        vertical-align: middle;\n",
       "    }\n",
       "\n",
       "    .dataframe tbody tr th {\n",
       "        vertical-align: top;\n",
       "    }\n",
       "\n",
       "    .dataframe thead th {\n",
       "        text-align: right;\n",
       "    }\n",
       "</style>\n",
       "<table border=\"1\" class=\"dataframe\">\n",
       "  <thead>\n",
       "    <tr style=\"text-align: right;\">\n",
       "      <th></th>\n",
       "      <th>time</th>\n",
       "      <th>title</th>\n",
       "      <th>content</th>\n",
       "    </tr>\n",
       "  </thead>\n",
       "  <tbody>\n",
       "    <tr>\n",
       "      <td>0</td>\n",
       "      <td>2019-04-22</td>\n",
       "      <td>Strong Earthquake Shakes Areas North of Philip...</td>\n",
       "      <td>A strong earthquake shook the Philippine capit...</td>\n",
       "    </tr>\n",
       "    <tr>\n",
       "      <td>1</td>\n",
       "      <td>2019-04-22</td>\n",
       "      <td>At least three dead due to quake, Pampanga gov...</td>\n",
       "      <td>The earthquake that jolted Luzon Monday aftern...</td>\n",
       "    </tr>\n",
       "    <tr>\n",
       "      <td>2</td>\n",
       "      <td>2019-04-22</td>\n",
       "      <td>6.1-magnitude earthquake in Philippine main Lu...</td>\n",
       "      <td>At least six people were killed after a 6.1-ma...</td>\n",
       "    </tr>\n",
       "    <tr>\n",
       "      <td>3</td>\n",
       "      <td>2019-04-22</td>\n",
       "      <td>Phivolcs: No technology yet to predict earthqu...</td>\n",
       "      <td>The Philippine Institute of Volcanology and Se...</td>\n",
       "    </tr>\n",
       "    <tr>\n",
       "      <td>4</td>\n",
       "      <td>2019-04-22</td>\n",
       "      <td>Earthquake of 6.3 magnitude strikes central Ph...</td>\n",
       "      <td>Walls move in circular fashion' as strong temb...</td>\n",
       "    </tr>\n",
       "  </tbody>\n",
       "</table>\n",
       "</div>"
      ],
      "text/plain": [
       "         time                                              title  \\\n",
       "0  2019-04-22  Strong Earthquake Shakes Areas North of Philip...   \n",
       "1  2019-04-22  At least three dead due to quake, Pampanga gov...   \n",
       "2  2019-04-22  6.1-magnitude earthquake in Philippine main Lu...   \n",
       "3  2019-04-22  Phivolcs: No technology yet to predict earthqu...   \n",
       "4  2019-04-22  Earthquake of 6.3 magnitude strikes central Ph...   \n",
       "\n",
       "                                             content  \n",
       "0  A strong earthquake shook the Philippine capit...  \n",
       "1  The earthquake that jolted Luzon Monday aftern...  \n",
       "2  At least six people were killed after a 6.1-ma...  \n",
       "3  The Philippine Institute of Volcanology and Se...  \n",
       "4  Walls move in circular fashion' as strong temb...  "
      ]
     },
     "execution_count": 2,
     "metadata": {},
     "output_type": "execute_result"
    }
   ],
   "source": [
    "data = pd.read_csv(\"philippine_earthquake_daily.csv\")\n",
    "data.head()"
   ]
  },
  {
   "cell_type": "code",
   "execution_count": 153,
   "metadata": {},
   "outputs": [
    {
     "name": "stdout",
     "output_type": "stream",
     "text": [
      "philippine_2019-04-22\n",
      "Dataset philippine_2019-04-22 has been deleted.\n",
      "philippine_2019-04-22.txt ( 20849 bytes) has been added to dataset philippine_2019-04-22\n",
      "philippine_2019-04-23\n",
      "Dataset philippine_2019-04-23 has been deleted.\n",
      "philippine_2019-04-23.txt ( 31056 bytes) has been added to dataset philippine_2019-04-23\n",
      "philippine_2019-04-24\n",
      "Dataset philippine_2019-04-24 has been deleted.\n",
      "philippine_2019-04-24.txt ( 8706 bytes) has been added to dataset philippine_2019-04-24\n",
      "philippine_2019-04-25\n",
      "Dataset philippine_2019-04-25 has been deleted.\n",
      "philippine_2019-04-25.txt ( 12839 bytes) has been added to dataset philippine_2019-04-25\n",
      "philippine_2019-04-26\n",
      "Dataset philippine_2019-04-26 has been deleted.\n",
      "philippine_2019-04-26.txt ( 3281 bytes) has been added to dataset philippine_2019-04-26\n",
      "philippine_2019-04-27\n",
      "Dataset philippine_2019-04-27 has been deleted.\n",
      "philippine_2019-04-27.txt ( 11235 bytes) has been added to dataset philippine_2019-04-27\n"
     ]
    }
   ],
   "source": [
    "all_sents = tokenize.sent_tokenize(\". \".join(list(data[\"content\"]))) \n",
    "\n",
    "sents_bydate = {}\n",
    "for date in data.time.unique():\n",
    "    text = \". \".join(list(data[\"content\"][data.time == date]))\n",
    "    title = \"philippine_{}\".format(date)\n",
    "    print(title)\n",
    "    with open(\"{}.txt\".format(title), \"w\") as text_file:\n",
    "        text_file.write(text)\n",
    "    \n",
    "    payload = nucleus_api.Deletedatasetmodel(dataset=title)\n",
    "    try:\n",
    "        api_response = api_instance.post_delete_dataset(payload)\n",
    "        print(api_response.result['result'])\n",
    "    except ApiException as e:\n",
    "        print(\"Dataset did not exist. (you can ignore this message)\")\n",
    "    \n",
    "    \n",
    "    api_response = api_instance.post_upload_file(\"{}.txt\".format(title), title, metadata={\"tokenization_ngram\": \"1\"})\n",
    "    fp = api_response.result\n",
    "    print(fp.filename, '(', fp.size, 'bytes) has been added to dataset', title,)    \n",
    "    \n",
    "    \n",
    "    sents_bydate[date] = tokenize.sent_tokenize(text)"
   ]
  },
  {
   "cell_type": "code",
   "execution_count": 132,
   "metadata": {},
   "outputs": [],
   "source": [
    "parsed_data = [cleanup(sent) for sent in all_sents]\n",
    "# .apply(cleanup) \n",
    "lda_model, distributions = apply_lda(parsed_data, 8)"
   ]
  },
  {
   "cell_type": "markdown",
   "metadata": {},
   "source": [
    "# Get topics"
   ]
  },
  {
   "cell_type": "markdown",
   "metadata": {},
   "source": [
    "## SPCA"
   ]
  },
  {
   "cell_type": "code",
   "execution_count": 221,
   "metadata": {},
   "outputs": [],
   "source": [
    "spca_topics = {}\n",
    "for date in data.time.unique():\n",
    "    title = \"philippine_{}\".format(date)\n",
    "    payload = nucleus_api.Topics(dataset=title,                     \n",
    "                                 num_topics=5)\n",
    "    api_response = api_instance.post_topic_api(payload)   \n",
    "    spca_topics[date] = api_response.result.topics"
   ]
  },
  {
   "cell_type": "code",
   "execution_count": 222,
   "metadata": {},
   "outputs": [
    {
     "data": {
      "text/plain": [
       "['buildings',\n",
       " 'hit',\n",
       " 'damage',\n",
       " 'capital',\n",
       " 'rail',\n",
       " 'air',\n",
       " 'infrastructure',\n",
       " 'disrupting']"
      ]
     },
     "execution_count": 222,
     "metadata": {},
     "output_type": "execute_result"
    }
   ],
   "source": [
    "spca_topics[data.time.unique()[1]][2].keywords.split(\";\")"
   ]
  },
  {
   "cell_type": "code",
   "execution_count": 223,
   "metadata": {},
   "outputs": [
    {
     "data": {
      "text/plain": [
       "['0.2862',\n",
       " '0.0576',\n",
       " '0.1046',\n",
       " '0.1614',\n",
       " '0.1104',\n",
       " '0.0795',\n",
       " '0.0596',\n",
       " '0.1407']"
      ]
     },
     "execution_count": 223,
     "metadata": {},
     "output_type": "execute_result"
    }
   ],
   "source": [
    "spca_topics[data.time.unique()[1]][0].keywords_weight"
   ]
  },
  {
   "cell_type": "code",
   "execution_count": 224,
   "metadata": {},
   "outputs": [
    {
     "data": {
      "text/plain": [
       "'0.4331'"
      ]
     },
     "execution_count": 224,
     "metadata": {},
     "output_type": "execute_result"
    }
   ],
   "source": [
    "spca_topics[data.time.unique()[1]][0].strength"
   ]
  },
  {
   "cell_type": "markdown",
   "metadata": {},
   "source": [
    "# Summarize"
   ]
  },
  {
   "cell_type": "code",
   "execution_count": 275,
   "metadata": {},
   "outputs": [],
   "source": [
    "# topic\n",
    "base_summaries = []\n",
    "our_summaries = []\n",
    "for i in range(5):\n",
    "    topics = spca_topics[\"2019-04-23\"][i].keywords.split(\";\")\n",
    "    weights = spca_topics[\"2019-04-23\"][i].keywords_weight\n",
    "    weights = [float(w) for w in weights]\n",
    "    sims = []\n",
    "    for s in sents_bydate[\"2019-04-23\"]:\n",
    "        similarity = 0\n",
    "        tokens = tokenize.word_tokenize(s) \n",
    "        for token in tokens:\n",
    "            if token in topics:\n",
    "                similarity += weights[topics.index(token)]\n",
    "        sims.append(similarity)\n",
    "    sims = np.array(sims)\n",
    "    top_sents = np.array(sents_bydate[\"2019-04-23\"])[np.argsort(sims)][:-16:-1]\n",
    "    \n",
    "    base_summary = top_sents[:5]\n",
    "    base_summaries.append(list(base_summary))\n",
    "    \n",
    "    vectorizer = CountVectorizer()\n",
    "    X = vectorizer.fit_transform(top_sents)\n",
    "\n",
    "    kmeans = KMeans(n_clusters=5, random_state=0).fit(X)\n",
    "    \n",
    "    sampled_summary = []\n",
    "    for i in range(5):\n",
    "        sampled_summary.append(top_sents[list(kmeans.labels_).index(i)])\n",
    "    our_summaries.append(sampled_summary)"
   ]
  },
  {
   "cell_type": "markdown",
   "metadata": {},
   "source": [
    "**Similar Sentences:**\n",
    "\n",
    "**i)**\n",
    "\n",
    "-  'The Philippine Institute of Volcanology and Seismology reported that a magnitude 6.1 earthquake hit Castillejos Zambales at around 5:11 p. m., Monday.'\n",
    "- 'The Philippine Institute of Volcanology and Seismology (Phivolcs) revised the magnitude of the earthquake to 6.1-magnitude from the earlier reported 5.7-magnitude.'\n",
    "\n",
    "**ii)**\n",
    "\n",
    "- 'In its initial earthquake bulletin, the Philippine Institute of Volcanology and Seismology (Phivolcs) said the earthquake struck 2 kilometers northeast of this town at 5.11 p.m.'\n",
    "- 'In its initial earthquake bulletin, Philippine Institute of Volcanology and Seismology (Phivolcs) said the earthquake struck 2 kilometers northeast of this town at 5.11 p.m.'\n",
    "- 'In its initial earthquake bulletin, the Philippine Institute of Volcanology and Seismology (Phivolcs) said the earthquake struck 2 kilometers northeast of this town at 5.11 p.m.'\n",
    "- 'An its initial earthquake bulletin, the Philippine Institute of Volcanology and Seismology (Phivolcs) reported that the earthquake was of tectonic origin had a depth of 21 kilometers.'\n",
    "\n",
    "**iii)**\n",
    "- 'In a separate tweet, he said the operations of LRT-2 would no longer resume for the day.'\n",
    "- 'LRT2 will no longer resume operations tonight.'"
   ]
  },
  {
   "cell_type": "code",
   "execution_count": 278,
   "metadata": {},
   "outputs": [],
   "source": [
    "# generate the summary w/ clustering\n",
    "\" \".join([\" \".join(s) for s in our_summaries])"
   ]
  },
  {
   "cell_type": "markdown",
   "metadata": {},
   "source": [
    "# Topic-Based Metrics\n",
    "\n",
    "we use less sparse topic model to examine topic coverage of our generated summary.\n",
    "\n",
    "$$(Metric)=$$ "
   ]
  },
  {
   "cell_type": "code",
   "execution_count": 280,
   "metadata": {},
   "outputs": [],
   "source": [
    "spca_topics = {}\n",
    "for date in data.time.unique():\n",
    "    title = \"philippine_{}\".format(date)\n",
    "    payload = nucleus_api.Topics(dataset=title,                     \n",
    "                                 num_topics=10, \n",
    "                                 num_keywords=10)\n",
    "    api_response = api_instance.post_topic_api(payload)   \n",
    "    spca_topics[date] = api_response.result.topics\n",
    "    \n",
    "def topic_metric(summary):\n",
    "    metric = 0\n",
    "    for i in range(10):\n",
    "        topics = spca_topics[\"2019-04-23\"][i].keywords.split(\";\")\n",
    "        weights = spca_topics[\"2019-04-23\"][i].keywords_weight\n",
    "        weights = [float(w) for w in weights]\n",
    "        strength = float(spca_topics[\"2019-04-23\"][i].strength)\n",
    "        \n",
    "        for j in range(len(topics)):\n",
    "            if topics[j] in summary:\n",
    "                metric += weights[j] * strength\n",
    "                \n",
    "    return metric"
   ]
  },
  {
   "cell_type": "markdown",
   "metadata": {},
   "source": [
    "**Topic-based model** (base model)"
   ]
  },
  {
   "cell_type": "code",
   "execution_count": 282,
   "metadata": {
    "scrolled": true
   },
   "outputs": [
    {
     "data": {
      "text/plain": [
       "0.6045005"
      ]
     },
     "execution_count": 282,
     "metadata": {},
     "output_type": "execute_result"
    }
   ],
   "source": [
    "topic_metric(\" \".join([\" \".join(s) for s in base_summaries]))"
   ]
  },
  {
   "cell_type": "markdown",
   "metadata": {},
   "source": [
    "**Topic-based model with clustering** (our model)"
   ]
  },
  {
   "cell_type": "code",
   "execution_count": 281,
   "metadata": {
    "scrolled": false
   },
   "outputs": [
    {
     "data": {
      "text/plain": [
       "0.6264215399999999"
      ]
     },
     "execution_count": 281,
     "metadata": {},
     "output_type": "execute_result"
    }
   ],
   "source": [
    "topic_metric(\" \".join([\" \".join(s) for s in our_summaries]))"
   ]
  },
  {
   "cell_type": "markdown",
   "metadata": {},
   "source": [
    "**TextRank** "
   ]
  },
  {
   "cell_type": "code",
   "execution_count": 300,
   "metadata": {},
   "outputs": [
    {
     "data": {
      "text/plain": [
       "0.5839116999999998"
      ]
     },
     "execution_count": 300,
     "metadata": {},
     "output_type": "execute_result"
    }
   ],
   "source": [
    "topic_metric(result[\"2019-04-23\"])"
   ]
  },
  {
   "cell_type": "markdown",
   "metadata": {},
   "source": [
    "**We observe that redundancy reduction method enables use to generate summary that has higher topic coverage, meaning that it contains more keywords from the original document (considering topic strenghts and keyword weights). By setting a constraint on the length of the document, this can indirectly penalize redundant sentences in the summarized docuemt.**"
   ]
  },
  {
   "cell_type": "markdown",
   "metadata": {},
   "source": [
    "# Redundancy Metrics (with Jaccard index)\n",
    "\n",
    "work in progress\n",
    "        "
   ]
  },
  {
   "cell_type": "code",
   "execution_count": null,
   "metadata": {},
   "outputs": [],
   "source": []
  },
  {
   "cell_type": "code",
   "execution_count": null,
   "metadata": {},
   "outputs": [],
   "source": []
  },
  {
   "cell_type": "code",
   "execution_count": null,
   "metadata": {},
   "outputs": [],
   "source": []
  },
  {
   "cell_type": "code",
   "execution_count": null,
   "metadata": {},
   "outputs": [],
   "source": []
  },
  {
   "cell_type": "markdown",
   "metadata": {},
   "source": [
    "## experiments (disregard them)"
   ]
  },
  {
   "cell_type": "code",
   "execution_count": 17,
   "metadata": {
    "scrolled": true
   },
   "outputs": [
    {
     "data": {
      "text/plain": [
       "{'2019-04-22': 'A strong earthquake shook the Philippine capital and outlying provinces Monday, briefly knocking out power, causing boulders to roll down onto a highway, stopping an overhead train service and prompting thousands of people to flee to safety, officials said.\\nThe U.S. Geological Survey said the late afternoon quake had a preliminary magnitude of 6.1 and was centered near the northwestern town of Bodega.\\nThere were no immediate reports of injuries or widespread damage.Renato Solidum, who heads the government\\'s earthquake institute, said the quake was not strong enough to trigger a tsunami.Gov. Lilia Pineda of Pampanga province, north of Manila, told DZMM radio that an old church was damaged and some boulders rolled down a hill onto a highway, and some concrete power posts were also toppled in one town.Thousands of office workers dashed out of buildings in Manila, many wearing hard hats, and residents ran out of houses in panic.\\nSeveral towns briefly lost power on the main northern Luzon island, officials said.The Philippines, one of the world\\'s most disaster-prone countries, is prone to earthquakes and volcanic eruptions due to its location on the so-called Pacific \"Ring of Fire.\"  The earthquake that jolted Luzon Monday afternoon claimed at least three lives, Pampanga Gov. Lilia Pineda said.\\nThe STAR reported that at least three persons were crushed in San Fernando, Pampanga when a wall collapsed on them during the earthquake.\\nThe Philippine Institute of Volcanology and Seismology reported that a magnitude 6.1 earthquake hit Castillejos Zambales at around 5:11 p.\\n.7671232876712 At least three persons were crushed to death by walls which collapsed during the powerful earthquake that shook San Fernando, Pampanga at around 5:11 pm on Monday, Gov.\\nREAD:Magnitude 6.1 quake jolts Luzon, rocks Metro Manila The National Disaster Risk Reduction Management Council, for its part, said that it has received reports offive casualties in Central Luzon.\\n(In Porac, Pampanga, the fourth floor of a building collapsed and there were people trapped inside.\\n) Pineda said that 20 people have already been rescued and brought to the hospital but rescue operations continue as there remain more people trapped inside the building.\\nThe Pampanga governor also said that there are difficulties as the power was cut and concrete posts have collapsed.\\n\" Pineda said that the bell tower of San Agustin Church and another old church in Porac were also damaged due to the earthquake.\\nAt least six people were killed after a 6.1-magnitude earthquake struck the Philippine main Luzon island on Monday afternoon, local media reported.\\nAngie Blanco, a local disaster official in northern Pampanga province, told ABS-CBN television that some people were trapped in a four-story building that collapsed in Porac, a town in Pampanga province in the central Luzon region, north of Manila.\\nThe Philippine Institute of Volcanology and Seismology (Phivolcs) revised the magnitude of the earthquake to 6.1-magnitude from the earlier reported 5.7-magnitude.\\nIn a report, the quake-monitoring Phivocls said the quake, which struck at 5:11 p.m. local time, hit at a depth of 12 km, about 2 km northeast of Castillejos town in northern Zambales province.\\nThe quake was felt in Metro Manila, prompting people to scramble out of buildings and houses.\\nThe Philippine Institute of Volcanology and Seismology (Phivolcs) has reminded the public that there is no technology yet that can predict earthquakes.\\nOn its Facebook page, Phivolcs shared an old post dismissing rumors that an earthquake involving the West Valley Fault, possibly affecting Metro Manila and its neighboring provinces will occur.\\n(The DOST-Phivolcs continue to monitor the origins of earthquakes to provide alerts based from data that is available.) The earthquake on Monday was recorded in Castillejos town in Zambales and was felt in different parts of Luzon from Pangasinan to Metro Manila and to Camarines Norte.\\nDespite the absence of earthquakes involving the West Valley Fault, the National Capital Region Police Office (NCRPO) said that agencies like the Metropolitan Manila Development Authority (MMDA) are prepared for the worst scenario.\\nIn order to speed up the evacuation of residents and the rescue operations, the MMDA has divided Metro Manila into four quadrants,\\' the NCRPO said.\\nWalls move in circular fashion\\' as strong temblor jolts main island of Luzon  Employees are seen at an open area in Manila, after an earthquake rocked the Philippines on April 22, 2019.\\nThat\\'s what initial images coming out of the Philippines show: collapsed buildings, damaged airport, cars crushed by debris.\\nThe quake was centred on the town of Castillejos, about 140 kilometres northwest of Manila, local geologists said.\\nPictures showing collapsed buildings in Olongapo City, in Zambales, north of Manila, were also posted on Twitter.\\n3.21pm, Monday (all timings Dubai) 5 people reported killed At least five people died after a powerful earthquake struck central Philippines on Monday, shaking buildings, cracking walls and sending thousands scurrying out to open fields.\\nA local official reported at least three bodies were pulled out of a collapsed building in Porac, a town about an hour by car from Manila.\\nThe powerful quake, with epicentre in Zambales province, just outside Manila, jolted the capital and surrounding regions.\\nImage Credit: Google maps  An old woman and her grandchild were crushed to death by another building in the town of Lubao, provincial governor Lilia Pineda told local TV station ABS-CBN.\\nRescue workers carry a woman to an ambulance after she became dizzy following an earthquake hit Manila, on Monday, April 22, 2019.\\nImage Credit: AP  The quake struck 60 km (37 miles) northwest of the Philippine capital at a depth of 40 km (25 miles).\\nSome local officials reported damage to a church in northern Pampanga province, adding that boulders rolled down a mountain, blocking a highway.\\nA Reuters witness in the capital, Manila, said offices were swaying in the business district of Makati City.\\nThe quake was centred on the town of Castillejos, about 100 kilometres (62 miles) northwest of Manila, local geologists said.\\nThe Philippine News Agency quoted local volcanologists as saying the quake\\'s magnitude was measured at 5.7.\\nPhilippine Institute of Seismology and Volcanology chief Renato Solidum says the quake, which was caused by movement of a local fault, was not strong enough to trigger a tsunami or cause widespread damage.The quake struck 60 km (37 miles) northwest of Manila at a depth of 40 km (25 miles).\\nLocal media reported that the glass door of a fast-food restaurant at SM Pampanga and a portion of the floor at SM Olongapo were damaged due to the quake that jolted parts of Luzon on Monday afternoon.\\nAn its initial earthquake bulletin, the Philippine Institute of Volcanology and Seismology (Phivolcs) reported that the earthquake was of tectonic origin had a depth of 21 kilometers.\\nAt least five people were killed in the collapse of two buildings caused by the magnitude 6.3 earthquake that hit the northern Philippines on Monday afternoon, officials said.\\nThree bodies were found in a four-story building that collapsed in the city of Porac, in Pampanga province, north of Manila.\\nTwo others - an elderly woman and her grandson - were discovered in the rubble of another building in the nearby city of Lubao, said the provincial governor, Lilia Pineda.\\nA 6.1 magnitude earthquake hit the Philippine island of Luzon on Monday, causing five deaths and property damage.\\nBuildings end up after a strong earthquake in Philippines of magnitude 6.3.\\nA strong 6.3-magnitude quake was recorded today on the Philippine island of Luzon, with no reports of casualties or damage, nor a warning of a possible tsunami, officials said.\\nAccording to the same source, the earthquake struck the Philippine island Luzon, located about 60 kilometers northwest of Manila, the capital of the Philippines.\\nPower outages hit Balanga City, Mariveles, Orani, and Morong towns in Bataan after a magnitude 6.1 earthquake jolted parts of Luzon Monday.\\nIn Pampanga, patients in a private hospital were evacuated as electricty supply in City of San Fernando was cut off as a preemptive measure.\\nThe management of all train stations suspended its operations Monday afternoon following the strong quake that hit the Metro Manila and other parts of Luzon.\\nLawyer Hernando Cabrera, LRT-2 spokesperson, said that all stations were closed pending inspection of possible damage due to the quake.\\n\\'LRT-2 suspends train operations at around 5:18 PM, all stations are closed for passenger entry, pending inspection and assessment of all facilities and systems due to the strong earthquake,\\' Cabrera said in a tweet.\\nLRT2 suspends train operations at around 5:18 PM, all stations are closed for passenger entry, pending inspection and assessment of all facilities and systems due to strong earthquake.\\nMeanwhile, LRT-1 said that it would temporarily suspend its operations for the whole line.\\nIn its initial earthquake bulletin, the Philippine Institute of Volcanology and Seismology (Phivolcs) said the earthquake struck 2 kilometers northeast of this town at 5.11 p.m. The earthquake was of tectonic origin, with a depth of 21 km.\\nIn its initial earthquake bulletin, the Philippine Institute of Volcanology and Seismology (Phivolcs) said the earthquake struck 2 kilometers northeast of this town at 5.11 p.m. The earthquake was of tectonic origin, with a depth of 21 km.\\nThe glass door of a fast-food restaurant at SM Pampanga and a portion of a floor in SM Olongapo were damaged due to the quake.\\nThe glass door of a fast-food restaurant at SM Pampanga and a portion of a floor in SM Olongapo were damaged due to the quake.\\nIn Isabela, local officials said the tremor was felt in Santiago City.\\nThe glass door of a fast-food restaurant at SM Pampanga and a portion of the floor at SM Olongapo were damaged due to the magnitude 6.1 quake that jolted parts of Luzon on Monday afternoon.\\nIn its initial earthquake bulletin, the Philippine Institute of Volcanology and Seismology (Phivolcs) said the earthquake struck 2 kilometers northeast of this town at 5.11 p.m. The earthquake was of tectonic origin had a depth of 21 kilometers.\\nThe Philippine Institute of Volcanology and Seismology traced the epicenter of the 6.1-magnitude temblor in Castillejos, Zambales.\\nBased on the latest report from the Pampanga Provincial Disaster and Risk Reduction and Management Council (PDRRMC), three of the fatalities were trapped inside the Chuzon Supermarket in Porac town while the two others were hit by a collapsed wall in Barangay Sta. Cruz, Lubao town, both in this province.',\n",
       " '2019-04-23': 'The death toll from Monday\\'s 6.1-magnitude earthquake that struck the Zambales province in the Philippine main Luzon Island has risen to 16, the government said on Tuesday.\\nRicardo Jalad, the executive director of the National Disaster Risk Reduction and Management Council (NDRRMC), said 81 people were also injured and 14 others remain missing in central Luzon provinces of Pampanga and Zambales.\\nOf the 16, the national disaster agency said five were pulled from the collapsed four-storey supermarket building in Porac town, seven from different villages also in Porac town, two in Lubao town, one in Angeles City, in Pampanga province and one in San Marcelino town in Zambales province.\\nMonday\\'s earthquake also caused landslide in San Marcelino town, prompting the government to evacuate about 120 families living around the mountain.\\nThe Philippine Institute of Volcanology and Seismology (Phivolcs) said Monday\\'s quake was detected at a depth of 12 km, about 18 km northeast of Castillejos, a town in Zambales province in the western part of Luzon.\\nThe quake knocked down buildings and walls, and cracked road surfaces in Pampanga province and other parts of central Luzon.\\nSchools and offices in Metro Manila and outlying provinces were closed on Tuesday to make way for inspection of the buildings.\\nLess than 24 hours after the 6.1-magnitude rocked the Philippines on Monday, another 6.5-magnitude earthquake struck the San Julian town in Eastern Samar province in the central Philippines at 1:37 p.m. local time on Tuesday.\\nEnditem The death toll from Monday\\'s 6.1-magnitude earthquake that struck the northern Philippines has risen to 16, the Philippine National Disaster Risk Reduction and Management Council said on Tuesday.\\nFollowing the first earthquake on Monday, a 6.5-magnitude earthquake struck Eastern Samar province in the central Philippines at 1:37 p.m. local time on Tuesday.\\nFollowing the first earthquake on Monday, a 6.5-magnitude earthquake struck Eastern Samar province in the central Philippines at 1:37 p.m. local time on Tuesday.\\nThe death toll from Monday\\'s 6.1-magnitude earthquake that struck the northern Philippines has risen to 16, the Philippine National Disaster Risk Reduction and Management Council said on Tuesday.\\nThe death toll from Monday\\'s 6.1-magnitude earthquake that struck the northern Philippines has risen to 16, the Philippine National Disaster Risk Reduction and Management Council said on Tuesday.\\nRicardo Salad, executive director of the council, said the earthquake also left 81 people injured while 14 others remained missing in central Luzon provinces of Pampanga and Zambales.\\nRicardo Salad, executive director of the council, said the earthquake also left 81 people injured while 14 others remained missing in central Luzon provinces of Pampanga and Zambales.\\nRicardo Salad, executive director of the council, said the earthquake also left 81 people injured while 14 others remained missing in central Luzon provinces of Pampanga and Zambales.\\nPhilippine Institute of Volcanology and Seismology said Monday\\'s earthquake was detected at a depth of 12 km about 18 km northeast of Castillejos, a town in Zambales province in the western part of Luzon.\\nPhilippine Institute of Volcanology and Seismology said Monday\\'s earthquake was detected at a depth of 12 km about 18 km northeast of Castillejos, a town in Zambales province in the western part of Luzon.\\nPhilippine Institute of Volcanology and Seismology said Monday\\'s earthquake was detected at a depth of 12 km about 18 km northeast of Castillejos, a town in Zambales province in the western part of Luzon.\\nFollowing the first earthquake on Monday, a 6.5-magnitude earthquake struck Eastern Samar province in the central Philippines at 1337 hours (local time) on Tuesday.\\nt least eight people were killed when a magnitude 6.1 earthquake struck the Philippines\\' main island of Luzon on Monday and officials feared dozens could be trapped in the rubble of a collapsed commercial building, Reuters reports.\\nThe quake hit 60 kilometers (37 miles) northwest of the capital, Manila, disrupting air, rail and road transport and causing some damage to buildings and infrastructure.\\nEight people were killed in Porac town and about 20 injured, provincial governor Lilia Pineda said by telephone, citing information from disaster officials.\\nRescuers were using heavy-duty equipment and search dogs to try to reach people trapped after a four-storey building went down, crushing the ground-floor supermarket, she said.\\n\"It won\\'t be easy to rescue them.\" The quake was initially reported as being of 6.3 magnitude and later revised down to 6.1 magnitude, the US Geological Survey and Philippines seismology authorities said.\\nThe quake was initially reported as being of 6.3 magnitude and later revised down to 6.1 magnitude, the US Geological Survey and Philippines seismology authorities said.\\nThe quake hit 60km northwest of the capital, Manila, disrupting air, rail and road transport and causing some damage to buildings and infrastructure.\\nThe quake hit 60km northwest of the capital, Manila, disrupting air, rail and road transport and causing some damage to buildings and infrastructure.\\nThe rescuers are scrambling to reach dozens of people feared buried under a building near Manila that collapsed due to the earthquake.\\nThe rescuers are scrambling to reach dozens of people feared buried under a building near Manila that collapsed due to the earthquake.\\nDeath toll from Philippine earthquake rises to 11, with 24 people missing, mostly in rubble of a four-story building of a supermarket, according to the Associated Press (AP).\\nAccording to the AP, a powerful 6.1-magnitude earthquake shook the northern Philippines on Monday, disrupting air, land and rail links and damaging buildings and infrastructure.\\n\"The worst of the damage was in the province of Pampanga, which was the site of most of the 11 fatalities,\" disaster officials said, adding that dozens of others were injured by falling rubble, including in Manila.\\nReports added that aid rescuers pulled two survivors from the collapsed building, where other trapped people could be heard screaming for help as rescuers struggled to save them.\\nWisma Putra, in a statement, also advised Malaysians in the Philippines, visiting or living in the affected areas, to be cautious and follow the instructions of the local authorities.\\nAt least eight people were killed and several others suffered injuries on Monday after an earthquake of magnitude 6.1 on the Richter scale rocked Bodega town on the Philippine island.According to CNN, the quake was followed by 52 aftershocks.The earthquake was felt in the capital of Manila also.\\nIt\\'s on the Ring of Fire, an arc of volcanoes and fault lines in the basin of the Pacific Ocean.In September last year, the Indonesian island of Sulawesi was struck by two powerful earthquakes, measuring 7.7 and 6.1 on the Richter scale, and a tsunami causing multitudinous loss of human lives and widespread displacement.\\nBuildings collapse in Pamanga as rescuers scramble to find survivors in the rubble Rescue workers carry a survivor out of the collapsed Chuzon supermarket in Porac, Pampanga a day after a 6.3 magnitude earthquake.\\nAFP Philippine rescuers were scrambling to reach dozens of people feared buried under a building that collapsed a day after powerful earthquake north of Manila.\\nThe 6.3-magnitude quake struck northwest of the capital on Monday, scientists from the US Geological Survey said, heavily damaging Clark International Airport and sending terrified locals fleeing swaying high-rises.\\nThe worst of the damage was in the province of Pampanga, which was the site of most of the 11 fatalities, disaster officials said.\\nThe worst of the damage was in the province of Pampanga, which was the site of most of the 11 fatalities, disaster officials said.\\nThe worst of the damage was in the province of Pampanga, which was the site of most of the 11 fatalities, disaster officials said.\\nThe death toll could rise as crews fanned out across the region to assess damage in isolated villages that lost power and communications in one of the area\\'s strongest tremors in years.\\nOver 400 aftershocks have been registered since the initial earthquake - some as strong as 3.4 magnitude - Philippine seismologists said.\\n\"This person is buried under concrete slabs.\" The earthquake also damaged several centuries-old churches which were crowded with worshippers in recent days as the majority-Catholic Philippines marked the Easter holiday.\\n\"The historical value is now gone, but we are hopeful that it will rise again.\" High-rise buildings in the capital swayed after the tremor struck Monday evening, leaving some with large cracks in their walls.\\nIt was still closed on Tuesday as officials assessed the heavy damage to the terminal building and some cracking on the air traffic control tower.\\nThe earthquake was centred on the town of Castillejos, about 100 kilometres northwest of Manila, local geologists said.\\nThe Foreign Ministry, Wisma Putra,said today there has been no report of any Malaysian affected by the earthquake that struck the main island of Luzon in the Philippines yesterday.\\nThe Foreign Ministry, Wisma Putra,said today there has been no report of any Malaysian affected by the earthquake that struck the main island of Luzon in the Philippines yesterday.\\nWisma Putra, in a statement, also advised Malaysians in the Philippines, visiting or living in the affected areas, to be cautious and follow the instructions ofthe local authorities.\\nAccording to media reports, at least nine people were killed in the 6.1-magnitude earthquake that struck the province of Zambales in Luzon Island.\\nAccording to media reports, at least nine people were killed in the 6.1-magnitude earthquake that struck the province of Zambales in Luzon Island.\\nA strong earthquake shook the Philippine capital and outlying provinces Monday, briefly knocking out power, causing boulders to roll down onto a highway, stopping an overhead train service and prompting thousands of people to flee to safety, officials said.\\nThe U.S. Geological Survey said the late afternoon quake had a preliminary magnitude of 6.1 and was centred near the northwestern town of Bodega.\\nRenato Solidum, who heads the government\\'s earthquake institute, said the quake was not strong enough to trigger a tsunami.\\nGov. Lilia Pineda of Pampanga province, north of Manila, told DZMM radio that an old church was damaged and some boulders rolled down a hill onto a highway and some concrete power posts were also toppled in one town.\\nThe railway systems in Metro Manila have suspended their operations following a quake that hit Luzon Monday afternoon.\\nIn its advisory, the MRT-3 management said it has suspended operations effective 5:12 p.m. Monday to assess the status of its structures following the earthquake.\\nThe Philippine Institute of Volcanology and Seismology (Phivolcs) reported that a magnitude 6.1 earthquake struck parts of Luzon at around 5:11 p.m. with its epicenter located at 2 kilometers northeast of Castillejos, Zambales.\\nThe Philippines was hit by a powerful earthquake on Tuesday afternoon, a day after a deadly tremor hit the north of the country.\\nThe earthquake on Tuesday registered a magnitude of 6.4 and was centered in Samar, an island in the central eastern part of the country, the United States Geological Survey said.\\nThe location is about 375 miles southeast of the magnitude-6.1 earthquake Monday that killed at least 16 people and shook buildings in Manila, the capital.\\nRescuers in a town near Manila were still searching on Tuesday for people trapped in a supermarket that collapsed in the Monday quake.\\nOfficials from the Philippine Institute of Volcanology and Seismology said the two earthquakes this week did not appear to be connected.\\nMany areas hit by the quake Monday, which was centered about 40 miles northwest of Manila, were still without power a day later.\\nThe city hall is safe and sound.” The Department of Tourism (DOT) has encouraged tourists to \"review\" any of their travel plans to the areas affected by the 6.1 magnitude earthquake that jolted parts of Luzon Monday afternoon.\\nBengzon also expressed their \"deepest sympathies to the families of the victims of the recent earthquake.\" According to the Philippine Institute of Volcanology and Seismology (Phivolcs), the earthquake hit parts of Luzon at around 5:11 p.m. on Monday with its epicenter in Castillejos, Zambales.\\nIntensity 5 was described as \"strong\" and \"generally felt by most people indoors or outdoors.\" A state of calamity has already been declared in Pampanga as several structures were damaged by the quake.\\nThe Trade Union Congress of the Philippines (TUCP) made the call after a magnitude 6.1 earthquake rocked parts of Luzon on Monday, shortly after 5:11 p.m., leaving at least 14 dead in Porac and Lubao towns of Pampanga.\\nThe quake, also felt in Metro Manila, caused thousands of private and public sector employees to hastily evacuate their offices and sought safety in open spaces.\\nANOTHER massive earthquake as struck the Philippines days after a fatal tremor killed 11 in the island nation.\\nThe\\xa0Philippines was hit by the latest quake at a depth of 10km close to the island of Samar, the third largest in the\\xa0archipelago, at around 1.30pm local time.\\nPictures show roads have cracked and there some damage to building following the tremor.\\nIt comes little over 24 hours after a 6.1 tremor struck\\xa0the main Philippines island of Luzon.\\nAt least 11 people were killed and dozens remain missing as the tremor collapsed buildings.\\nCOLLAPSED: Rubble tumbles from buildings in the Philippines  Witness Pictures shared on social media shows sprawling cracks going across roads on Samar.\\nAnd videos reveal people fleeing buildings in panic following the quake.\\nPhilippine rescuers are continuing to search of survivors in the wreckages of buildings which collapsed during the previous quake near Manila.\\nPhilippine Institute of Volcanology and Seismology (Phivolcs) earlier reported a magnitude 6.1 earthquake which rocked parts of Luzon, including Metro Manila late Monday afternoon.\\nBased on the latest report from the Pampanga Provincial Disaster and Risk Reduction and Management Council (PDRRMC), three of the fatalities were trapped inside the Chuzon Supermarket in Porac town while the two others were hit by a collapsed wall in Barangay Sta. Cruz, Lubao town, both in this province.\\nMore than 400 aftershocks have been recorded thus far after Luzon was jolted by a magnitude 6.1 earthquake on Monday, the Philippine Institute of Volcanology and Seismology reported on Tuesday morning.\\nTuesday following the tremor that hit Luzon and swayed buildings in Metro Manila.',\n",
       " '2019-04-24': 'The Philippine government on Wednesday assured Filipinos affected by two strong back-to-back earthquakes that it was \"on top of the situation\" and ready to provide assistance to all.\\nOn Tuesday, a magnitude-6.5 earthquake rattled the eastern Philippines, injuring 10 people, according to the national disaster relief agency.\\nIn Pampanga province, the worst-hit area, rescuers were continuing to dig through the rubble of a four-storey supermarket building in Porac town, 83 kilometres north of Manila, despite fading hopes of finding survivors.\\nFourteen people were still reported missing from the collapse of the supermarket, but authorities said rescuers were no longer hearing sounds from the rubble.\\nThe Employers\\' Confederation of the Philippines (ECOP) on Tuesday said it will make the establishment of post-earthquake safety protocols a priority agenda when members convene for the National Conference of Employers (NCE) this May. ECOP Chair Emeritus Francis Chua, in a reaction to organized labor\\'s call for employers to ensure that office buildings are inspected and rendered structurally sound before letting their employees return to work after an earthquake, told the Philippine News Agency - PNA that this \"point is well taken.\" But we need to convene, and make this (new safety protocols) as one of our priority agenda in our NCE this May, Chua said.\\nThe quake, also felt in Metro Manila, caused thousands of private and public sector employees to hastily evacuate their offices and sought safety in open spaces.\\nTUCP officials said Tuesday that they are acting on reports from workers and employees, who were not evacuated but instead were ordered to report back for work despite the dangers in the immediate aftermath of the quake.\\nTHE chief of the premier gateway on Tuesday warned commercial carriers not to arbitrarily delay or cancel flights in the wake of the 6.1-magnitude earthquake that damaged the Clark International Airport terminal building.\\nIn a statement, Ninoy Aquino International Airport (Naia) General Manager Ed Monreal warned airline companies \\'not to take advantage of yesterday\\'s [April 22] earthquake to arbitrarily delay or cancel flights.\\' Airlines should not burden the public with the inconvenience that may result from the disruption of the passengers\\' travel plans.\\nMonreal\\'s warning followed reports that Philippine Airlines and Cebu Pacific canceled outbound and inbound flights to and from Clark, where the terminal passenger was heavily damaged by the temblor.\\nClark authorities said 104 flights were canceled on Tuesday, and 14 flights were canceled on Monday just after the earthquake.\\nMonreal said there was no damage to the Naia runway and taxiways, as well as the passenger terminal buildings.\\nMonreal assured the public that \\'it is business as usual\\' for passengers using the Naia terminal, and there should be no cause for alarm following Monday\\'s earthquake.\\nMeanwhile, Philippine Airlines said its has canceled its flight to Clark from Manila and another flight from Davao to Clark.\\nCebu Pacific (CEB) announced that flight 5J 538 (Singapore to Clark) was diverted to the Naia due to damage caused by the earthquake at the Clark airport.\\nCEB said in a statement that passengers on canceled flights at Clark may ride these buses to the Naia Terminal 3 and opt to fly out on Cebu Pacific flights from Manila.\\nhe Philippines was hit by a powerful earthquake on Tuesday afternoon, a day after a deadly tremor hit the north of the country.\\nThe earthquake on Tuesday registered a magnitude of 6.4 and was centered in Samar, an island in the central eastern part of the country, the United States Geological Survey said.\\nThe location is about 375 miles southeast of the magnitude-6.1 earthquake Monday that killed at least 16 people and shook buildings in Manila, the capital.\\nRescuers in a town near Manila were still searching on Tuesday for people trapped in a supermarket that collapsed in the Monday quake.\\nMany areas hit by the quake Monday, which was centered about 40 miles northwest of Manila, were still without power a day later.\\n\\'\\'People panicked at first,\\'\\' Mr. Fuentes said over DZBB radio in Manila.\\n\\'\\'There is still fear as of now.\\'\\'   Col. Michael David, police chief of the coastal city of Tacloban, which was badly damaged by Typhoon Haiyan in 2013, said people there also panicked on Tuesday.\\n\\'\\'There is no tsunami alert.\\'\\'   Mr. David said people had evacuated their homes and offices after the initial shaking, but quickly went back.',\n",
       " '2019-04-25': 'THE Clark International Airport has sustained P30 million worth of infrastructure damage from Monday\\'s quake, but the government was able to fully resume the air hub\\'s operations on Wednesday afternoon.\\nAfter announcing the airport could only accommodate \\'partial operations\\' on Tuesday, the government decided to fully open Clark at 4 p.m. on Wednesday, as it claimed to have successfully repaired the damaged areas of the old passenger-terminal building.\\nHe noted this was made possible as his group immediately started the clearing operations and repairs the morning after the 6.1-magnitude quake.\\nThe government reported the quake caused parts of the terminal\\'s buildings to collapse.\\nMeanwhile, four-star carrier Philippine Airlines (Pal) on Wednesday announced that it is resuming flights to Clark International Airport (CIA) following a two-day closure of the airport terminal building slightly damaged by the Monday earthquake \\'Philippine Airlines is pleased to resume all flights to and from Clark International Airport starting April 25, 2019, following the decision to reopen for full normal operations,\\' PAL said in a statement.\\nCharges could be filed against local officials of Porac, Pampanga and the owner of a supermarket that collapsed during a strong earthquake last Monday, Philippine National Police (PNP) chief Gen. Oscar Albayalde said yesterday.\\nChu and local officials who issued the building permits could face criminal charges for reckless imprudence resulting in multiple homicide and physical injuries if there is substantial evidence to prove that the supermarket was constructed using substandard materials.\\nAlbayalde said Porac officials who issued the permits to the supermarket might have violated the Building Code.\\nThe PNP has activated search and rescue teams to assist in rescue operations in Porac, Pampanga.\\nGen. Ma-O Aplasca, PNP director for operations, ordered the deployment of teams from the National Capital Region Police Office, Special Action Force, Maritime Group, Crime Laboratory Ilocos Region police to assist in search and rescue.\\n\"We are still on search and rescue operations as we have yet to account for the 14 individuals who were reported missing,\" Posadas said.\\nThe operations, he added, will continue until the last areas where these missing individuals could possibly be found have been thoroughly searched.\\nAs of yesterday, the NDRRMC reported that 542 houses, 142 of them totalled, were damaged by the magnitude 6.1 quake that jolted Central Luzon, specifically Pampanga, Bataan and Zambales provinces.\\nThe quake also damaged 67 houses, four of which were totally destroyed, the NDRRMC, in an updated report said.\\nDamaged bridges  Public Works Secretary Mark Villar said that three bridges, including the Guadalupe Bridge in Makati City, sustained minor cracks as a result of the magnitude 6.\\nIn a statement, Villar said that they have so far inspected 275 national bridges, flyovers and viaducts in Metro Manila wherein they noted three bridges to have sustained minor damage.\\nBut the DPWH explained that the Guadalupe Bridge is already being prepared for major retrofitting under the department\\'s Unified Project Management Office.\\nTanza Bridge will undergo a second stage inspection while the minor damage on Tenejeros Bridge does not require immediate repair since the railings do not carry load.\\nA total of 53 school buildings in Metro Manila have minor damage, mostly cracks on walls, columns, beams and ceiling, but three school buildings in Las Piaas were recommended for immediate structural evaluation.\\nVillar said they are coordinating with DepEd for the restoration especially of structures with major damage.\\nDPWH-National Capital Region director Ador Canlas yesterday said that based on their ongoing assessment of national roads and bridges, Metro Manila sustained minor damage and only had \"minimal impact\" from the tremor last Monday.\\nImmediately after the quake, the department deployed rapid assessment teams to check on the condition of the national roads and bridges in the metropolis.\\nOn the leaning building of the Emilio Aguinaldo College (EAC) in Ermita, Manila, Canlas said there is a composite team conducting further investigation into the condition of the structure.\\nAs to reports that parts of Metro Manila are prone to liquefaction, Canlas said that there are hazard maps, even those that pinpoint the areas prone to liquefaction, that are with the Philippine Institute of Volcanology and Seismology (Phivolcs) and the Department of Environment and Natural Resources (DENR).\\nBut he believes that even if there are areas prone to liquefaction, there are remedies that would improve a building\\'s resiliency against strong earthquakes.\\nTUCP president Raymond Mendoza said there are no existing government standards that address workplace safety and health during emergency situations such as earthquake, fire and other disasters.\\nMendoza said mandatory workplace emergency protocol standards are necessary after the recent earthquake showed that many employers refused to evacuate their employees and maintained a business as usual attitude.\\nHowever, Mendoza said there\\'s still a need to craft specific implementing rules and regulations of the law that governs this emergency scenario such as earthquakes.\\nReelectionist Sen. Sonny Angara renewed his call to make disaster risk education mandatory in the curriculum of primary schools to improve the young learners\\' understanding of preparedness and response, as well as hone their readiness in dealing with natural calamities to foster a culture of preparedness among Filipinos.\\n\"Since we live in a country where earthquakes and typhoons are very common, it is imperative that every Filipino is equipped with the basic understanding and knowledge of disaster preparedness and response,\" Angara said.\\nGeraldine Roman, chair of the House committee on disaster management, called on the Senate to hasten approval of their long-approved bill that seeks the creation of a Department ofDisaster Resilience (DDR), especially after a series of major earthquakes hit the country.\\n\" She likewise called on \"all government departments, offices and officials concerned to conduct inspections in all affected areas without delay.\" The Philippine Charity Sweepstakes Office (PCSO) will provide a calamity fund for Pampanga to help residents affected by the tremor.\\nCam and a team of PCSO officers went to Porac, Pampanga the other day to inspect the damage caused by the quake.',\n",
       " '2019-04-26': 'The Philippine Institute of Volcanology and Seismology (PHIVOLCS-DOST) reminds the public against the erroneous information following the magnitude 6.1 earthquake in different parts of Luzon Monday afternoon and magnitude 6.5 earthquake in several Visayas areas Tuesday.\\nMalacaang also called on the public not to erase misleading information on social media to bring alarms, fears and anxieties to the people, but said the cooperation and cooperation of all were necessary.\\nFORMER Senate president Juan Ponce Enrile has raised the need to establish a strong building code following the earthquakes that hit Metro Manila, Central Luzon, and Eastern Visayas this week.\\nThe Puwersa ng Masang Pilipino (PMP) Senate candidate said the recent tremors were a wake-up call for Filipinos that the country is within the earthquake belt.\\n\"I commiserate with the people affected by the last earthquake that happened in Metro Manila and in Central Luzon, especially in Pampanga,\" he added.\\nEnrile, who is seeking a fifth term in the Senate, warned that buildings and other infrastructure might collapse if the \"Big One,\" a huge earthquake that the Philippine Institute of Volcanology and Seismology has warned about, occurs.\\nI think this is a wake-up call for us to realize that we are within the so-called earthquake belt of this planet and we have to accept that,\" Enrile said.\\nHe noted that the deadly impact of recent tremors should be a warning and prompt the people to prepare for stronger earthquakes especially in Metro Manila.',\n",
       " '2019-04-27': \"Here is the text of news released by official news agency Bernama on its website:  - The death toll from Monday's 6.1-magnitude earthquake that struck the northern Philippines has risen to 16, Xinhua news agency reported, quoting the Philippine National Disaster Risk Reduction and Management Council on Tuesday.\\nRicardo Salad, executive director of the council, said the earthquake also left 81 people injured while 14 others remained missing in central Luzon provinces of Pampanga and Zambales.\\nPhilippine Institute of Volcanology and Seismology said Monday's earthquake was detected at a depth of 12 km about 18 km northeast of Castillejos, a town in Zambales province in the western part of Luzon.\\nFollowing the first earthquake on Monday, a 6.5-magnitude earthquake struck Eastern Samar province in the central Philippines at 1.37pm local time on Tuesday.\\nPLDT provided free Fibr Link at the Command Center in Porac, which various government agencies used to communicate the strong quake's aftermath that happened last Monday.\\nThe private sector-led Philippine Disaster Resilience Foundation (PDRF) that Pangilinan co-chairs has also deployed search and rescue teams, response coordination, logistic support, food and water, medical assistance and temporary shelters.\\nhave dispatched rescue teams to help find survivors of the collapsed building in Porac, with the electric company providing the generator sets, floodlights, and heavy equipment.\\nPLDT's aviation unit Pacific Global One Aviation Company also helped in the damage assessment during the earthquake, while NLEX Corp.\\nThe country lies along the 'Pacific Ring of Fire,' home to several tectonic plate boundaries that stretch from Indonesia to the coast of Chile within a 40,000-km arc of seismic violence that triggers volcanic eruptions and unleashes earthquakes almost every day.\\nA rapid movement of a fault line may produce a powerful energy that can trigger a strong earthquake.\\nMONTEGRANDE 'The Big One' In Metro Manila, the 'Big One' applies to a scenario wherein movements along the Valley Fault System could trigger a 7.2-magnitude quake.\\nOver the years, the Philippines has suffered a history of destructive and frequent earthquakes.\\nDestruction of buildings and the loss of lives are not limited to the epicenter and nearby cities of the earthquake.\\nBut it was felt as far as Manila, where 270 people were killed and 261 others were hurt mostly due to the collapse of the Ruby Tower in the Binondo district.\\nOn Mar. 17, 1973, the municipality of Calauag in Quezon province was the worst hit by a 7.0-magnitude earthquake that struck Ragay Gulf.\\nA 7.9-magnitude earthquake on Aug. 17, 1976 left more than 5,000 dead; 2,288 missing; and 9,928 injured in Regions IX and XII.\\nOn Aug. 17, 1983, a 6.5-magnitude, Intensity 7 earthquake was felt in Laoag City and the municipality of Pasuquin in Ilocos Norte.\\nA number of reinforced concrete buildings either totally crumbled or sustained major structural damage beyond rehabilitation.\\nOn Feb. 8, 1990, a 6.8-magnitude earthquake, which was felt at Intensity 8, hit the municipalities of Jagna, Duero and Guindulman in Bohol.\\nAbout 3,000 houses, buildings and churches were damaged, of which 182 totally collapsed, including two historical churches.\\nCaused by strikes and slips in the Digdig Fault and with an epicenter in Nueva Ecija province, the earthquake devastated Baguio City, which was 50 km away.\\nThe 1990 earthquake prompted the Philippine Institute of Volcanology and Seismology to develop a software for Rapid Earthquake Damage Assessment System.\\nOn Nov. 15, 1994, a 7.1-magnitude earthquake affected 13 municipalities or a total of 273 barangays in Oriental Mindoro.\\nAbout 22,452 families were affected, 78 people were killed and 430 were injured.\\nThree major power plants, two of which are connected to the Luzon grid and one to the Visayas grid, tripped during the earthquake, causing brownouts in Mindoro Island and parts of Leyte and Samar.\\nA 5.1-magnitude earthquake, felt at an Intensity 7, rocked Bayugan, Agusan del Sur province on June 7, 1999.\\nPoorly built structures collapsed, while posts and foundations of buildings sank or tilted.\\nTwo days later, a 5.0-magnitude earthquake was felt at Intensity 6 in Talacogon, Agusan del Sur. The earthquake caused damages to bridges, roads, schools, a commercial complex, a telephone station and the municipal hall of the town of Talacogon.\\nOn Oct. 15, 2013, the 7.2-magnitude earthquake, felt at Intensity 7, in Tagbilaran City, Bohol caused major destruction in the province.\\nThis was one of the strongest earthquakes to hit the country in recent years.\\nTotal damage was estimated at over P2.2 billion, devastating Central Visayas particularly the provinces of Bohol and Cebu.\\nMore than 200 persons were killed and over 14,000 structures, including historical buildings and churches were destroyed.\\nPhivolcs described the Intensity 7 tremor as destructive, frightening people and causing them to run outdoors for safety.\\nSources: Inquirer Archives, phivolcs.gov.ph, pna.gov.ph Kathleen de Villa and Marielle Medina, Inquirer Research Major earthquakes Earthquakes with a 7 to 8 magnitude are considered as major quakes that can cause considerable damage near the epicenter.\\nShallow-seated or near-surface major earthquakes when they occur under the sea, may generate tsunamis.\\nThe Philippines has done little in updating its building code, which would have enabled structures in the country to better adapt to the destructive forces of nature.\"}"
      ]
     },
     "execution_count": 17,
     "metadata": {},
     "output_type": "execute_result"
    }
   ],
   "source": [
    "result"
   ]
  },
  {
   "cell_type": "code",
   "execution_count": 37,
   "metadata": {
    "scrolled": true
   },
   "outputs": [
    {
     "data": {
      "text/plain": [
       "['A strong earthquake shook the Philippine capital and outlying provinces Monday, briefly knocking out power, causing boulders to roll down onto a highway, stopping an overhead train service and prompting thousands of people to flee to safety, officials said.',\n",
       " \"There were no immediate reports of injuries or widespread damage.Renato Solidum, who heads the government's earthquake institute, said the quake was not strong enough to trigger a tsunami.Gov. Lilia Pineda of Pampanga province, north of Manila, told DZMM radio that an old church was damaged and some boulders rolled down a hill onto a highway, and some concrete power posts were also toppled in one town.Thousands of office workers dashed out of buildings in Manila, many wearing hard hats, and residents ran out of houses in panic.\",\n",
       " 'Several towns briefly lost power on the main northern Luzon island, officials said.The Philippines, one of the world\\'s most disaster-prone countries, is prone to earthquakes and volcanic eruptions due to its location on the so-called Pacific \"Ring of Fire.\"  The earthquake that jolted Luzon Monday afternoon claimed at least three lives, Pampanga Gov. Lilia Pineda said.',\n",
       " 'READ:Magnitude 6.1 quake jolts Luzon, rocks Metro Manila The National Disaster Risk Reduction Management Council, for its part, said that it has received reports offive casualties in Central Luzon.',\n",
       " 'At least six people were killed after a 6.1-magnitude earthquake struck the Philippine main Luzon island on Monday afternoon, local media reported.',\n",
       " 'Angie Blanco, a local disaster official in northern Pampanga province, told ABS-CBN television that some people were trapped in a four-story building that collapsed in Porac, a town in Pampanga province in the central Luzon region, north of Manila.',\n",
       " 'Philippine Institute of Seismology and Volcanology chief Renato Solidum says the quake, which was caused by movement of a local fault, was not strong enough to trigger a tsunami or cause widespread damage.The quake struck 60 km (37 miles) northwest of Manila at a depth of 40 km (25 miles).',\n",
       " 'Local media reported that the glass door of a fast-food restaurant at SM Pampanga and a portion of the floor at SM Olongapo were damaged due to the quake that jolted parts of Luzon on Monday afternoon.',\n",
       " 'At least five people were killed in the collapse of two buildings caused by the magnitude 6.3 earthquake that hit the northern Philippines on Monday afternoon, officials said.',\n",
       " 'A strong 6.3-magnitude quake was recorded today on the Philippine island of Luzon, with no reports of casualties or damage, nor a warning of a possible tsunami, officials said.',\n",
       " 'Power outages hit Balanga City, Mariveles, Orani, and Morong towns in Bataan after a magnitude 6.1 earthquake jolted parts of Luzon Monday.',\n",
       " 'The management of all train stations suspended its operations Monday afternoon following the strong quake that hit the Metro Manila and other parts of Luzon.',\n",
       " \"'LRT-2 suspends train operations at around 5:18 PM, all stations are closed for passenger entry, pending inspection and assessment of all facilities and systems due to the strong earthquake,' Cabrera said in a tweet.\",\n",
       " 'In its initial earthquake bulletin, the Philippine Institute of Volcanology and Seismology (Phivolcs) said the earthquake struck 2 kilometers northeast of this town at 5.11 p.m. The earthquake was of tectonic origin, with a depth of 21 km.',\n",
       " 'In its initial earthquake bulletin, the Philippine Institute of Volcanology and Seismology (Phivolcs) said the earthquake struck 2 kilometers northeast of this town at 5.11 p.m. The earthquake was of tectonic origin, with a depth of 21 km.']"
      ]
     },
     "execution_count": 37,
     "metadata": {},
     "output_type": "execute_result"
    }
   ],
   "source": [
    "result_short[\"2019-04-22\"].split(\"\\n\")"
   ]
  },
  {
   "cell_type": "code",
   "execution_count": 16,
   "metadata": {
    "scrolled": true
   },
   "outputs": [
    {
     "data": {
      "text/plain": [
       "['Ricardo Salad, executive director of the council, said the earthquake also left 81 people injured while 14 others remained missing in central Luzon provinces of Pampanga and Zambales.',\n",
       " \"Philippine Institute of Volcanology and Seismology said Monday's earthquake was detected at a depth of 12 km about 18 km northeast of Castillejos, a town in Zambales province in the western part of Luzon.\",\n",
       " 'Following the first earthquake on Monday, a 6.5-magnitude earthquake struck Eastern Samar province in the central Philippines at 1.37pm local time on Tuesday.',\n",
       " 'have dispatched rescue teams to help find survivors of the collapsed building in Porac, with the electric company providing the generator sets, floodlights, and heavy equipment.',\n",
       " 'On Aug. 17, 1983, a 6.5-magnitude, Intensity 7 earthquake was felt in Laoag City and the municipality of Pasuquin in Ilocos Norte.',\n",
       " 'A number of reinforced concrete buildings either totally crumbled or sustained major structural damage beyond rehabilitation.',\n",
       " 'On Feb. 8, 1990, a 6.8-magnitude earthquake, which was felt at Intensity 8, hit the municipalities of Jagna, Duero and Guindulman in Bohol.',\n",
       " 'Two days later, a 5.0-magnitude earthquake was felt at Intensity 6 in Talacogon, Agusan del Sur. The earthquake caused damages to bridges, roads, schools, a commercial complex, a telephone station and the municipal hall of the town of Talacogon.',\n",
       " 'On Oct. 15, 2013, the 7.2-magnitude earthquake, felt at Intensity 7, in Tagbilaran City, Bohol caused major destruction in the province.']"
      ]
     },
     "execution_count": 16,
     "metadata": {},
     "output_type": "execute_result"
    }
   ],
   "source": [
    "result_short[\"2019-04-27\"].split(\"\\n\")"
   ]
  },
  {
   "cell_type": "code",
   "execution_count": 33,
   "metadata": {},
   "outputs": [
    {
     "data": {
      "text/plain": [
       "41    Here is the text of news released by official ...\n",
       "42    Companies led by business titan Manuel V. Pang...\n",
       "43    Earthquakes occur quite frequently in the Phil...\n",
       "Name: content, dtype: object"
      ]
     },
     "execution_count": 33,
     "metadata": {},
     "output_type": "execute_result"
    }
   ],
   "source": [
    "data[\"content\"][data[\"time\"]==\"2019-04-27\"] "
   ]
  },
  {
   "cell_type": "code",
   "execution_count": 46,
   "metadata": {},
   "outputs": [
    {
     "data": {
      "text/plain": [
       "\"Companies led by business titan Manuel V. Pangilinan have joined forces to provide aid in Porac, Pampanga, which was badly hit by the recent 6. 1-magnitude earthquake. PLDT provided free Fibr Link at the Command Center in Porac, which various government agencies used to communicate the strong quake's aftermath that happened last Monday.  Wireless unit Smart Communications also set up free calls and charging stations. PLDT, PLDT-Smart Foundation (PSF) and TV5's Alagang Kapatid Foundation distributed meals to responders and affected residents, while Maynilad Water Services gave bottled drinking water.  PSF also distributed 250 relief packages to families affected by the earthquake. The private sector-led Philippine Disaster Resilience Foundation (PDRF) that Pangilinan co-chairs has also deployed search and rescue teams, response coordination, logistic support, food and water, medical assistance and temporary shelters.  The efforts of the MVP consortium's Tulong Kapatid also focused on assisting in the rescue efforts. Meralco and Philex Mining Corp.  have dispatched rescue teams to help find survivors of the collapsed building in Porac, with the electric company providing the generator sets, floodlights, and heavy equipment. PLDT's aviation unit Pacific Global One Aviation Company also helped in the damage assessment during the earthquake, while NLEX Corp.  provided logistics support. Makati Medical Center sought to secure medical equipment for the damaged facilities at the Porac district hospital.  Smart equipped the Alagang Kapatid truck with mobile phones, pocket WiFi and satellite phones which were used for free calls and internet services, while Meralco, through One Meralco Foundation, supplied a portable generator to power free charging stations. \""
      ]
     },
     "execution_count": 46,
     "metadata": {},
     "output_type": "execute_result"
    }
   ],
   "source": [
    "data[\"content\"][data[\"time\"]==\"2019-04-27\"][42]"
   ]
  },
  {
   "cell_type": "code",
   "execution_count": 99,
   "metadata": {},
   "outputs": [
    {
     "data": {
      "text/plain": [
       "[(0,\n",
       "  '0.005*\"persons\" + 0.005*\"supermarket\" + 0.004*\"na\" + 0.004*\"sa\" + 0.004*\"rescue\" + 0.004*\"collapse\" + 0.003*\"pdrrmc\" + 0.003*\"operation\" + 0.003*\"west\" + 0.003*\"inside\"'),\n",
       " (1,\n",
       "  '0.005*\"philippines\" + 0.004*\"story\" + 0.004*\"build\" + 0.003*\"earthquakes\" + 0.003*\"province\" + 0.003*\"kill\" + 0.003*\"add\" + 0.003*\"northern\" + 0.003*\"collapse\" + 0.003*\"cause\"'),\n",
       " (2,\n",
       "  '0.003*\"train\" + 0.003*\"service\" + 0.003*\"briefly\" + 0.003*\"boulders\" + 0.003*\"roll\" + 0.003*\"thousands\" + 0.003*\"prone\" + 0.003*\"highway\" + 0.003*\"power\" + 0.003*\"safety\"'),\n",
       " (3,\n",
       "  '0.005*\"bataan\" + 0.004*\"bulacan\" + 0.003*\"church\" + 0.003*\"pampanga\" + 0.003*\"city\" + 0.003*\"outside\" + 0.003*\"towns\" + 0.003*\"see\" + 0.003*\"rush\" + 0.003*\"patients\"'),\n",
       " (4,\n",
       "  '0.002*\"supermarket\" + 0.002*\"operation\" + 0.002*\"pdrrmc\" + 0.002*\"persons\" + 0.002*\"earthquakes\" + 0.002*\"fatalities\" + 0.002*\"west\" + 0.002*\"collapse\" + 0.002*\"province\" + 0.002*\"predict\"'),\n",
       " (5,\n",
       "  '0.006*\"lrt\" + 0.003*\"inspection\" + 0.003*\"resume\" + 0.003*\"train\" + 0.003*\"operations\" + 0.003*\"systems\" + 0.003*\"structure\" + 0.003*\"suspend\" + 0.002*\"integrity\" + 0.002*\"pending\"'),\n",
       " (6,\n",
       "  '0.004*\"miles\" + 0.003*\"afp\" + 0.003*\"image\" + 0.003*\"credit\" + 0.002*\"local\" + 0.002*\"kilometres\" + 0.002*\"picture\" + 0.002*\"open\" + 0.002*\"sway\" + 0.002*\"volcanologists\"'),\n",
       " (7,\n",
       "  '0.006*\"city\" + 0.005*\"kilometers\" + 0.005*\"sm\" + 0.005*\"strike\" + 0.004*\"accord\" + 0.004*\"olongapo\" + 0.004*\"local\" + 0.004*\"northwest\" + 0.004*\"felt\" + 0.003*\"locate\"')]"
      ]
     },
     "execution_count": 99,
     "metadata": {},
     "output_type": "execute_result"
    }
   ],
   "source": [
    "lda_model.show_topics()"
   ]
  },
  {
   "cell_type": "code",
   "execution_count": 101,
   "metadata": {
    "scrolled": true
   },
   "outputs": [
    {
     "data": {
      "text/plain": [
       "array([[0.00123829, 0.0011685 , 0.00116689, ..., 0.00228238, 0.00224514,\n",
       "        0.00223343],\n",
       "       [0.00165542, 0.00131994, 0.00133937, ..., 0.0012411 , 0.0012411 ,\n",
       "        0.0012411 ],\n",
       "       [0.00152679, 0.00240512, 0.00237589, ..., 0.00129281, 0.00129542,\n",
       "        0.00129477],\n",
       "       ...,\n",
       "       [0.00141391, 0.00132348, 0.00132348, ..., 0.00132497, 0.0013254 ,\n",
       "        0.00132481],\n",
       "       [0.00137561, 0.00134022, 0.00134022, ..., 0.00134022, 0.00134023,\n",
       "        0.00134023],\n",
       "       [0.00170205, 0.00116537, 0.00116894, ..., 0.00116319, 0.0011669 ,\n",
       "        0.00116513]], dtype=float32)"
      ]
     },
     "execution_count": 101,
     "metadata": {},
     "output_type": "execute_result"
    }
   ],
   "source": [
    "lda_model.get_topics()"
   ]
  },
  {
   "cell_type": "code",
   "execution_count": 66,
   "metadata": {},
   "outputs": [
    {
     "data": {
      "text/plain": [
       "'A strong earthquake shook the Philippine capital and outlying provinces Monday, briefly knocking out power, causing boulders to roll down onto a highway, stopping an overhead train service and prompting thousands of people to flee to safety, officials said. The U.S. Geological Survey said the late afternoon quake had a preliminary magnitude of 6.1 and was centered near the northwestern town of Bodega. There were no immediate reports of injuries or widespread damage.Renato Solidum, who heads the government\\'s earthquake institute, said the quake was not strong enough to trigger a tsunami.Gov. Lilia Pineda of Pampanga province, north of Manila, told DZMM radio that an old church was damaged and some boulders rolled down a hill onto a highway, and some concrete power posts were also toppled in one town.Thousands of office workers dashed out of buildings in Manila, many wearing hard hats, and residents ran out of houses in panic. An elevated train service was halted and passengers alighted and were made to walk into the nearest stations. Several towns briefly lost power on the main northern Luzon island, officials said.The Philippines, one of the world\\'s most disaster-prone countries, is prone to earthquakes and volcanic eruptions due to its location on the so-called Pacific \"Ring of Fire.\" '"
      ]
     },
     "execution_count": 66,
     "metadata": {},
     "output_type": "execute_result"
    }
   ],
   "source": [
    "data[\"content\"][data[\"time\"]==\"2019-04-22\"][0]"
   ]
  },
  {
   "cell_type": "code",
   "execution_count": 55,
   "metadata": {
    "scrolled": true
   },
   "outputs": [
    {
     "ename": "ValueError",
     "evalue": "cannot compute LDA over an empty collection (no terms)",
     "output_type": "error",
     "traceback": [
      "\u001b[0;31m---------------------------------------------------------------------------\u001b[0m",
      "\u001b[0;31mValueError\u001b[0m                                Traceback (most recent call last)",
      "\u001b[0;32m<ipython-input-55-70ffc264f58c>\u001b[0m in \u001b[0;36m<module>\u001b[0;34m\u001b[0m\n\u001b[0;32m----> 1\u001b[0;31m \u001b[0mapply_lda\u001b[0m\u001b[0;34m(\u001b[0m\u001b[0mparsed_data\u001b[0m\u001b[0;34m,\u001b[0m \u001b[0;36m4\u001b[0m\u001b[0;34m)\u001b[0m\u001b[0;34m\u001b[0m\u001b[0;34m\u001b[0m\u001b[0m\n\u001b[0m",
      "\u001b[0;32m<ipython-input-40-006b36bb28ec>\u001b[0m in \u001b[0;36mapply_lda\u001b[0;34m(data, num_topics)\u001b[0m\n\u001b[1;32m     13\u001b[0m     \u001b[0mtfidf\u001b[0m \u001b[0;34m=\u001b[0m \u001b[0mmodels\u001b[0m\u001b[0;34m.\u001b[0m\u001b[0mTfidfModel\u001b[0m\u001b[0;34m(\u001b[0m\u001b[0mbow_corpus\u001b[0m\u001b[0;34m)\u001b[0m\u001b[0;34m\u001b[0m\u001b[0;34m\u001b[0m\u001b[0m\n\u001b[1;32m     14\u001b[0m     \u001b[0mcorpus_tfidf\u001b[0m \u001b[0;34m=\u001b[0m \u001b[0mtfidf\u001b[0m\u001b[0;34m[\u001b[0m\u001b[0mbow_corpus\u001b[0m\u001b[0;34m]\u001b[0m\u001b[0;34m\u001b[0m\u001b[0;34m\u001b[0m\u001b[0m\n\u001b[0;32m---> 15\u001b[0;31m     \u001b[0mlda_model\u001b[0m \u001b[0;34m=\u001b[0m \u001b[0mgensim\u001b[0m\u001b[0;34m.\u001b[0m\u001b[0mmodels\u001b[0m\u001b[0;34m.\u001b[0m\u001b[0mLdaMulticore\u001b[0m\u001b[0;34m(\u001b[0m\u001b[0mcorpus_tfidf\u001b[0m\u001b[0;34m,\u001b[0m \u001b[0mnum_topics\u001b[0m\u001b[0;34m=\u001b[0m\u001b[0mnum_topics\u001b[0m\u001b[0;34m,\u001b[0m \u001b[0mid2word\u001b[0m\u001b[0;34m=\u001b[0m\u001b[0mdictionary\u001b[0m\u001b[0;34m,\u001b[0m \u001b[0mpasses\u001b[0m\u001b[0;34m=\u001b[0m\u001b[0;36m2\u001b[0m\u001b[0;34m,\u001b[0m \u001b[0mworkers\u001b[0m\u001b[0;34m=\u001b[0m\u001b[0;36m4\u001b[0m\u001b[0;34m,\u001b[0m \u001b[0miterations\u001b[0m\u001b[0;34m=\u001b[0m\u001b[0;36m10\u001b[0m\u001b[0;34m)\u001b[0m\u001b[0;34m\u001b[0m\u001b[0;34m\u001b[0m\u001b[0m\n\u001b[0m\u001b[1;32m     16\u001b[0m     \u001b[0mdistributions\u001b[0m \u001b[0;34m=\u001b[0m \u001b[0;34m[\u001b[0m\u001b[0mdict\u001b[0m\u001b[0;34m(\u001b[0m\u001b[0mlda_model\u001b[0m\u001b[0;34m[\u001b[0m\u001b[0msentence\u001b[0m\u001b[0;34m]\u001b[0m\u001b[0;34m)\u001b[0m \u001b[0;32mfor\u001b[0m \u001b[0msentence\u001b[0m \u001b[0;32min\u001b[0m \u001b[0mbow_corpus\u001b[0m\u001b[0;34m]\u001b[0m\u001b[0;34m\u001b[0m\u001b[0;34m\u001b[0m\u001b[0m\n\u001b[1;32m     17\u001b[0m     \u001b[0;32mreturn\u001b[0m \u001b[0mlda_model\u001b[0m\u001b[0;34m,\u001b[0m \u001b[0mdistributions\u001b[0m\u001b[0;34m\u001b[0m\u001b[0;34m\u001b[0m\u001b[0m\n",
      "\u001b[0;32m~/anaconda3/envs/myenv/lib/python3.6/site-packages/gensim/models/ldamulticore.py\u001b[0m in \u001b[0;36m__init__\u001b[0;34m(self, corpus, num_topics, id2word, workers, chunksize, passes, batch, alpha, eta, decay, offset, eval_every, iterations, gamma_threshold, random_state, minimum_probability, minimum_phi_value, per_word_topics, dtype)\u001b[0m\n\u001b[1;32m    182\u001b[0m             \u001b[0mdecay\u001b[0m\u001b[0;34m=\u001b[0m\u001b[0mdecay\u001b[0m\u001b[0;34m,\u001b[0m \u001b[0moffset\u001b[0m\u001b[0;34m=\u001b[0m\u001b[0moffset\u001b[0m\u001b[0;34m,\u001b[0m \u001b[0meval_every\u001b[0m\u001b[0;34m=\u001b[0m\u001b[0meval_every\u001b[0m\u001b[0;34m,\u001b[0m \u001b[0miterations\u001b[0m\u001b[0;34m=\u001b[0m\u001b[0miterations\u001b[0m\u001b[0;34m,\u001b[0m\u001b[0;34m\u001b[0m\u001b[0;34m\u001b[0m\u001b[0m\n\u001b[1;32m    183\u001b[0m             \u001b[0mgamma_threshold\u001b[0m\u001b[0;34m=\u001b[0m\u001b[0mgamma_threshold\u001b[0m\u001b[0;34m,\u001b[0m \u001b[0mrandom_state\u001b[0m\u001b[0;34m=\u001b[0m\u001b[0mrandom_state\u001b[0m\u001b[0;34m,\u001b[0m \u001b[0mminimum_probability\u001b[0m\u001b[0;34m=\u001b[0m\u001b[0mminimum_probability\u001b[0m\u001b[0;34m,\u001b[0m\u001b[0;34m\u001b[0m\u001b[0;34m\u001b[0m\u001b[0m\n\u001b[0;32m--> 184\u001b[0;31m             \u001b[0mminimum_phi_value\u001b[0m\u001b[0;34m=\u001b[0m\u001b[0mminimum_phi_value\u001b[0m\u001b[0;34m,\u001b[0m \u001b[0mper_word_topics\u001b[0m\u001b[0;34m=\u001b[0m\u001b[0mper_word_topics\u001b[0m\u001b[0;34m,\u001b[0m \u001b[0mdtype\u001b[0m\u001b[0;34m=\u001b[0m\u001b[0mdtype\u001b[0m\u001b[0;34m\u001b[0m\u001b[0;34m\u001b[0m\u001b[0m\n\u001b[0m\u001b[1;32m    185\u001b[0m         )\n\u001b[1;32m    186\u001b[0m \u001b[0;34m\u001b[0m\u001b[0m\n",
      "\u001b[0;32m~/anaconda3/envs/myenv/lib/python3.6/site-packages/gensim/models/ldamodel.py\u001b[0m in \u001b[0;36m__init__\u001b[0;34m(self, corpus, num_topics, id2word, distributed, chunksize, passes, update_every, alpha, eta, decay, offset, eval_every, iterations, gamma_threshold, minimum_probability, random_state, ns_conf, minimum_phi_value, per_word_topics, callbacks, dtype)\u001b[0m\n\u001b[1;32m    439\u001b[0m \u001b[0;34m\u001b[0m\u001b[0m\n\u001b[1;32m    440\u001b[0m         \u001b[0;32mif\u001b[0m \u001b[0mself\u001b[0m\u001b[0;34m.\u001b[0m\u001b[0mnum_terms\u001b[0m \u001b[0;34m==\u001b[0m \u001b[0;36m0\u001b[0m\u001b[0;34m:\u001b[0m\u001b[0;34m\u001b[0m\u001b[0;34m\u001b[0m\u001b[0m\n\u001b[0;32m--> 441\u001b[0;31m             \u001b[0;32mraise\u001b[0m \u001b[0mValueError\u001b[0m\u001b[0;34m(\u001b[0m\u001b[0;34m\"cannot compute LDA over an empty collection (no terms)\"\u001b[0m\u001b[0;34m)\u001b[0m\u001b[0;34m\u001b[0m\u001b[0;34m\u001b[0m\u001b[0m\n\u001b[0m\u001b[1;32m    442\u001b[0m \u001b[0;34m\u001b[0m\u001b[0m\n\u001b[1;32m    443\u001b[0m         \u001b[0mself\u001b[0m\u001b[0;34m.\u001b[0m\u001b[0mdistributed\u001b[0m \u001b[0;34m=\u001b[0m \u001b[0mbool\u001b[0m\u001b[0;34m(\u001b[0m\u001b[0mdistributed\u001b[0m\u001b[0;34m)\u001b[0m\u001b[0;34m\u001b[0m\u001b[0;34m\u001b[0m\u001b[0m\n",
      "\u001b[0;31mValueError\u001b[0m: cannot compute LDA over an empty collection (no terms)"
     ]
    }
   ],
   "source": [
    "apply_lda(parsed_data, 4)"
   ]
  },
  {
   "cell_type": "code",
   "execution_count": 88,
   "metadata": {},
   "outputs": [
    {
     "data": {
      "text/plain": [
       "\"Here is the text of news released by official news agency Bernama on its website:  - The death toll from Monday's 6.1-magnitude earthquake that struck the northern Philippines has risen to 16, Xinhua news agency reported, quoting the Philippine National Disaster Risk Reduction and Management Council on Tuesday.  Ricardo Salad, executive director of the council, said the earthquake also left 81 people injured while 14 others remained missing in central Luzon provinces of Pampanga and Zambales.  Philippine Institute of Volcanology and Seismology said Monday's earthquake was detected at a depth of 12 km about 18 km northeast of Castillejos, a town in Zambales province in the western part of Luzon.  Following the first earthquake on Monday, a 6.5-magnitude earthquake struck Eastern Samar province in the central Philippines at 1.37pm local time on Tuesday.  No casualties and damage have been reported yet from this earthquake. Companies led by business titan Manuel V. Pangilinan have joined forces to provide aid in Porac, Pampanga, which was badly hit by the recent 6. 1-magnitude earthquake. PLDT provided free Fibr Link at the Command Center in Porac, which various government agencies used to communicate the strong quake's aftermath that happened last Monday.  Wireless unit Smart Communications also set up free calls and charging stations. PLDT, PLDT-Smart Foundation (PSF) and TV5's Alagang Kapatid Foundation distributed meals to responders and affected residents, while Maynilad Water Services gave bottled drinking water.  PSF also distributed 250 relief packages to families affected by the earthquake. The private sector-led Philippine Disaster Resilience Foundation (PDRF) that Pangilinan co-chairs has also deployed search and rescue teams, response coordination, logistic support, food and water, medical assistance and temporary shelters.  The efforts of the MVP consortium's Tulong Kapatid also focused on assisting in the rescue efforts. Meralco and Philex Mining Corp.  have dispatched rescue teams to help find survivors of the collapsed building in Porac, with the electric company providing the generator sets, floodlights, and heavy equipment. PLDT's aviation unit Pacific Global One Aviation Company also helped in the damage assessment during the earthquake, while NLEX Corp.  provided logistics support. Makati Medical Center sought to secure medical equipment for the damaged facilities at the Porac district hospital.  Smart equipped the Alagang Kapatid truck with mobile phones, pocket WiFi and satellite phones which were used for free calls and internet services, while Meralco, through One Meralco Foundation, supplied a portable generator to power free charging stations. Earthquakes occur quite frequently in the Philippines due largely to its location. The country lies along the 'Pacific Ring of Fire,' home to several tectonic plate boundaries that stretch from Indonesia to the coast of Chile within a 40,000-km arc of seismic violence that triggers volcanic eruptions and unleashes earthquakes almost every day. Three tectonic plates that encircle the country are the Philippine Plate in the East; the Eurasian Plate in the West; and the Indo-Australian Plate in the South. The existence of several fault lines across the country is a manifestation of the movements of these tectonic plates. A fault line is defined as a geological fracture wherein the movement of masses of rock has displaced parts of the Earth's crust. A rapid movement of a fault line may produce a powerful energy that can trigger a strong earthquake. There are five active fault lines in the country namely the Western Philippine Fault, the Eastern Philippine Fault, the South of Mindanao Fault, Central Philippine Fault and the Marikina/Valley Fault System. Santa Catalina de Alejandria Parish Church in Porac, Pampanga. -GRIG C. MONTEGRANDE 'The Big One' In Metro Manila, the 'Big One' applies to a scenario wherein movements along the Valley Fault System could trigger a 7.2-magnitude quake. The East Valley Fault straddles 10 kilometers in Rizal province while the West Valley Fault runs over more than 100 km through the provinces of Bulacan, Rizal, Cavite and Laguna, and Metro Manila. Scientists claimed that the 100-km fault, which last moved in 1658, moves every 400 years, meaning the threat of a 7.2-magnitude quake is getting closer. Over the years, the Philippines has suffered a history of destructive and frequent earthquakes. Destruction of buildings and the loss of lives are not limited to the epicenter and nearby cities of the earthquake. On Aug. 2, 1968, an earthquake, felt at Intensity 8, had its epicenter in Casiguran, Aurora. But it was felt as far as Manila, where 270 people were killed and 261 others were hurt mostly due to the collapse of the Ruby Tower in the Binondo district. On Mar. 17, 1973, the municipality of Calauag in Quezon province was the worst hit by a 7.0-magnitude earthquake that struck Ragay Gulf. At least 98 houses were totally destroyed and 270 others were partially damaged. In Brgy. Sumulong in the same town, 70 percent of the school buildings were damaged. A 7.9-magnitude earthquake on Aug. 17, 1976 left more than 5,000 dead; 2,288 missing; and 9,928 injured in Regions IX and XII. The tremor happened just after midnight when most people were sleeping. A tsunami that devastated more than 700 km of coastline, struck from different directions, catching residents in the area unaware. On Aug. 17, 1983, a 6.5-magnitude, Intensity 7 earthquake was felt in Laoag City and the municipality of Pasuquin in Ilocos Norte. A number of reinforced concrete buildings either totally crumbled or sustained major structural damage beyond rehabilitation. The most heavily damaged structures in Laoag City are those near the Laoag River flood plain and along reclaimed stream channels. On Feb. 8, 1990, a 6.8-magnitude earthquake, which was felt at Intensity 8, hit the municipalities of Jagna, Duero and Guindulman in Bohol. About 3,000 houses, buildings and churches were damaged, of which 182 totally collapsed, including two historical churches. The bridge connecting Jagna and Duero also collapsed while the roads to the municipality of Anda sustained cracks and fissuring. Landslides and rockfalls blocked portions of the roads that caused inaccessibility to some areas between Anda and Garcia Hernandez. Six fatalities were reported and more than 200 were injured. About 46,000 people were displaced and at least 7,000 of them were rendered homeless. Damages to property was estimated to reach P154 million. The 7.7-magnitude earthquake on July 16, 1990 shook the northern part of Luzon. Caused by strikes and slips in the Digdig Fault and with an epicenter in Nueva Ecija province, the earthquake devastated Baguio City, which was 50 km away. Damage to buildings, infrastructure and property, mostly in Dagupan City and Baguio City, amounted to roughly P10 billion. At least 1,621 were killed. The 1990 earthquake prompted the Philippine Institute of Volcanology and Seismology to develop a software for Rapid Earthquake Damage Assessment System. On Nov. 15, 1994, a 7.1-magnitude earthquake affected 13 municipalities or a total of 273 barangays in Oriental Mindoro. About 22,452 families were affected, 78 people were killed and 430 were injured. PACIFIC RING OF FIRE The Ring of Fire is a major area in the basin of the Pacific Ocean where many earthquakes and volcanic eruptions occur. The western portion is more complex, with a number of smaller tectonic plates that collide with the Pacific plate from Mariana Islands, the Philippines, Bougainville, Tonga, and New Zealand. Movements within the Earth's crust cause stress to build up at weak points, and rocks to deform. Damaged infrastructure include 24 bridges, eight of which were rendered impassable for days, isolating villages and towns. Three major power plants, two of which are connected to the Luzon grid and one to the Visayas grid, tripped during the earthquake, causing brownouts in Mindoro Island and parts of Leyte and Samar. A 5.1-magnitude earthquake, felt at an Intensity 7, rocked Bayugan, Agusan del Sur province on June 7, 1999. Poorly built structures collapsed, while posts and foundations of buildings sank or tilted. Two days later, a 5.0-magnitude earthquake was felt at Intensity 6 in Talacogon, Agusan del Sur. The earthquake caused damages to bridges, roads, schools, a commercial complex, a telephone station and the municipal hall of the town of Talacogon. On Oct. 15, 2013, the 7.2-magnitude earthquake, felt at Intensity 7, in Tagbilaran City, Bohol caused major destruction in the province. This was one of the strongest earthquakes to hit the country in recent years. Total damage was estimated at over P2.2 billion, devastating Central Visayas particularly the provinces of Bohol and Cebu. More than 200 persons were killed and over 14,000 structures, including historical buildings and churches were destroyed. Phivolcs described the Intensity 7 tremor as destructive, frightening people and causing them to run outdoors for safety. 'People find it difficult to stand in upper floors. Heavy objects and furniture overturn or topple. Big church bells may ring. Old or poorly built structures suffer considerable damage. Some well-built structures are slightly damaged. Some cracks may appear on dikes, fish ponds, road surfaces, or concrete hollow block walls. Limited liquefaction, lateral spreading and landslides are observed. Trees are shaken strongly,' Phivolcs earlier said. The agency defined liquefaction as a process wherein loose saturated sand lose strength during an earthquake and behave like liquid. Sources: Inquirer Archives, phivolcs.gov.ph, pna.gov.ph Kathleen de Villa and Marielle Medina, Inquirer Research Major earthquakes Earthquakes with a 7 to 8 magnitude are considered as major quakes that can cause considerable damage near the epicenter. Shallow-seated or near-surface major earthquakes when they occur under the sea, may generate tsunamis. Aftershocks are those that occur after the largest shock of an earthquake series. These are smaller than the main shock and may continue over a period of weeks, months, or even years. Earthquakes are said to come unexpectedly, shock after shock. The Philippines has done little in updating its building code, which would have enabled structures in the country to better adapt to the destructive forces of nature. Issues and concerns over the implementation and proper inspection of buildings and houses during construction also remain. 'We are better prepared than before,' Phivolcs Director Renato Solidum was earlier quoted as saying. 'But we need to do more. For earthquake preparedness, it's not just the people who should be preparing, but the buildings have to also be structured properly.' Local governments should be more strict in building inspection and in the issuance of permits for building design and construction, he further noted, adding that 'we have a good building code, but unfortunately, this is not always followed.' Solidum also emphasized the need to educate people, pointing out that 'most people would not know the basic structural standards unless they are engineers.'\""
      ]
     },
     "execution_count": 88,
     "metadata": {},
     "output_type": "execute_result"
    }
   ],
   "source": [
    "\"\".join(list(data[\"content\"][data[\"time\"]==\"2019-04-27\"]))"
   ]
  },
  {
   "cell_type": "code",
   "execution_count": 89,
   "metadata": {},
   "outputs": [],
   "source": [
    "sum_sents = tokenize.sent_tokenize(\" \".join(list(data[\"content\"][data[\"time\"]==\"2019-04-27\"])))"
   ]
  },
  {
   "cell_type": "code",
   "execution_count": 90,
   "metadata": {},
   "outputs": [
    {
     "data": {
      "text/plain": [
       "[\"Here is the text of news released by official news agency Bernama on its website:  - The death toll from Monday's 6.1-magnitude earthquake that struck the northern Philippines has risen to 16, Xinhua news agency reported, quoting the Philippine National Disaster Risk Reduction and Management Council on Tuesday.\",\n",
       " 'Ricardo Salad, executive director of the council, said the earthquake also left 81 people injured while 14 others remained missing in central Luzon provinces of Pampanga and Zambales.',\n",
       " \"Philippine Institute of Volcanology and Seismology said Monday's earthquake was detected at a depth of 12 km about 18 km northeast of Castillejos, a town in Zambales province in the western part of Luzon.\",\n",
       " 'Following the first earthquake on Monday, a 6.5-magnitude earthquake struck Eastern Samar province in the central Philippines at 1.37pm local time on Tuesday.',\n",
       " 'No casualties and damage have been reported yet from this earthquake.',\n",
       " 'Companies led by business titan Manuel V. Pangilinan have joined forces to provide aid in Porac, Pampanga, which was badly hit by the recent 6.',\n",
       " '1-magnitude earthquake.',\n",
       " \"PLDT provided free Fibr Link at the Command Center in Porac, which various government agencies used to communicate the strong quake's aftermath that happened last Monday.\",\n",
       " 'Wireless unit Smart Communications also set up free calls and charging stations.',\n",
       " \"PLDT, PLDT-Smart Foundation (PSF) and TV5's Alagang Kapatid Foundation distributed meals to responders and affected residents, while Maynilad Water Services gave bottled drinking water.\",\n",
       " 'PSF also distributed 250 relief packages to families affected by the earthquake.',\n",
       " 'The private sector-led Philippine Disaster Resilience Foundation (PDRF) that Pangilinan co-chairs has also deployed search and rescue teams, response coordination, logistic support, food and water, medical assistance and temporary shelters.',\n",
       " \"The efforts of the MVP consortium's Tulong Kapatid also focused on assisting in the rescue efforts.\",\n",
       " 'Meralco and Philex Mining Corp.  have dispatched rescue teams to help find survivors of the collapsed building in Porac, with the electric company providing the generator sets, floodlights, and heavy equipment.',\n",
       " \"PLDT's aviation unit Pacific Global One Aviation Company also helped in the damage assessment during the earthquake, while NLEX Corp.  provided logistics support.\",\n",
       " 'Makati Medical Center sought to secure medical equipment for the damaged facilities at the Porac district hospital.',\n",
       " 'Smart equipped the Alagang Kapatid truck with mobile phones, pocket WiFi and satellite phones which were used for free calls and internet services, while Meralco, through One Meralco Foundation, supplied a portable generator to power free charging stations.',\n",
       " 'Earthquakes occur quite frequently in the Philippines due largely to its location.',\n",
       " \"The country lies along the 'Pacific Ring of Fire,' home to several tectonic plate boundaries that stretch from Indonesia to the coast of Chile within a 40,000-km arc of seismic violence that triggers volcanic eruptions and unleashes earthquakes almost every day.\",\n",
       " 'Three tectonic plates that encircle the country are the Philippine Plate in the East; the Eurasian Plate in the West; and the Indo-Australian Plate in the South.',\n",
       " 'The existence of several fault lines across the country is a manifestation of the movements of these tectonic plates.',\n",
       " \"A fault line is defined as a geological fracture wherein the movement of masses of rock has displaced parts of the Earth's crust.\",\n",
       " 'A rapid movement of a fault line may produce a powerful energy that can trigger a strong earthquake.',\n",
       " 'There are five active fault lines in the country namely the Western Philippine Fault, the Eastern Philippine Fault, the South of Mindanao Fault, Central Philippine Fault and the Marikina/Valley Fault System.',\n",
       " 'Santa Catalina de Alejandria Parish Church in Porac, Pampanga.',\n",
       " \"-GRIG C. MONTEGRANDE 'The Big One' In Metro Manila, the 'Big One' applies to a scenario wherein movements along the Valley Fault System could trigger a 7.2-magnitude quake.\",\n",
       " 'The East Valley Fault straddles 10 kilometers in Rizal province while the West Valley Fault runs over more than 100 km through the provinces of Bulacan, Rizal, Cavite and Laguna, and Metro Manila.',\n",
       " 'Scientists claimed that the 100-km fault, which last moved in 1658, moves every 400 years, meaning the threat of a 7.2-magnitude quake is getting closer.',\n",
       " 'Over the years, the Philippines has suffered a history of destructive and frequent earthquakes.',\n",
       " 'Destruction of buildings and the loss of lives are not limited to the epicenter and nearby cities of the earthquake.',\n",
       " 'On Aug. 2, 1968, an earthquake, felt at Intensity 8, had its epicenter in Casiguran, Aurora.',\n",
       " 'But it was felt as far as Manila, where 270 people were killed and 261 others were hurt mostly due to the collapse of the Ruby Tower in the Binondo district.',\n",
       " 'On Mar.',\n",
       " '17, 1973, the municipality of Calauag in Quezon province was the worst hit by a 7.0-magnitude earthquake that struck Ragay Gulf.',\n",
       " 'At least 98 houses were totally destroyed and 270 others were partially damaged.',\n",
       " 'In Brgy.',\n",
       " 'Sumulong in the same town, 70 percent of the school buildings were damaged.',\n",
       " 'A 7.9-magnitude earthquake on Aug. 17, 1976 left more than 5,000 dead; 2,288 missing; and 9,928 injured in Regions IX and XII.',\n",
       " 'The tremor happened just after midnight when most people were sleeping.',\n",
       " 'A tsunami that devastated more than 700 km of coastline, struck from different directions, catching residents in the area unaware.',\n",
       " 'On Aug. 17, 1983, a 6.5-magnitude, Intensity 7 earthquake was felt in Laoag City and the municipality of Pasuquin in Ilocos Norte.',\n",
       " 'A number of reinforced concrete buildings either totally crumbled or sustained major structural damage beyond rehabilitation.',\n",
       " 'The most heavily damaged structures in Laoag City are those near the Laoag River flood plain and along reclaimed stream channels.',\n",
       " 'On Feb. 8, 1990, a 6.8-magnitude earthquake, which was felt at Intensity 8, hit the municipalities of Jagna, Duero and Guindulman in Bohol.',\n",
       " 'About 3,000 houses, buildings and churches were damaged, of which 182 totally collapsed, including two historical churches.',\n",
       " 'The bridge connecting Jagna and Duero also collapsed while the roads to the municipality of Anda sustained cracks and fissuring.',\n",
       " 'Landslides and rockfalls blocked portions of the roads that caused inaccessibility to some areas between Anda and Garcia Hernandez.',\n",
       " 'Six fatalities were reported and more than 200 were injured.',\n",
       " 'About 46,000 people were displaced and at least 7,000 of them were rendered homeless.',\n",
       " 'Damages to property was estimated to reach P154 million.',\n",
       " 'The 7.7-magnitude earthquake on July 16, 1990 shook the northern part of Luzon.',\n",
       " 'Caused by strikes and slips in the Digdig Fault and with an epicenter in Nueva Ecija province, the earthquake devastated Baguio City, which was 50 km away.',\n",
       " 'Damage to buildings, infrastructure and property, mostly in Dagupan City and Baguio City, amounted to roughly P10 billion.',\n",
       " 'At least 1,621 were killed.',\n",
       " 'The 1990 earthquake prompted the Philippine Institute of Volcanology and Seismology to develop a software for Rapid Earthquake Damage Assessment System.',\n",
       " 'On Nov. 15, 1994, a 7.1-magnitude earthquake affected 13 municipalities or a total of 273 barangays in Oriental Mindoro.',\n",
       " 'About 22,452 families were affected, 78 people were killed and 430 were injured.',\n",
       " 'PACIFIC RING OF FIRE The Ring of Fire is a major area in the basin of the Pacific Ocean where many earthquakes and volcanic eruptions occur.',\n",
       " 'The western portion is more complex, with a number of smaller tectonic plates that collide with the Pacific plate from Mariana Islands, the Philippines, Bougainville, Tonga, and New Zealand.',\n",
       " \"Movements within the Earth's crust cause stress to build up at weak points, and rocks to deform.\",\n",
       " 'Damaged infrastructure include 24 bridges, eight of which were rendered impassable for days, isolating villages and towns.',\n",
       " 'Three major power plants, two of which are connected to the Luzon grid and one to the Visayas grid, tripped during the earthquake, causing brownouts in Mindoro Island and parts of Leyte and Samar.',\n",
       " 'A 5.1-magnitude earthquake, felt at an Intensity 7, rocked Bayugan, Agusan del Sur province on June 7, 1999.',\n",
       " 'Poorly built structures collapsed, while posts and foundations of buildings sank or tilted.',\n",
       " 'Two days later, a 5.0-magnitude earthquake was felt at Intensity 6 in Talacogon, Agusan del Sur.',\n",
       " 'The earthquake caused damages to bridges, roads, schools, a commercial complex, a telephone station and the municipal hall of the town of Talacogon.',\n",
       " 'On Oct. 15, 2013, the 7.2-magnitude earthquake, felt at Intensity 7, in Tagbilaran City, Bohol caused major destruction in the province.',\n",
       " 'This was one of the strongest earthquakes to hit the country in recent years.',\n",
       " 'Total damage was estimated at over P2.2 billion, devastating Central Visayas particularly the provinces of Bohol and Cebu.',\n",
       " 'More than 200 persons were killed and over 14,000 structures, including historical buildings and churches were destroyed.',\n",
       " 'Phivolcs described the Intensity 7 tremor as destructive, frightening people and causing them to run outdoors for safety.',\n",
       " \"'People find it difficult to stand in upper floors.\",\n",
       " 'Heavy objects and furniture overturn or topple.',\n",
       " 'Big church bells may ring.',\n",
       " 'Old or poorly built structures suffer considerable damage.',\n",
       " 'Some well-built structures are slightly damaged.',\n",
       " 'Some cracks may appear on dikes, fish ponds, road surfaces, or concrete hollow block walls.',\n",
       " 'Limited liquefaction, lateral spreading and landslides are observed.',\n",
       " \"Trees are shaken strongly,' Phivolcs earlier said.\",\n",
       " 'The agency defined liquefaction as a process wherein loose saturated sand lose strength during an earthquake and behave like liquid.',\n",
       " 'Sources: Inquirer Archives, phivolcs.gov.ph, pna.gov.ph Kathleen de Villa and Marielle Medina, Inquirer Research Major earthquakes Earthquakes with a 7 to 8 magnitude are considered as major quakes that can cause considerable damage near the epicenter.',\n",
       " 'Shallow-seated or near-surface major earthquakes when they occur under the sea, may generate tsunamis.',\n",
       " 'Aftershocks are those that occur after the largest shock of an earthquake series.',\n",
       " 'These are smaller than the main shock and may continue over a period of weeks, months, or even years.',\n",
       " 'Earthquakes are said to come unexpectedly, shock after shock.',\n",
       " 'The Philippines has done little in updating its building code, which would have enabled structures in the country to better adapt to the destructive forces of nature.',\n",
       " 'Issues and concerns over the implementation and proper inspection of buildings and houses during construction also remain.',\n",
       " \"'We are better prepared than before,' Phivolcs Director Renato Solidum was earlier quoted as saying.\",\n",
       " \"'But we need to do more.\",\n",
       " \"For earthquake preparedness, it's not just the people who should be preparing, but the buildings have to also be structured properly.'\",\n",
       " \"Local governments should be more strict in building inspection and in the issuance of permits for building design and construction, he further noted, adding that 'we have a good building code, but unfortunately, this is not always followed.'\",\n",
       " \"Solidum also emphasized the need to educate people, pointing out that 'most people would not know the basic structural standards unless they are engineers.'\"]"
      ]
     },
     "execution_count": 90,
     "metadata": {},
     "output_type": "execute_result"
    }
   ],
   "source": [
    "sum_sents"
   ]
  },
  {
   "cell_type": "code",
   "execution_count": 92,
   "metadata": {
    "scrolled": true
   },
   "outputs": [
    {
     "data": {
      "text/plain": [
       "0     [strong, earthquake, shake, philippine, capita...\n",
       "1     [earthquake, jolt, luzon, monday, afternoon, c...\n",
       "2     [people, kill, magnitude, earthquake, strike, ...\n",
       "3     [philippine, institute, volcanology, seismolog...\n",
       "4     [wall, circular, fashion, strong, temblor, jol...\n",
       "5     [people, kill, collapse, build, cause, magnitu...\n",
       "6     [strong, magnitude, quake, record, today, phil...\n",
       "7     [power, outages, hit, balanga, city, mariveles...\n",
       "8     [management, train, station, suspend, operatio...\n",
       "9     [flight, clark, international, airport, cancel...\n",
       "10    [glass, door, fast, food, restaurant, sm, pamp...\n",
       "11    [persons, confirm, die, province, result, powe...\n",
       "Name: content, dtype: object"
      ]
     },
     "execution_count": 92,
     "metadata": {},
     "output_type": "execute_result"
    }
   ],
   "source": [
    "parsed_data = data[\"content\"][data[\"time\"]==\"2019-04-22\"].apply(cleanup) \n",
    "apply_lda(parsed_data, 4)"
   ]
  },
  {
   "cell_type": "code",
   "execution_count": null,
   "metadata": {},
   "outputs": [],
   "source": [
    "data[\"content\"][data[\"time\"]==\"2019-04-22\"].apply(cleanup)"
   ]
  },
  {
   "cell_type": "code",
   "execution_count": null,
   "metadata": {},
   "outputs": [],
   "source": [
    "apply_lda(data, num_topics)"
   ]
  },
  {
   "cell_type": "code",
   "execution_count": 58,
   "metadata": {},
   "outputs": [],
   "source": [
    "num_topics=8"
   ]
  },
  {
   "cell_type": "code",
   "execution_count": 60,
   "metadata": {},
   "outputs": [
    {
     "data": {
      "text/plain": [
       "[[], [], [], [], [], [], [], [], [], [], [], []]"
      ]
     },
     "execution_count": 60,
     "metadata": {},
     "output_type": "execute_result"
    }
   ],
   "source": [
    "bow_corpus"
   ]
  },
  {
   "cell_type": "code",
   "execution_count": 104,
   "metadata": {},
   "outputs": [
    {
     "data": {
      "text/plain": [
       "[('bataan', 0.0050202785),\n",
       " ('bulacan', 0.0041951407),\n",
       " ('church', 0.0030830163),\n",
       " ('pampanga', 0.0030752665),\n",
       " ('city', 0.0030282938),\n",
       " ('outside', 0.0030110118),\n",
       " ('towns', 0.0029405064),\n",
       " ('see', 0.0029222593),\n",
       " ('rush', 0.0028828823),\n",
       " ('patients', 0.0028442738)]"
      ]
     },
     "execution_count": 104,
     "metadata": {},
     "output_type": "execute_result"
    }
   ],
   "source": [
    "lda_model.show_topic(3, topn = 10)"
   ]
  },
  {
   "cell_type": "code",
   "execution_count": 102,
   "metadata": {},
   "outputs": [
    {
     "data": {
      "text/plain": [
       "0.037422470515593886"
      ]
     },
     "execution_count": 102,
     "metadata": {},
     "output_type": "execute_result"
    }
   ],
   "source": [
    "sum([a[1] for a in lda_model.show_topic(0, topn = 10)])"
   ]
  },
  {
   "cell_type": "code",
   "execution_count": 98,
   "metadata": {},
   "outputs": [
    {
     "data": {
      "text/plain": [
       "[('philippines', 0.0046483115),\n",
       " ('story', 0.0042084563),\n",
       " ('build', 0.0039967415),\n",
       " ('earthquakes', 0.003482062),\n",
       " ('province', 0.003374999),\n",
       " ('kill', 0.003223483),\n",
       " ('add', 0.0031926653),\n",
       " ('northern', 0.0030283232),\n",
       " ('collapse', 0.0029627318),\n",
       " ('cause', 0.002933765)]"
      ]
     },
     "execution_count": 98,
     "metadata": {},
     "output_type": "execute_result"
    }
   ],
   "source": [
    "lda_model.show_topic(1, topn = 10)"
   ]
  },
  {
   "cell_type": "code",
   "execution_count": 95,
   "metadata": {},
   "outputs": [
    {
     "data": {
      "text/plain": [
       "[{1: 0.07745821, 2: 0.8305603, 7: 0.086699255},\n",
       " {0: 0.67082036, 3: 0.19629927, 7: 0.12882827},\n",
       " {1: 0.6193342, 7: 0.37458244},\n",
       " {0: 0.9679812, 7: 0.028356703},\n",
       " {0: 0.096097074, 1: 0.06755608, 3: 0.012471877, 6: 0.22302645, 7: 0.5920847},\n",
       " {1: 0.9696112, 7: 0.022517633},\n",
       " {7: 0.9794977},\n",
       " {3: 0.45974904, 7: 0.5331422},\n",
       " {5: 0.9835608, 7: 0.010368145},\n",
       " {3: 0.8031328, 7: 0.19336322},\n",
       " {7: 0.9872511},\n",
       " {0: 0.98975796}]"
      ]
     },
     "execution_count": 95,
     "metadata": {},
     "output_type": "execute_result"
    }
   ],
   "source": [
    "distributions"
   ]
  },
  {
   "cell_type": "code",
   "execution_count": 40,
   "metadata": {},
   "outputs": [],
   "source": [
    "def cleanup(doc):\n",
    "    result = []\n",
    "    doc = re.sub(re.compile('<.*?>'), '', doc)\n",
    "    for word in gensim.utils.simple_preprocess(doc):\n",
    "        if word not in gensim.parsing.preprocessing.STOPWORDS and len(doc) > 3:\n",
    "            result.append(WordNetLemmatizer().lemmatize(word, pos='v'))\n",
    "    return result\n",
    "\n",
    "def apply_lda(data, num_topics):\n",
    "    dictionary = gensim.corpora.Dictionary(data)\n",
    "#     dictionary.filter_extremes(no_below=10, no_above=0.4)\n",
    "    bow_corpus = [dictionary.doc2bow(text_lst) for text_lst in data]\n",
    "    tfidf = models.TfidfModel(bow_corpus)\n",
    "    corpus_tfidf = tfidf[bow_corpus]\n",
    "    lda_model = gensim.models.LdaMulticore(corpus_tfidf, num_topics=num_topics, id2word=dictionary, passes=2, workers=4, iterations=10)\n",
    "    distributions = [dict(lda_model[sentence]) for sentence in bow_corpus]\n",
    "    return lda_model, distributions"
   ]
  },
  {
   "cell_type": "markdown",
   "metadata": {},
   "source": [
    "# Cluster points"
   ]
  },
  {
   "cell_type": "code",
   "execution_count": 202,
   "metadata": {},
   "outputs": [
    {
     "data": {
      "text/plain": [
       "array([6, 2, 5, 1, 1, 2, 7, 1, 7, 2, 1, 2, 7, 7, 2, 1, 3, 3, 2, 3, 0, 1,\n",
       "       7, 3, 0, 4, 3, 2, 3, 7, 3, 1, 2, 0, 2, 2, 2, 7], dtype=int32)"
      ]
     },
     "execution_count": 202,
     "metadata": {},
     "output_type": "execute_result"
    }
   ],
   "source": [
    "sum_sents = tokenize.sent_tokenize(result[\"2019-04-27\"])\n",
    "\n",
    "vectorizer = CountVectorizer()\n",
    "X = vectorizer.fit_transform(sum_sents)\n",
    "\n",
    "kmeans = KMeans(n_clusters=8, random_state=0).fit(X)\n",
    "kmeans.labels_"
   ]
  },
  {
   "cell_type": "code",
   "execution_count": 68,
   "metadata": {},
   "outputs": [
    {
     "data": {
      "text/plain": [
       "[\"Here is the text of news released by official news agency Bernama on its website:  - The death toll from Monday's 6.1-magnitude earthquake that struck the northern Philippines has risen to 16, Xinhua news agency reported, quoting the Philippine National Disaster Risk Reduction and Management Council on Tuesday.\",\n",
       " 'Ricardo Salad, executive director of the council, said the earthquake also left 81 people injured while 14 others remained missing in central Luzon provinces of Pampanga and Zambales.',\n",
       " \"Philippine Institute of Volcanology and Seismology said Monday's earthquake was detected at a depth of 12 km about 18 km northeast of Castillejos, a town in Zambales province in the western part of Luzon.\",\n",
       " 'Following the first earthquake on Monday, a 6.5-magnitude earthquake struck Eastern Samar province in the central Philippines at 1.37pm local time on Tuesday.',\n",
       " \"PLDT provided free Fibr Link at the Command Center in Porac, which various government agencies used to communicate the strong quake's aftermath that happened last Monday.\",\n",
       " 'The private sector-led Philippine Disaster Resilience Foundation (PDRF) that Pangilinan co-chairs has also deployed search and rescue teams, response coordination, logistic support, food and water, medical assistance and temporary shelters.',\n",
       " 'have dispatched rescue teams to help find survivors of the collapsed building in Porac, with the electric company providing the generator sets, floodlights, and heavy equipment.',\n",
       " \"PLDT's aviation unit Pacific Global One Aviation Company also helped in the damage assessment during the earthquake, while NLEX Corp.\",\n",
       " \"The country lies along the 'Pacific Ring of Fire,' home to several tectonic plate boundaries that stretch from Indonesia to the coast of Chile within a 40,000-km arc of seismic violence that triggers volcanic eruptions and unleashes earthquakes almost every day.\",\n",
       " 'A rapid movement of a fault line may produce a powerful energy that can trigger a strong earthquake.',\n",
       " \"MONTEGRANDE 'The Big One' In Metro Manila, the 'Big One' applies to a scenario wherein movements along the Valley Fault System could trigger a 7.2-magnitude quake.\",\n",
       " 'Over the years, the Philippines has suffered a history of destructive and frequent earthquakes.',\n",
       " 'Destruction of buildings and the loss of lives are not limited to the epicenter and nearby cities of the earthquake.',\n",
       " 'But it was felt as far as Manila, where 270 people were killed and 261 others were hurt mostly due to the collapse of the Ruby Tower in the Binondo district.',\n",
       " 'On Mar.',\n",
       " '17, 1973, the municipality of Calauag in Quezon province was the worst hit by a 7.0-magnitude earthquake that struck Ragay Gulf.',\n",
       " 'A 7.9-magnitude earthquake on Aug. 17, 1976 left more than 5,000 dead; 2,288 missing; and 9,928 injured in Regions IX and XII.',\n",
       " 'On Aug. 17, 1983, a 6.5-magnitude, Intensity 7 earthquake was felt in Laoag City and the municipality of Pasuquin in Ilocos Norte.',\n",
       " 'A number of reinforced concrete buildings either totally crumbled or sustained major structural damage beyond rehabilitation.',\n",
       " 'On Feb. 8, 1990, a 6.8-magnitude earthquake, which was felt at Intensity 8, hit the municipalities of Jagna, Duero and Guindulman in Bohol.',\n",
       " 'About 3,000 houses, buildings and churches were damaged, of which 182 totally collapsed, including two historical churches.',\n",
       " 'Caused by strikes and slips in the Digdig Fault and with an epicenter in Nueva Ecija province, the earthquake devastated Baguio City, which was 50 km away.',\n",
       " 'The 1990 earthquake prompted the Philippine Institute of Volcanology and Seismology to develop a software for Rapid Earthquake Damage Assessment System.',\n",
       " 'On Nov. 15, 1994, a 7.1-magnitude earthquake affected 13 municipalities or a total of 273 barangays in Oriental Mindoro.',\n",
       " 'About 22,452 families were affected, 78 people were killed and 430 were injured.',\n",
       " 'Three major power plants, two of which are connected to the Luzon grid and one to the Visayas grid, tripped during the earthquake, causing brownouts in Mindoro Island and parts of Leyte and Samar.',\n",
       " 'A 5.1-magnitude earthquake, felt at an Intensity 7, rocked Bayugan, Agusan del Sur province on June 7, 1999.',\n",
       " 'Poorly built structures collapsed, while posts and foundations of buildings sank or tilted.',\n",
       " 'Two days later, a 5.0-magnitude earthquake was felt at Intensity 6 in Talacogon, Agusan del Sur.',\n",
       " 'The earthquake caused damages to bridges, roads, schools, a commercial complex, a telephone station and the municipal hall of the town of Talacogon.',\n",
       " 'On Oct. 15, 2013, the 7.2-magnitude earthquake, felt at Intensity 7, in Tagbilaran City, Bohol caused major destruction in the province.',\n",
       " 'This was one of the strongest earthquakes to hit the country in recent years.',\n",
       " 'Total damage was estimated at over P2.2 billion, devastating Central Visayas particularly the provinces of Bohol and Cebu.',\n",
       " 'More than 200 persons were killed and over 14,000 structures, including historical buildings and churches were destroyed.',\n",
       " 'Phivolcs described the Intensity 7 tremor as destructive, frightening people and causing them to run outdoors for safety.',\n",
       " 'Sources: Inquirer Archives, phivolcs.gov.ph, pna.gov.ph Kathleen de Villa and Marielle Medina, Inquirer Research Major earthquakes Earthquakes with a 7 to 8 magnitude are considered as major quakes that can cause considerable damage near the epicenter.',\n",
       " 'Shallow-seated or near-surface major earthquakes when they occur under the sea, may generate tsunamis.',\n",
       " 'The Philippines has done little in updating its building code, which would have enabled structures in the country to better adapt to the destructive forces of nature.']"
      ]
     },
     "execution_count": 68,
     "metadata": {},
     "output_type": "execute_result"
    }
   ],
   "source": [
    "sum_sents"
   ]
  },
  {
   "cell_type": "code",
   "execution_count": 27,
   "metadata": {},
   "outputs": [
    {
     "data": {
      "text/plain": [
       "array(['Following the first earthquake on Monday, a 6.5-magnitude earthquake struck Eastern Samar province in the central Philippines at 1.37pm local time on Tuesday.',\n",
       "       'On Aug. 17, 1983, a 6.5-magnitude, Intensity 7 earthquake was felt in Laoag City and the municipality of Pasuquin in Ilocos Norte.',\n",
       "       'On Feb. 8, 1990, a 6.8-magnitude earthquake, which was felt at Intensity 8, hit the municipalities of Jagna, Duero and Guindulman in Bohol.',\n",
       "       'Two days later, a 5.0-magnitude earthquake was felt at Intensity 6 in Talacogon, Agusan del Sur.',\n",
       "       'On Oct. 15, 2013, the 7.2-magnitude earthquake, felt at Intensity 7, in Tagbilaran City, Bohol caused major destruction in the province.'],\n",
       "      dtype='<U204')"
      ]
     },
     "execution_count": 27,
     "metadata": {},
     "output_type": "execute_result"
    }
   ],
   "source": [
    "np.array(sum_sents)[kmeans.labels_==2]"
   ]
  }
 ],
 "metadata": {
  "hide_input": false,
  "kernelspec": {
   "display_name": "Python 3",
   "language": "python",
   "name": "python3"
  },
  "language_info": {
   "codemirror_mode": {
    "name": "ipython",
    "version": 3
   },
   "file_extension": ".py",
   "mimetype": "text/x-python",
   "name": "python",
   "nbconvert_exporter": "python",
   "pygments_lexer": "ipython3",
   "version": "3.7.4"
  },
  "varInspector": {
   "cols": {
    "lenName": 16,
    "lenType": 16,
    "lenVar": 40
   },
   "kernels_config": {
    "python": {
     "delete_cmd_postfix": "",
     "delete_cmd_prefix": "del ",
     "library": "var_list.py",
     "varRefreshCmd": "print(var_dic_list())"
    },
    "r": {
     "delete_cmd_postfix": ") ",
     "delete_cmd_prefix": "rm(",
     "library": "var_list.r",
     "varRefreshCmd": "cat(var_dic_list()) "
    }
   },
   "types_to_exclude": [
    "module",
    "function",
    "builtin_function_or_method",
    "instance",
    "_Feature"
   ],
   "window_display": false
  }
 },
 "nbformat": 4,
 "nbformat_minor": 2
}
