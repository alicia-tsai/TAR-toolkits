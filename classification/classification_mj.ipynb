{
 "cells": [
  {
   "cell_type": "markdown",
   "metadata": {},
   "source": [
    "# Classification with softmax and SVM"
   ]
  },
  {
   "cell_type": "code",
   "execution_count": 1,
   "metadata": {},
   "outputs": [],
   "source": [
    "import matplotlib.pyplot as plt\n",
    "import sklearn\n",
    "import nltk\n",
    "import numpy as np\n",
    "import re\n",
    "import pandas as pd\n",
    "from nltk.corpus import stopwords\n",
    "from nltk.stem import WordNetLemmatizer\n",
    "from sklearn.feature_extraction.text import CountVectorizer\n",
    "import matplotlib.pyplot as plt\n",
    "\n",
    "from sklearn.linear_model import LogisticRegression\n",
    "from sklearn import svm"
   ]
  },
  {
   "cell_type": "markdown",
   "metadata": {},
   "source": [
    "## Check the data"
   ]
  },
  {
   "cell_type": "code",
   "execution_count": 2,
   "metadata": {},
   "outputs": [],
   "source": [
    "df = pd.read_csv('dataset.csv')"
   ]
  },
  {
   "cell_type": "code",
   "execution_count": 3,
   "metadata": {},
   "outputs": [
    {
     "data": {
      "text/html": [
       "<div>\n",
       "<style scoped>\n",
       "    .dataframe tbody tr th:only-of-type {\n",
       "        vertical-align: middle;\n",
       "    }\n",
       "\n",
       "    .dataframe tbody tr th {\n",
       "        vertical-align: top;\n",
       "    }\n",
       "\n",
       "    .dataframe thead th {\n",
       "        text-align: right;\n",
       "    }\n",
       "</style>\n",
       "<table border=\"1\" class=\"dataframe\">\n",
       "  <thead>\n",
       "    <tr style=\"text-align: right;\">\n",
       "      <th></th>\n",
       "      <th>label</th>\n",
       "      <th>sentence</th>\n",
       "    </tr>\n",
       "  </thead>\n",
       "  <tbody>\n",
       "    <tr>\n",
       "      <th>0</th>\n",
       "      <td>building</td>\n",
       "      <td>The earthquake led to the collapse of 72 build...</td>\n",
       "    </tr>\n",
       "    <tr>\n",
       "      <th>1</th>\n",
       "      <td>building</td>\n",
       "      <td>Collapsed reinforced concrete buildings were l...</td>\n",
       "    </tr>\n",
       "    <tr>\n",
       "      <th>2</th>\n",
       "      <td>building</td>\n",
       "      <td>They show photos of three collapsed buildings.</td>\n",
       "    </tr>\n",
       "    <tr>\n",
       "      <th>3</th>\n",
       "      <td>building</td>\n",
       "      <td>Specifically, it shows the photo of a 6-story ...</td>\n",
       "    </tr>\n",
       "    <tr>\n",
       "      <th>4</th>\n",
       "      <td>building</td>\n",
       "      <td>There is no particular plan or elevation irreg...</td>\n",
       "    </tr>\n",
       "  </tbody>\n",
       "</table>\n",
       "</div>"
      ],
      "text/plain": [
       "      label                                           sentence\n",
       "0  building  The earthquake led to the collapse of 72 build...\n",
       "1  building  Collapsed reinforced concrete buildings were l...\n",
       "2  building     They show photos of three collapsed buildings.\n",
       "3  building  Specifically, it shows the photo of a 6-story ...\n",
       "4  building  There is no particular plan or elevation irreg..."
      ]
     },
     "execution_count": 3,
     "metadata": {},
     "output_type": "execute_result"
    }
   ],
   "source": [
    "df.head()"
   ]
  },
  {
   "cell_type": "code",
   "execution_count": 4,
   "metadata": {},
   "outputs": [
    {
     "data": {
      "text/html": [
       "<div>\n",
       "<style scoped>\n",
       "    .dataframe tbody tr th:only-of-type {\n",
       "        vertical-align: middle;\n",
       "    }\n",
       "\n",
       "    .dataframe tbody tr th {\n",
       "        vertical-align: top;\n",
       "    }\n",
       "\n",
       "    .dataframe thead th {\n",
       "        text-align: right;\n",
       "    }\n",
       "</style>\n",
       "<table border=\"1\" class=\"dataframe\">\n",
       "  <thead>\n",
       "    <tr style=\"text-align: right;\">\n",
       "      <th></th>\n",
       "      <th>label</th>\n",
       "      <th>sentence</th>\n",
       "    </tr>\n",
       "  </thead>\n",
       "  <tbody>\n",
       "    <tr>\n",
       "      <th>0</th>\n",
       "      <td>building</td>\n",
       "      <td>The earthquake led to the collapse of 72 build...</td>\n",
       "    </tr>\n",
       "    <tr>\n",
       "      <th>1</th>\n",
       "      <td>building</td>\n",
       "      <td>Collapsed reinforced concrete buildings were l...</td>\n",
       "    </tr>\n",
       "    <tr>\n",
       "      <th>2</th>\n",
       "      <td>building</td>\n",
       "      <td>They show photos of three collapsed buildings.</td>\n",
       "    </tr>\n",
       "    <tr>\n",
       "      <th>3</th>\n",
       "      <td>building</td>\n",
       "      <td>Specifically, it shows the photo of a 6-story ...</td>\n",
       "    </tr>\n",
       "    <tr>\n",
       "      <th>4</th>\n",
       "      <td>building</td>\n",
       "      <td>There is no particular plan or elevation irreg...</td>\n",
       "    </tr>\n",
       "    <tr>\n",
       "      <th>...</th>\n",
       "      <td>...</td>\n",
       "      <td>...</td>\n",
       "    </tr>\n",
       "    <tr>\n",
       "      <th>62</th>\n",
       "      <td>building</td>\n",
       "      <td>In that regard, research should continue to de...</td>\n",
       "    </tr>\n",
       "    <tr>\n",
       "      <th>63</th>\n",
       "      <td>building</td>\n",
       "      <td>A 10-story school building in Manila (Emilio A...</td>\n",
       "    </tr>\n",
       "    <tr>\n",
       "      <th>64</th>\n",
       "      <td>building</td>\n",
       "      <td>Soil liquefaction underneath the building was ...</td>\n",
       "    </tr>\n",
       "    <tr>\n",
       "      <th>65</th>\n",
       "      <td>building</td>\n",
       "      <td>This tilting demonstrates the effect of far fi...</td>\n",
       "    </tr>\n",
       "    <tr>\n",
       "      <th>66</th>\n",
       "      <td>building</td>\n",
       "      <td>Furthermore, the structure being a school buil...</td>\n",
       "    </tr>\n",
       "  </tbody>\n",
       "</table>\n",
       "<p>67 rows × 2 columns</p>\n",
       "</div>"
      ],
      "text/plain": [
       "       label                                           sentence\n",
       "0   building  The earthquake led to the collapse of 72 build...\n",
       "1   building  Collapsed reinforced concrete buildings were l...\n",
       "2   building     They show photos of three collapsed buildings.\n",
       "3   building  Specifically, it shows the photo of a 6-story ...\n",
       "4   building  There is no particular plan or elevation irreg...\n",
       "..       ...                                                ...\n",
       "62  building  In that regard, research should continue to de...\n",
       "63  building  A 10-story school building in Manila (Emilio A...\n",
       "64  building  Soil liquefaction underneath the building was ...\n",
       "65  building  This tilting demonstrates the effect of far fi...\n",
       "66  building  Furthermore, the structure being a school buil...\n",
       "\n",
       "[67 rows x 2 columns]"
      ]
     },
     "execution_count": 4,
     "metadata": {},
     "output_type": "execute_result"
    }
   ],
   "source": [
    "df[df['label'] == \"building\"]"
   ]
  },
  {
   "cell_type": "markdown",
   "metadata": {},
   "source": [
    "## Clean & Lemmatize (~Tokenize)"
   ]
  },
  {
   "cell_type": "code",
   "execution_count": 5,
   "metadata": {},
   "outputs": [],
   "source": [
    "def clean(txt_lst):   \n",
    "    def clean_text(text, remove_stopwords = True):\n",
    "        text = text.lower()\n",
    "        text = re.sub(r'https?:\\/\\/.*[\\r\\n]*', '', text, flags=re.MULTILINE)\n",
    "        text = re.sub(r'\\<a href', ' ', text)\n",
    "        text = re.sub(r'&amp;', '', text) \n",
    "        text = re.sub(r'[_\"\\-;%()|+&=*%.,!?:#$@\\[\\]/]', ' ', text)\n",
    "        text = re.sub(r'<br />', ' ', text)\n",
    "        text = re.sub(r'\\'', ' ', text)\n",
    "        if remove_stopwords:\n",
    "            text = text.split()\n",
    "            stops = set(stopwords.words(\"english\"))\n",
    "            text = [w for w in text if not w in stops]\n",
    "            text = \" \".join(text)\n",
    "        return nltk.WordPunctTokenizer().tokenize(text)\n",
    "    return list(map(clean_text, txt_lst))\n",
    "\n",
    "def lemmatize(txt_lst):\n",
    "    lemm = nltk.stem.WordNetLemmatizer()\n",
    "    return list(map(lambda word: list(map(lemm.lemmatize, word)),\n",
    "                    txt_lst))\n",
    "\n",
    "df['cleaned'] = clean(df['sentence'])\n",
    "df['lemmatized'] = lemmatize(df['cleaned'])  "
   ]
  },
  {
   "cell_type": "code",
   "execution_count": 6,
   "metadata": {},
   "outputs": [
    {
     "data": {
      "text/plain": [
       "<bound method NDFrame.head of           label                                           sentence  \\\n",
       "0      building  The earthquake led to the collapse of 72 build...   \n",
       "1      building  Collapsed reinforced concrete buildings were l...   \n",
       "2      building     They show photos of three collapsed buildings.   \n",
       "3      building  Specifically, it shows the photo of a 6-story ...   \n",
       "4      building  There is no particular plan or elevation irreg...   \n",
       "..          ...                                                ...   \n",
       "126  resilience  Regarding the consequences of the earthquake, ...   \n",
       "127  resilience  Regarding economic losses, this USGS tool also...   \n",
       "128  resilience  Still, this event is another reminder of the p...   \n",
       "129  resilience  Similar to the Mw 6.5 Idaho earthquake, had th...   \n",
       "130  resilience  A potential complication in that case would be...   \n",
       "\n",
       "                                               cleaned  \\\n",
       "0    [earthquake, led, collapse, 72, buildings, inc...   \n",
       "1    [collapsed, reinforced, concrete, buildings, l...   \n",
       "2          [show, photos, three, collapsed, buildings]   \n",
       "3    [specifically, shows, photo, 6, story, reinfor...   \n",
       "4    [particular, plan, elevation, irregularity, ob...   \n",
       "..                                                 ...   \n",
       "126  [regarding, consequences, earthquake, usgs, pa...   \n",
       "127  [regarding, economic, losses, usgs, tool, also...   \n",
       "128  [still, event, another, reminder, potential, m...   \n",
       "129  [similar, mw, 6, 5, idaho, earthquake, earthqu...   \n",
       "130  [potential, complication, case, would, due, no...   \n",
       "\n",
       "                                            lemmatized  \n",
       "0    [earthquake, led, collapse, 72, building, incl...  \n",
       "1    [collapsed, reinforced, concrete, building, lo...  \n",
       "2            [show, photo, three, collapsed, building]  \n",
       "3    [specifically, show, photo, 6, story, reinforc...  \n",
       "4    [particular, plan, elevation, irregularity, ob...  \n",
       "..                                                 ...  \n",
       "126  [regarding, consequence, earthquake, usgs, pag...  \n",
       "127  [regarding, economic, loss, usgs, tool, also, ...  \n",
       "128  [still, event, another, reminder, potential, m...  \n",
       "129  [similar, mw, 6, 5, idaho, earthquake, earthqu...  \n",
       "130  [potential, complication, case, would, due, no...  \n",
       "\n",
       "[131 rows x 4 columns]>"
      ]
     },
     "execution_count": 6,
     "metadata": {},
     "output_type": "execute_result"
    }
   ],
   "source": [
    "df.head"
   ]
  },
  {
   "cell_type": "markdown",
   "metadata": {},
   "source": [
    "## Vectorize BOW and Split for training/testing"
   ]
  },
  {
   "cell_type": "code",
   "execution_count": 7,
   "metadata": {},
   "outputs": [],
   "source": [
    "train_data, test_data = sklearn.model_selection.train_test_split(df, train_size = 0.65, random_state=42)"
   ]
  },
  {
   "cell_type": "code",
   "execution_count": 8,
   "metadata": {},
   "outputs": [],
   "source": [
    "bow_converter = CountVectorizer(tokenizer=lambda doc: doc, lowercase=False)\n",
    "\n",
    "x_train = bow_converter.fit_transform(train_data['cleaned'])\n",
    "x_test = bow_converter.transform(test_data['cleaned'])\n",
    "\n",
    "y_train = train_data[\"label\"]\n",
    "y_test = test_data[\"label\"]"
   ]
  },
  {
   "cell_type": "markdown",
   "metadata": {},
   "source": [
    "## Softmax Regression for Classification"
   ]
  },
  {
   "cell_type": "code",
   "execution_count": 9,
   "metadata": {},
   "outputs": [
    {
     "name": "stdout",
     "output_type": "stream",
     "text": [
      "Train Score:  1.0\n",
      "Test Score:  0.7391304347826086\n"
     ]
    }
   ],
   "source": [
    "model = LogisticRegression(C=1).fit(x_train, y_train)\n",
    "train_score = model.score(x_train, y_train)\n",
    "test_score = model.score(x_test, y_test)\n",
    "print('Train Score: ', train_score)\n",
    "print('Test Score: ', test_score)\n",
    "\n",
    "max_test_score = 0\n",
    "\n",
    "\n",
    "# w/ Elastic Penalty\n",
    "\n",
    "# for C in np.linspace(0, 3, 20):\n",
    "#     for r in np.linspace(0, 1, 20):\n",
    "#         model = LogisticRegression(penalty='elasticnet', \n",
    "#                                    C=2, solver='saga', l1_ratio=r).fit(x_train, y_train)\n",
    "#         test_score = model.score(x_test, y_test)\n",
    "#         if test_score > max_test_score:\n",
    "#             max_test_score = test_score\n",
    "\n",
    "# print('Test Score: ', train_score)\n",
    "# print('Test Score: ', max_test_score)"
   ]
  },
  {
   "cell_type": "markdown",
   "metadata": {},
   "source": [
    "### Confusion Matrix (Softmax)"
   ]
  },
  {
   "cell_type": "markdown",
   "metadata": {},
   "source": [
    "## SVM"
   ]
  },
  {
   "cell_type": "code",
   "execution_count": 10,
   "metadata": {
    "scrolled": true
   },
   "outputs": [
    {
     "name": "stdout",
     "output_type": "stream",
     "text": [
      "Train Score:  1.0\n",
      "Test Score:  0.717391304347826\n"
     ]
    }
   ],
   "source": [
    "model = svm.LinearSVC()\n",
    "model.fit(x_train, y_train)\n",
    "train_score = model.score(x_train, y_train)\n",
    "test_score = model.score(x_test, y_test)\n",
    "print('Train Score: ', train_score)\n",
    "print('Test Score: ', test_score)\n",
    "\n",
    "max_test_score = 0"
   ]
  },
  {
   "cell_type": "markdown",
   "metadata": {},
   "source": [
    "### Confusion Matrix (SVM)"
   ]
  }
 ],
 "metadata": {
  "kernelspec": {
   "display_name": "Python 3",
   "language": "python",
   "name": "python3"
  },
  "language_info": {
   "codemirror_mode": {
    "name": "ipython",
    "version": 3
   },
   "file_extension": ".py",
   "mimetype": "text/x-python",
   "name": "python",
   "nbconvert_exporter": "python",
   "pygments_lexer": "ipython3",
   "version": "3.7.4"
  }
 },
 "nbformat": 4,
 "nbformat_minor": 4
}
