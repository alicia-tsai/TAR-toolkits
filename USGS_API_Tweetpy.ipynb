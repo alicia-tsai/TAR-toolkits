{
 "cells": [
  {
   "cell_type": "code",
   "execution_count": 2,
   "metadata": {},
   "outputs": [],
   "source": [
    "import os\n",
    "import requests\n",
    "import tweepy as tw\n",
    "import pandas as pd\n",
    "from datetime import date"
   ]
  },
  {
   "cell_type": "code",
   "execution_count": 93,
   "metadata": {},
   "outputs": [
    {
     "name": "stdout",
     "output_type": "stream",
     "text": [
      "1 earthquake in past 30 days.\n"
     ]
    }
   ],
   "source": [
    "# Query earthquake with magnatuide >= 5 and alert level orange (yellow, orange, red)\n",
    "URL = \"https://earthquake.usgs.gov/fdsnws/event/1/query?format=geojson&minmagnitude=5&alertlevel=orange\"\n",
    "response = requests.get(URL)\n",
    "earthquakes = response.json()['features']\n",
    "print(len(earthquakes), \"earthquake in past 30 days.\")"
   ]
  },
  {
   "cell_type": "code",
   "execution_count": 96,
   "metadata": {},
   "outputs": [
    {
     "data": {
      "text/plain": [
       "[{'geometry': {'coordinates': [47.5577, 37.8075, 10], 'type': 'Point'},\n",
       "  'id': 'us600068w0',\n",
       "  'properties': {'alert': 'orange',\n",
       "   'cdi': 7.9,\n",
       "   'code': '600068w0',\n",
       "   'detail': 'https://earthquake.usgs.gov/fdsnws/event/1/query?eventid=us600068w0&format=geojson',\n",
       "   'dmin': 2.744,\n",
       "   'felt': 623,\n",
       "   'gap': 20,\n",
       "   'ids': ',us600068w0,',\n",
       "   'mag': 5.9,\n",
       "   'magType': 'mww',\n",
       "   'mmi': 7.785,\n",
       "   'net': 'us',\n",
       "   'nst': None,\n",
       "   'place': '57km NE of Hashtrud, Iran',\n",
       "   'rms': 0.63,\n",
       "   'sig': 1492,\n",
       "   'sources': ',us,',\n",
       "   'status': 'reviewed',\n",
       "   'time': 1573166825428,\n",
       "   'title': 'M 5.9 - 57km NE of Hashtrud, Iran',\n",
       "   'tsunami': 0,\n",
       "   'type': 'earthquake',\n",
       "   'types': ',dyfi,general-text,geoserve,ground-failure,impact-text,losspager,losspager-admin,moment-tensor,origin,phase-data,shakemap,',\n",
       "   'tz': 210,\n",
       "   'updated': 1573529037875,\n",
       "   'url': 'https://earthquake.usgs.gov/earthquakes/eventpage/us600068w0'},\n",
       "  'type': 'Feature'}]"
      ]
     },
     "execution_count": 96,
     "metadata": {},
     "output_type": "execute_result"
    }
   ],
   "source": [
    "earthquakes"
   ]
  },
  {
   "cell_type": "code",
   "execution_count": 97,
   "metadata": {},
   "outputs": [],
   "source": [
    "def get_tweet(keys, search_words, since_date=str(date.today()), max_item=500, lang=\"en\", geocode=None):\n",
    "    consumer_key, consumer_secret, access_token, access_token_secret = keys\n",
    "    auth = tw.OAuthHandler(consumer_key, consumer_secret)\n",
    "    auth.set_access_token(access_token, access_token_secret)\n",
    "    api = tw.API(auth, wait_on_rate_limit=True)\n",
    "    \n",
    "    # Define the search term and date\n",
    "    search_words = search_words + \" -filter:retweets\"\n",
    "\n",
    "    # Collect tweets\n",
    "    tweets = tw.Cursor(api.search, q=search_words, lang=lang, geocode=geocode, since=today).items(max_item)\n",
    "\n",
    "    users_locs = [[tweet.user.screen_name, tweet.user.location,\n",
    "                   tweet.created_at, tweet.coordinates, tweet.text] for tweet in tweets]\n",
    "    tweet_text = pd.DataFrame(data=users_locs, columns=['user', \"location\", \"date\", \"coordinates\", \"content\"])\n",
    "    \n",
    "    return tweet_text"
   ]
  },
  {
   "cell_type": "code",
   "execution_count": 113,
   "metadata": {},
   "outputs": [],
   "source": [
    "consumer_key = 'vi360ysd3PGoNN0ZrpexlhMGi'\n",
    "consumer_secret = 'ZRQLsBhRa8FLfOT2OfpZoKZucHcEKvcj9OWrWIsDAa4i575T78'\n",
    "access_token = '1164687316713009152-KRzfNTvtWTwANW13TsHNv2wsLitbZZ'\n",
    "access_token_secret = 'YFwLyzwmIClv0VhOPko8i6Adss8macOzFOIBF8l6iKKSs'\n",
    "\n",
    "keys = [consumer_key, consumer_secret, access_token, access_token_secret]\n",
    "earthquake_tweet = {}\n",
    "\n",
    "for i in range(len(earthquakes)):\n",
    "    location = earthquakes[i][\"properties\"][\"place\"].split()[-1] # get earthquake location\n",
    "    search_words = location + \"+earthquake\"\n",
    "    tweet_text = get_tweet(keys, search_words)\n",
    "    earthquake_tweet[location] = tweet_text"
   ]
  },
  {
   "cell_type": "code",
   "execution_count": 117,
   "metadata": {},
   "outputs": [
    {
     "data": {
      "text/html": [
       "<div>\n",
       "<style scoped>\n",
       "    .dataframe tbody tr th:only-of-type {\n",
       "        vertical-align: middle;\n",
       "    }\n",
       "\n",
       "    .dataframe tbody tr th {\n",
       "        vertical-align: top;\n",
       "    }\n",
       "\n",
       "    .dataframe thead th {\n",
       "        text-align: right;\n",
       "    }\n",
       "</style>\n",
       "<table border=\"1\" class=\"dataframe\">\n",
       "  <thead>\n",
       "    <tr style=\"text-align: right;\">\n",
       "      <th></th>\n",
       "      <th>user</th>\n",
       "      <th>location</th>\n",
       "      <th>date</th>\n",
       "      <th>coordinates</th>\n",
       "      <th>content</th>\n",
       "    </tr>\n",
       "  </thead>\n",
       "  <tbody>\n",
       "    <tr>\n",
       "      <th>0</th>\n",
       "      <td>opalessense</td>\n",
       "      <td>Artist Galerie Paul Janssen</td>\n",
       "      <td>2019-11-18 06:26:17</td>\n",
       "      <td>None</td>\n",
       "      <td>Magnitude 5.9 Earthquake - Iran - Nov. 8, 2019...</td>\n",
       "    </tr>\n",
       "    <tr>\n",
       "      <th>1</th>\n",
       "      <td>zachsdorfman</td>\n",
       "      <td>\"A Born Spy\"--Richard Nixon</td>\n",
       "      <td>2019-11-18 06:26:00</td>\n",
       "      <td>None</td>\n",
       "      <td>This is an earthquake. \\n\\nhttps://t.co/0E1zwn...</td>\n",
       "    </tr>\n",
       "    <tr>\n",
       "      <th>2</th>\n",
       "      <td>livewxradar</td>\n",
       "      <td>USA</td>\n",
       "      <td>2019-11-18 03:22:00</td>\n",
       "      <td>None</td>\n",
       "      <td>4.0 Earthquake 41 mi (66 km) WNW of Herowabad,...</td>\n",
       "    </tr>\n",
       "    <tr>\n",
       "      <th>3</th>\n",
       "      <td>Earthquakes0</td>\n",
       "      <td>World</td>\n",
       "      <td>2019-11-18 02:44:08</td>\n",
       "      <td>None</td>\n",
       "      <td>2 hrs ago #earthquake 4.0 has hit East Azerbai...</td>\n",
       "    </tr>\n",
       "    <tr>\n",
       "      <th>4</th>\n",
       "      <td>geotecniaonline</td>\n",
       "      <td>Ciberespacio</td>\n",
       "      <td>2019-11-18 01:01:17</td>\n",
       "      <td>None</td>\n",
       "      <td>EQAlerts: #Earthquake M4.0 66km WNW of Herowab...</td>\n",
       "    </tr>\n",
       "    <tr>\n",
       "      <th>5</th>\n",
       "      <td>quakenotices</td>\n",
       "      <td>California</td>\n",
       "      <td>2019-11-18 01:01:07</td>\n",
       "      <td>None</td>\n",
       "      <td>#earthquake  2019-11-18 00:38:41 (M4.0) northw...</td>\n",
       "    </tr>\n",
       "    <tr>\n",
       "      <th>6</th>\n",
       "      <td>earthshook</td>\n",
       "      <td></td>\n",
       "      <td>2019-11-18 00:58:38</td>\n",
       "      <td>{'type': 'Point', 'coordinates': [47.7997, 37....</td>\n",
       "      <td>Mb 4 earthquake (reviewed) occured at 2019-11-...</td>\n",
       "    </tr>\n",
       "    <tr>\n",
       "      <th>7</th>\n",
       "      <td>EMSC</td>\n",
       "      <td>Bruyères-Le-Chatel, France</td>\n",
       "      <td>2019-11-18 00:57:25</td>\n",
       "      <td>None</td>\n",
       "      <td>#Earthquake (#زلزله) M4.0 strikes 70 km SW of ...</td>\n",
       "    </tr>\n",
       "    <tr>\n",
       "      <th>8</th>\n",
       "      <td>myearthquakeapp</td>\n",
       "      <td>Earth</td>\n",
       "      <td>2019-11-18 00:57:14</td>\n",
       "      <td>None</td>\n",
       "      <td>4.0 earthquake occurred near northwestern Iran...</td>\n",
       "    </tr>\n",
       "  </tbody>\n",
       "</table>\n",
       "</div>"
      ],
      "text/plain": [
       "              user                     location                date  \\\n",
       "0      opalessense  Artist Galerie Paul Janssen 2019-11-18 06:26:17   \n",
       "1     zachsdorfman  \"A Born Spy\"--Richard Nixon 2019-11-18 06:26:00   \n",
       "2      livewxradar                          USA 2019-11-18 03:22:00   \n",
       "3     Earthquakes0                        World 2019-11-18 02:44:08   \n",
       "4  geotecniaonline                 Ciberespacio 2019-11-18 01:01:17   \n",
       "5     quakenotices                   California 2019-11-18 01:01:07   \n",
       "6       earthshook                              2019-11-18 00:58:38   \n",
       "7             EMSC   Bruyères-Le-Chatel, France 2019-11-18 00:57:25   \n",
       "8  myearthquakeapp                        Earth 2019-11-18 00:57:14   \n",
       "\n",
       "                                         coordinates  \\\n",
       "0                                               None   \n",
       "1                                               None   \n",
       "2                                               None   \n",
       "3                                               None   \n",
       "4                                               None   \n",
       "5                                               None   \n",
       "6  {'type': 'Point', 'coordinates': [47.7997, 37....   \n",
       "7                                               None   \n",
       "8                                               None   \n",
       "\n",
       "                                             content  \n",
       "0  Magnitude 5.9 Earthquake - Iran - Nov. 8, 2019...  \n",
       "1  This is an earthquake. \\n\\nhttps://t.co/0E1zwn...  \n",
       "2  4.0 Earthquake 41 mi (66 km) WNW of Herowabad,...  \n",
       "3  2 hrs ago #earthquake 4.0 has hit East Azerbai...  \n",
       "4  EQAlerts: #Earthquake M4.0 66km WNW of Herowab...  \n",
       "5  #earthquake  2019-11-18 00:38:41 (M4.0) northw...  \n",
       "6  Mb 4 earthquake (reviewed) occured at 2019-11-...  \n",
       "7  #Earthquake (#زلزله) M4.0 strikes 70 km SW of ...  \n",
       "8  4.0 earthquake occurred near northwestern Iran...  "
      ]
     },
     "execution_count": 117,
     "metadata": {},
     "output_type": "execute_result"
    }
   ],
   "source": [
    "earthquake_tweet[\"Iran\"]"
   ]
  },
  {
   "cell_type": "code",
   "execution_count": null,
   "metadata": {},
   "outputs": [],
   "source": []
  }
 ],
 "metadata": {
  "kernelspec": {
   "display_name": "Python 3",
   "language": "python",
   "name": "python3"
  },
  "language_info": {
   "codemirror_mode": {
    "name": "ipython",
    "version": 3
   },
   "file_extension": ".py",
   "mimetype": "text/x-python",
   "name": "python",
   "nbconvert_exporter": "python",
   "pygments_lexer": "ipython3",
   "version": "3.6.2"
  }
 },
 "nbformat": 4,
 "nbformat_minor": 2
}
